{
 "cells": [
  {
   "cell_type": "markdown",
   "metadata": {},
   "source": [
    "## T 데이터 허브 데이터\n",
    "- T-map 데이터 2020 1~6월까지 데이터 받아옴"
   ]
  },
  {
   "cell_type": "code",
   "execution_count": 1,
   "metadata": {},
   "outputs": [],
   "source": [
    "import pandas as pd\n",
    "import matplotlib.pyplot as plt\n",
    "import matplotlib as mpl\n",
    "from pandas import DataFrame\n",
    "from pandas import Series\n",
    "import numpy as np\n",
    "%matplotlib inline\n",
    "from matplotlib import font_manager, rc"
   ]
  },
  {
   "cell_type": "code",
   "execution_count": 2,
   "metadata": {},
   "outputs": [],
   "source": [
    "font_name = font_manager.FontProperties(fname=\"c:/Windows/Fonts/malgun.ttf\").get_name()\n",
    "rc('font', family=font_name)"
   ]
  },
  {
   "cell_type": "code",
   "execution_count": 3,
   "metadata": {},
   "outputs": [],
   "source": [
    "t_2004=pd.read_csv('real/t_map/Tmap_2004.csv')\n",
    "t_2003=pd.read_csv('real/t_map/Tmap_2003.csv')\n",
    "t_2002=pd.read_csv('real/t_map/Tmap_2002.csv')\n",
    "t_2001=pd.read_csv('real/t_map/Tmap_2001.csv')"
   ]
  },
  {
   "cell_type": "code",
   "execution_count": 4,
   "metadata": {},
   "outputs": [],
   "source": [
    "#2020-05월 데이터\n",
    "t_2005=pd.read_csv('real/t_map/Tmap_2005.csv')"
   ]
  },
  {
   "cell_type": "code",
   "execution_count": 5,
   "metadata": {},
   "outputs": [],
   "source": [
    "#2020 1~6월 데이터\n",
    "t_2006=pd.read_csv('real/t_map/Tmap_2006.csv')"
   ]
  },
  {
   "cell_type": "code",
   "execution_count": 47,
   "metadata": {},
   "outputs": [
    {
     "data": {
      "text/html": [
       "<div>\n",
       "<style scoped>\n",
       "    .dataframe tbody tr th:only-of-type {\n",
       "        vertical-align: middle;\n",
       "    }\n",
       "\n",
       "    .dataframe tbody tr th {\n",
       "        vertical-align: top;\n",
       "    }\n",
       "\n",
       "    .dataframe thead th {\n",
       "        text-align: right;\n",
       "    }\n",
       "</style>\n",
       "<table border=\"1\" class=\"dataframe\">\n",
       "  <thead>\n",
       "    <tr style=\"text-align: right;\">\n",
       "      <th></th>\n",
       "      <th>일자</th>\n",
       "      <th>지역(시도)</th>\n",
       "      <th>지역(시군구)</th>\n",
       "      <th>검색지명</th>\n",
       "      <th>검색지유형1</th>\n",
       "      <th>검색지유형2</th>\n",
       "      <th>검색지유형3</th>\n",
       "      <th>검색지랭킹(시군구내)</th>\n",
       "    </tr>\n",
       "  </thead>\n",
       "  <tbody>\n",
       "    <tr>\n",
       "      <th>0</th>\n",
       "      <td>20200311</td>\n",
       "      <td>경기</td>\n",
       "      <td>평택시</td>\n",
       "      <td>삼성전자평택캠퍼스</td>\n",
       "      <td>기업/단체</td>\n",
       "      <td>주요그룹</td>\n",
       "      <td>삼성</td>\n",
       "      <td>1</td>\n",
       "    </tr>\n",
       "    <tr>\n",
       "      <th>1</th>\n",
       "      <td>20200311</td>\n",
       "      <td>경기</td>\n",
       "      <td>평택시</td>\n",
       "      <td>LG전자평택디지털파크</td>\n",
       "      <td>기업/단체</td>\n",
       "      <td>주요그룹</td>\n",
       "      <td>LG</td>\n",
       "      <td>2</td>\n",
       "    </tr>\n",
       "    <tr>\n",
       "      <th>2</th>\n",
       "      <td>20200311</td>\n",
       "      <td>경기</td>\n",
       "      <td>평택시</td>\n",
       "      <td>이마트평택점</td>\n",
       "      <td>쇼핑</td>\n",
       "      <td>대형유통점</td>\n",
       "      <td>할인점</td>\n",
       "      <td>3</td>\n",
       "    </tr>\n",
       "    <tr>\n",
       "      <th>3</th>\n",
       "      <td>20200311</td>\n",
       "      <td>경기</td>\n",
       "      <td>평택시</td>\n",
       "      <td>평택시청</td>\n",
       "      <td>공공편의</td>\n",
       "      <td>행정기관</td>\n",
       "      <td>도/시/구/군청</td>\n",
       "      <td>4</td>\n",
       "    </tr>\n",
       "    <tr>\n",
       "      <th>4</th>\n",
       "      <td>20200311</td>\n",
       "      <td>경기</td>\n",
       "      <td>평택시</td>\n",
       "      <td>평택센트럴자이3단지아파트</td>\n",
       "      <td>건물/시설</td>\n",
       "      <td>주요건물</td>\n",
       "      <td>아파트브랜드</td>\n",
       "      <td>5</td>\n",
       "    </tr>\n",
       "  </tbody>\n",
       "</table>\n",
       "</div>"
      ],
      "text/plain": [
       "         일자 지역(시도) 지역(시군구)           검색지명 검색지유형1 검색지유형2    검색지유형3  검색지랭킹(시군구내)\n",
       "0  20200311     경기     평택시      삼성전자평택캠퍼스  기업/단체   주요그룹        삼성            1\n",
       "1  20200311     경기     평택시    LG전자평택디지털파크  기업/단체   주요그룹        LG            2\n",
       "2  20200311     경기     평택시         이마트평택점     쇼핑  대형유통점       할인점            3\n",
       "3  20200311     경기     평택시           평택시청   공공편의   행정기관  도/시/구/군청            4\n",
       "4  20200311     경기     평택시  평택센트럴자이3단지아파트  건물/시설   주요건물    아파트브랜드            5"
      ]
     },
     "execution_count": 47,
     "metadata": {},
     "output_type": "execute_result"
    }
   ],
   "source": [
    "t_2003.head()"
   ]
  },
  {
   "cell_type": "code",
   "execution_count": 97,
   "metadata": {},
   "outputs": [],
   "source": [
    "t_2006.columns=[\"date\",\"region1\",\"region2\",\"base\",\"type1\",\"type2\",\"type3\",\"ranking\"]"
   ]
  },
  {
   "cell_type": "code",
   "execution_count": 98,
   "metadata": {},
   "outputs": [
    {
     "data": {
      "text/plain": [
       "아파트단지     29207\n",
       "아파트브랜드    23346\n",
       "한식        10213\n",
       "골프장       10194\n",
       "할인점       10101\n",
       "          ...  \n",
       "스케이트장         1\n",
       "체육단체          1\n",
       "운전면허학원        1\n",
       "의류            1\n",
       "자동차부품점        1\n",
       "Name: type3, Length: 337, dtype: int64"
      ]
     },
     "execution_count": 98,
     "metadata": {},
     "output_type": "execute_result"
    }
   ],
   "source": [
    "value_counts=t_2006['type3'].value_counts()\n",
    "value_counts"
   ]
  },
  {
   "cell_type": "code",
   "execution_count": 99,
   "metadata": {},
   "outputs": [
    {
     "data": {
      "text/html": [
       "<div>\n",
       "<style scoped>\n",
       "    .dataframe tbody tr th:only-of-type {\n",
       "        vertical-align: middle;\n",
       "    }\n",
       "\n",
       "    .dataframe tbody tr th {\n",
       "        vertical-align: top;\n",
       "    }\n",
       "\n",
       "    .dataframe thead th {\n",
       "        text-align: right;\n",
       "    }\n",
       "</style>\n",
       "<table border=\"1\" class=\"dataframe\">\n",
       "  <thead>\n",
       "    <tr style=\"text-align: right;\">\n",
       "      <th></th>\n",
       "      <th>date</th>\n",
       "      <th>region1</th>\n",
       "      <th>region2</th>\n",
       "      <th>base</th>\n",
       "      <th>type1</th>\n",
       "      <th>type2</th>\n",
       "      <th>type3</th>\n",
       "      <th>ranking</th>\n",
       "    </tr>\n",
       "  </thead>\n",
       "  <tbody>\n",
       "    <tr>\n",
       "      <th>0</th>\n",
       "      <td>20200605</td>\n",
       "      <td>강원</td>\n",
       "      <td>강릉시</td>\n",
       "      <td>강릉아산병원</td>\n",
       "      <td>의료편의</td>\n",
       "      <td>의료시설</td>\n",
       "      <td>종합병원</td>\n",
       "      <td>1</td>\n",
       "    </tr>\n",
       "    <tr>\n",
       "      <th>1</th>\n",
       "      <td>20200605</td>\n",
       "      <td>강원</td>\n",
       "      <td>강릉시</td>\n",
       "      <td>강릉시청</td>\n",
       "      <td>공공편의</td>\n",
       "      <td>행정기관</td>\n",
       "      <td>도/시/구/군청</td>\n",
       "      <td>2</td>\n",
       "    </tr>\n",
       "    <tr>\n",
       "      <th>2</th>\n",
       "      <td>20200605</td>\n",
       "      <td>강원</td>\n",
       "      <td>강릉시</td>\n",
       "      <td>주문진수산시장</td>\n",
       "      <td>쇼핑</td>\n",
       "      <td>시장</td>\n",
       "      <td>농수축산물시장</td>\n",
       "      <td>3</td>\n",
       "    </tr>\n",
       "    <tr>\n",
       "      <th>3</th>\n",
       "      <td>20200605</td>\n",
       "      <td>강원</td>\n",
       "      <td>강릉시</td>\n",
       "      <td>테라로사커피공장</td>\n",
       "      <td>생활편의</td>\n",
       "      <td>카페</td>\n",
       "      <td>커피전문점</td>\n",
       "      <td>4</td>\n",
       "    </tr>\n",
       "    <tr>\n",
       "      <th>4</th>\n",
       "      <td>20200605</td>\n",
       "      <td>강원</td>\n",
       "      <td>강릉시</td>\n",
       "      <td>라카이샌드파인리조트</td>\n",
       "      <td>여행/레저</td>\n",
       "      <td>숙박</td>\n",
       "      <td>콘도/리조트</td>\n",
       "      <td>5</td>\n",
       "    </tr>\n",
       "  </tbody>\n",
       "</table>\n",
       "</div>"
      ],
      "text/plain": [
       "       date region1 region2        base  type1 type2     type3  ranking\n",
       "0  20200605      강원     강릉시      강릉아산병원   의료편의  의료시설      종합병원        1\n",
       "1  20200605      강원     강릉시        강릉시청   공공편의  행정기관  도/시/구/군청        2\n",
       "2  20200605      강원     강릉시     주문진수산시장     쇼핑    시장   농수축산물시장        3\n",
       "3  20200605      강원     강릉시    테라로사커피공장   생활편의    카페     커피전문점        4\n",
       "4  20200605      강원     강릉시  라카이샌드파인리조트  여행/레저    숙박    콘도/리조트        5"
      ]
     },
     "execution_count": 99,
     "metadata": {},
     "output_type": "execute_result"
    }
   ],
   "source": [
    "t_2006.head()"
   ]
  },
  {
   "cell_type": "markdown",
   "metadata": {},
   "source": [
    "## 20년도 월 자료 캠프장만"
   ]
  },
  {
   "cell_type": "code",
   "execution_count": 100,
   "metadata": {},
   "outputs": [],
   "source": [
    "t_2006=t_2006[t_2006['type1']=='여행/레저']"
   ]
  },
  {
   "cell_type": "code",
   "execution_count": 11,
   "metadata": {
    "scrolled": true
   },
   "outputs": [],
   "source": [
    "# alpha=alpha['region1']\n",
    "# alpha"
   ]
  },
  {
   "cell_type": "code",
   "execution_count": 12,
   "metadata": {},
   "outputs": [],
   "source": [
    "# omega=alpha.drop_duplicates()\n",
    "# omega"
   ]
  },
  {
   "cell_type": "code",
   "execution_count": 101,
   "metadata": {},
   "outputs": [
    {
     "data": {
      "text/html": [
       "<div>\n",
       "<style scoped>\n",
       "    .dataframe tbody tr th:only-of-type {\n",
       "        vertical-align: middle;\n",
       "    }\n",
       "\n",
       "    .dataframe tbody tr th {\n",
       "        vertical-align: top;\n",
       "    }\n",
       "\n",
       "    .dataframe thead th {\n",
       "        text-align: right;\n",
       "    }\n",
       "</style>\n",
       "<table border=\"1\" class=\"dataframe\">\n",
       "  <thead>\n",
       "    <tr style=\"text-align: right;\">\n",
       "      <th></th>\n",
       "      <th>date</th>\n",
       "      <th>region1</th>\n",
       "      <th>region2</th>\n",
       "      <th>base</th>\n",
       "      <th>type1</th>\n",
       "      <th>type2</th>\n",
       "      <th>type3</th>\n",
       "      <th>ranking</th>\n",
       "    </tr>\n",
       "  </thead>\n",
       "  <tbody>\n",
       "    <tr>\n",
       "      <th>4</th>\n",
       "      <td>20200605</td>\n",
       "      <td>강원</td>\n",
       "      <td>강릉시</td>\n",
       "      <td>라카이샌드파인리조트</td>\n",
       "      <td>여행/레저</td>\n",
       "      <td>숙박</td>\n",
       "      <td>콘도/리조트</td>\n",
       "      <td>5</td>\n",
       "    </tr>\n",
       "    <tr>\n",
       "      <th>6</th>\n",
       "      <td>20200605</td>\n",
       "      <td>강원</td>\n",
       "      <td>강릉시</td>\n",
       "      <td>세인트존스호텔</td>\n",
       "      <td>여행/레저</td>\n",
       "      <td>숙박</td>\n",
       "      <td>호텔</td>\n",
       "      <td>7</td>\n",
       "    </tr>\n",
       "    <tr>\n",
       "      <th>7</th>\n",
       "      <td>20200605</td>\n",
       "      <td>강원</td>\n",
       "      <td>강릉시</td>\n",
       "      <td>정동진</td>\n",
       "      <td>여행/레저</td>\n",
       "      <td>관광명소</td>\n",
       "      <td>관광단지</td>\n",
       "      <td>8</td>\n",
       "    </tr>\n",
       "    <tr>\n",
       "      <th>9</th>\n",
       "      <td>20200605</td>\n",
       "      <td>강원</td>\n",
       "      <td>강릉시</td>\n",
       "      <td>스카이베이경포호텔</td>\n",
       "      <td>여행/레저</td>\n",
       "      <td>숙박</td>\n",
       "      <td>호텔</td>\n",
       "      <td>10</td>\n",
       "    </tr>\n",
       "    <tr>\n",
       "      <th>10</th>\n",
       "      <td>20200605</td>\n",
       "      <td>강원</td>\n",
       "      <td>강릉시</td>\n",
       "      <td>안목해변</td>\n",
       "      <td>여행/레저</td>\n",
       "      <td>관광명소</td>\n",
       "      <td>해수욕장</td>\n",
       "      <td>11</td>\n",
       "    </tr>\n",
       "  </tbody>\n",
       "</table>\n",
       "</div>"
      ],
      "text/plain": [
       "        date region1 region2        base  type1 type2   type3  ranking\n",
       "4   20200605      강원     강릉시  라카이샌드파인리조트  여행/레저    숙박  콘도/리조트        5\n",
       "6   20200605      강원     강릉시     세인트존스호텔  여행/레저    숙박      호텔        7\n",
       "7   20200605      강원     강릉시         정동진  여행/레저  관광명소    관광단지        8\n",
       "9   20200605      강원     강릉시   스카이베이경포호텔  여행/레저    숙박      호텔       10\n",
       "10  20200605      강원     강릉시        안목해변  여행/레저  관광명소    해수욕장       11"
      ]
     },
     "execution_count": 101,
     "metadata": {},
     "output_type": "execute_result"
    }
   ],
   "source": [
    "t_2006.head()"
   ]
  },
  {
   "cell_type": "code",
   "execution_count": 102,
   "metadata": {},
   "outputs": [],
   "source": [
    "count_1=len(t_2006[t_2006['region1']=='강원'])\n",
    "count_2=len(t_2006[t_2006['region1']=='경기'])\n",
    "count_3=len(t_2006[t_2006['region1']=='경남'])\n",
    "count_4=len(t_2006[t_2006['region1']=='경북'])\n",
    "count_5=len(t_2006[t_2006['region1']=='전북'])\n",
    "count_6=len(t_2006[t_2006['region1']=='전남'])\n",
    "count_7=len(t_2006[t_2006['region1']=='인천'])\n",
    "count_8=len(t_2006[t_2006['region1']=='충남'])\n",
    "count_9=len(t_2006[t_2006['region1']=='충북'])\n",
    "count_10=len(t_2006[t_2006['region1']=='울산'])\n",
    "count_11=len(t_2006[t_2006['region1']=='광주'])\n",
    "count_12=len(t_2006[t_2006['region1']=='대전'])\n",
    "count_13=len(t_2006[t_2006['region1']=='부산'])"
   ]
  },
  {
   "cell_type": "code",
   "execution_count": 103,
   "metadata": {},
   "outputs": [
    {
     "data": {
      "text/plain": [
       "6773"
      ]
     },
     "execution_count": 103,
     "metadata": {},
     "output_type": "execute_result"
    }
   ],
   "source": [
    "count_1"
   ]
  },
  {
   "cell_type": "code",
   "execution_count": 104,
   "metadata": {
    "scrolled": false
   },
   "outputs": [
    {
     "name": "stderr",
     "output_type": "stream",
     "text": [
      "<ipython-input-104-a5b794878f92>:2: SettingWithCopyWarning: \n",
      "A value is trying to be set on a copy of a slice from a DataFrame.\n",
      "Try using .loc[row_indexer,col_indexer] = value instead\n",
      "\n",
      "See the caveats in the documentation: https://pandas.pydata.org/pandas-docs/stable/user_guide/indexing.html#returning-a-view-versus-a-copy\n",
      "  t_2006['count']=0\n"
     ]
    }
   ],
   "source": [
    "#새로운 변수 추가-t map 에서 얼마나 검색했는지 \n",
    "t_2006['count']=0"
   ]
  },
  {
   "cell_type": "code",
   "execution_count": 105,
   "metadata": {},
   "outputs": [
    {
     "data": {
      "text/html": [
       "<div>\n",
       "<style scoped>\n",
       "    .dataframe tbody tr th:only-of-type {\n",
       "        vertical-align: middle;\n",
       "    }\n",
       "\n",
       "    .dataframe tbody tr th {\n",
       "        vertical-align: top;\n",
       "    }\n",
       "\n",
       "    .dataframe thead th {\n",
       "        text-align: right;\n",
       "    }\n",
       "</style>\n",
       "<table border=\"1\" class=\"dataframe\">\n",
       "  <thead>\n",
       "    <tr style=\"text-align: right;\">\n",
       "      <th></th>\n",
       "      <th>date</th>\n",
       "      <th>region1</th>\n",
       "      <th>region2</th>\n",
       "      <th>base</th>\n",
       "      <th>type1</th>\n",
       "      <th>type2</th>\n",
       "      <th>type3</th>\n",
       "      <th>ranking</th>\n",
       "      <th>count</th>\n",
       "    </tr>\n",
       "  </thead>\n",
       "  <tbody>\n",
       "    <tr>\n",
       "      <th>4</th>\n",
       "      <td>20200605</td>\n",
       "      <td>강원</td>\n",
       "      <td>강릉시</td>\n",
       "      <td>라카이샌드파인리조트</td>\n",
       "      <td>여행/레저</td>\n",
       "      <td>숙박</td>\n",
       "      <td>콘도/리조트</td>\n",
       "      <td>5</td>\n",
       "      <td>0</td>\n",
       "    </tr>\n",
       "    <tr>\n",
       "      <th>6</th>\n",
       "      <td>20200605</td>\n",
       "      <td>강원</td>\n",
       "      <td>강릉시</td>\n",
       "      <td>세인트존스호텔</td>\n",
       "      <td>여행/레저</td>\n",
       "      <td>숙박</td>\n",
       "      <td>호텔</td>\n",
       "      <td>7</td>\n",
       "      <td>0</td>\n",
       "    </tr>\n",
       "    <tr>\n",
       "      <th>7</th>\n",
       "      <td>20200605</td>\n",
       "      <td>강원</td>\n",
       "      <td>강릉시</td>\n",
       "      <td>정동진</td>\n",
       "      <td>여행/레저</td>\n",
       "      <td>관광명소</td>\n",
       "      <td>관광단지</td>\n",
       "      <td>8</td>\n",
       "      <td>0</td>\n",
       "    </tr>\n",
       "    <tr>\n",
       "      <th>9</th>\n",
       "      <td>20200605</td>\n",
       "      <td>강원</td>\n",
       "      <td>강릉시</td>\n",
       "      <td>스카이베이경포호텔</td>\n",
       "      <td>여행/레저</td>\n",
       "      <td>숙박</td>\n",
       "      <td>호텔</td>\n",
       "      <td>10</td>\n",
       "      <td>0</td>\n",
       "    </tr>\n",
       "    <tr>\n",
       "      <th>10</th>\n",
       "      <td>20200605</td>\n",
       "      <td>강원</td>\n",
       "      <td>강릉시</td>\n",
       "      <td>안목해변</td>\n",
       "      <td>여행/레저</td>\n",
       "      <td>관광명소</td>\n",
       "      <td>해수욕장</td>\n",
       "      <td>11</td>\n",
       "      <td>0</td>\n",
       "    </tr>\n",
       "    <tr>\n",
       "      <th>...</th>\n",
       "      <td>...</td>\n",
       "      <td>...</td>\n",
       "      <td>...</td>\n",
       "      <td>...</td>\n",
       "      <td>...</td>\n",
       "      <td>...</td>\n",
       "      <td>...</td>\n",
       "      <td>...</td>\n",
       "      <td>...</td>\n",
       "    </tr>\n",
       "    <tr>\n",
       "      <th>223203</th>\n",
       "      <td>20200618</td>\n",
       "      <td>강원</td>\n",
       "      <td>횡성군</td>\n",
       "      <td>알프스대영CC</td>\n",
       "      <td>여행/레저</td>\n",
       "      <td>레저/스포츠</td>\n",
       "      <td>골프장</td>\n",
       "      <td>4</td>\n",
       "      <td>0</td>\n",
       "    </tr>\n",
       "    <tr>\n",
       "      <th>223206</th>\n",
       "      <td>20200618</td>\n",
       "      <td>강원</td>\n",
       "      <td>횡성군</td>\n",
       "      <td>벨라스톤CC</td>\n",
       "      <td>여행/레저</td>\n",
       "      <td>레저/스포츠</td>\n",
       "      <td>골프장</td>\n",
       "      <td>7</td>\n",
       "      <td>0</td>\n",
       "    </tr>\n",
       "    <tr>\n",
       "      <th>223207</th>\n",
       "      <td>20200618</td>\n",
       "      <td>강원</td>\n",
       "      <td>횡성군</td>\n",
       "      <td>옥스필드CC</td>\n",
       "      <td>여행/레저</td>\n",
       "      <td>레저/스포츠</td>\n",
       "      <td>골프장</td>\n",
       "      <td>8</td>\n",
       "      <td>0</td>\n",
       "    </tr>\n",
       "    <tr>\n",
       "      <th>223210</th>\n",
       "      <td>20200618</td>\n",
       "      <td>강원</td>\n",
       "      <td>횡성군</td>\n",
       "      <td>횡성베이스볼파크</td>\n",
       "      <td>여행/레저</td>\n",
       "      <td>레저/스포츠</td>\n",
       "      <td>운동장/체육관</td>\n",
       "      <td>11</td>\n",
       "      <td>0</td>\n",
       "    </tr>\n",
       "    <tr>\n",
       "      <th>223228</th>\n",
       "      <td>20200618</td>\n",
       "      <td>강원</td>\n",
       "      <td>횡성군</td>\n",
       "      <td>횡성문화체육공원</td>\n",
       "      <td>여행/레저</td>\n",
       "      <td>관광명소</td>\n",
       "      <td>공원</td>\n",
       "      <td>29</td>\n",
       "      <td>0</td>\n",
       "    </tr>\n",
       "  </tbody>\n",
       "</table>\n",
       "<p>6773 rows × 9 columns</p>\n",
       "</div>"
      ],
      "text/plain": [
       "            date region1 region2        base  type1   type2    type3  ranking  \\\n",
       "4       20200605      강원     강릉시  라카이샌드파인리조트  여행/레저      숙박   콘도/리조트        5   \n",
       "6       20200605      강원     강릉시     세인트존스호텔  여행/레저      숙박       호텔        7   \n",
       "7       20200605      강원     강릉시         정동진  여행/레저    관광명소     관광단지        8   \n",
       "9       20200605      강원     강릉시   스카이베이경포호텔  여행/레저      숙박       호텔       10   \n",
       "10      20200605      강원     강릉시        안목해변  여행/레저    관광명소     해수욕장       11   \n",
       "...          ...     ...     ...         ...    ...     ...      ...      ...   \n",
       "223203  20200618      강원     횡성군     알프스대영CC  여행/레저  레저/스포츠      골프장        4   \n",
       "223206  20200618      강원     횡성군      벨라스톤CC  여행/레저  레저/스포츠      골프장        7   \n",
       "223207  20200618      강원     횡성군      옥스필드CC  여행/레저  레저/스포츠      골프장        8   \n",
       "223210  20200618      강원     횡성군    횡성베이스볼파크  여행/레저  레저/스포츠  운동장/체육관       11   \n",
       "223228  20200618      강원     횡성군    횡성문화체육공원  여행/레저    관광명소       공원       29   \n",
       "\n",
       "        count  \n",
       "4           0  \n",
       "6           0  \n",
       "7           0  \n",
       "9           0  \n",
       "10          0  \n",
       "...       ...  \n",
       "223203      0  \n",
       "223206      0  \n",
       "223207      0  \n",
       "223210      0  \n",
       "223228      0  \n",
       "\n",
       "[6773 rows x 9 columns]"
      ]
     },
     "execution_count": 105,
     "metadata": {},
     "output_type": "execute_result"
    }
   ],
   "source": [
    "t_2006[t_2006['region1']=='강원']"
   ]
  },
  {
   "cell_type": "code",
   "execution_count": 106,
   "metadata": {},
   "outputs": [],
   "source": [
    "t_2006=t_2006.drop(['count'],axis=1)"
   ]
  },
  {
   "cell_type": "code",
   "execution_count": 107,
   "metadata": {},
   "outputs": [
    {
     "data": {
      "text/html": [
       "<div>\n",
       "<style scoped>\n",
       "    .dataframe tbody tr th:only-of-type {\n",
       "        vertical-align: middle;\n",
       "    }\n",
       "\n",
       "    .dataframe tbody tr th {\n",
       "        vertical-align: top;\n",
       "    }\n",
       "\n",
       "    .dataframe thead th {\n",
       "        text-align: right;\n",
       "    }\n",
       "</style>\n",
       "<table border=\"1\" class=\"dataframe\">\n",
       "  <thead>\n",
       "    <tr style=\"text-align: right;\">\n",
       "      <th></th>\n",
       "      <th>date</th>\n",
       "      <th>region1</th>\n",
       "      <th>region2</th>\n",
       "      <th>base</th>\n",
       "      <th>type1</th>\n",
       "      <th>type2</th>\n",
       "      <th>type3</th>\n",
       "      <th>ranking</th>\n",
       "    </tr>\n",
       "  </thead>\n",
       "  <tbody>\n",
       "    <tr>\n",
       "      <th>4</th>\n",
       "      <td>20200605</td>\n",
       "      <td>강원</td>\n",
       "      <td>강릉시</td>\n",
       "      <td>라카이샌드파인리조트</td>\n",
       "      <td>여행/레저</td>\n",
       "      <td>숙박</td>\n",
       "      <td>콘도/리조트</td>\n",
       "      <td>5</td>\n",
       "    </tr>\n",
       "    <tr>\n",
       "      <th>6</th>\n",
       "      <td>20200605</td>\n",
       "      <td>강원</td>\n",
       "      <td>강릉시</td>\n",
       "      <td>세인트존스호텔</td>\n",
       "      <td>여행/레저</td>\n",
       "      <td>숙박</td>\n",
       "      <td>호텔</td>\n",
       "      <td>7</td>\n",
       "    </tr>\n",
       "    <tr>\n",
       "      <th>7</th>\n",
       "      <td>20200605</td>\n",
       "      <td>강원</td>\n",
       "      <td>강릉시</td>\n",
       "      <td>정동진</td>\n",
       "      <td>여행/레저</td>\n",
       "      <td>관광명소</td>\n",
       "      <td>관광단지</td>\n",
       "      <td>8</td>\n",
       "    </tr>\n",
       "    <tr>\n",
       "      <th>9</th>\n",
       "      <td>20200605</td>\n",
       "      <td>강원</td>\n",
       "      <td>강릉시</td>\n",
       "      <td>스카이베이경포호텔</td>\n",
       "      <td>여행/레저</td>\n",
       "      <td>숙박</td>\n",
       "      <td>호텔</td>\n",
       "      <td>10</td>\n",
       "    </tr>\n",
       "    <tr>\n",
       "      <th>10</th>\n",
       "      <td>20200605</td>\n",
       "      <td>강원</td>\n",
       "      <td>강릉시</td>\n",
       "      <td>안목해변</td>\n",
       "      <td>여행/레저</td>\n",
       "      <td>관광명소</td>\n",
       "      <td>해수욕장</td>\n",
       "      <td>11</td>\n",
       "    </tr>\n",
       "    <tr>\n",
       "      <th>...</th>\n",
       "      <td>...</td>\n",
       "      <td>...</td>\n",
       "      <td>...</td>\n",
       "      <td>...</td>\n",
       "      <td>...</td>\n",
       "      <td>...</td>\n",
       "      <td>...</td>\n",
       "      <td>...</td>\n",
       "    </tr>\n",
       "    <tr>\n",
       "      <th>224983</th>\n",
       "      <td>20200618</td>\n",
       "      <td>충북</td>\n",
       "      <td>충주시</td>\n",
       "      <td>스타CC</td>\n",
       "      <td>여행/레저</td>\n",
       "      <td>레저/스포츠</td>\n",
       "      <td>골프장</td>\n",
       "      <td>14</td>\n",
       "    </tr>\n",
       "    <tr>\n",
       "      <th>224984</th>\n",
       "      <td>20200618</td>\n",
       "      <td>충북</td>\n",
       "      <td>충주시</td>\n",
       "      <td>한화리조트수안보온천</td>\n",
       "      <td>여행/레저</td>\n",
       "      <td>숙박</td>\n",
       "      <td>콘도/리조트</td>\n",
       "      <td>15</td>\n",
       "    </tr>\n",
       "    <tr>\n",
       "      <th>224986</th>\n",
       "      <td>20200618</td>\n",
       "      <td>충북</td>\n",
       "      <td>충주시</td>\n",
       "      <td>동촌GC</td>\n",
       "      <td>여행/레저</td>\n",
       "      <td>레저/스포츠</td>\n",
       "      <td>골프장</td>\n",
       "      <td>17</td>\n",
       "    </tr>\n",
       "    <tr>\n",
       "      <th>224991</th>\n",
       "      <td>20200618</td>\n",
       "      <td>충북</td>\n",
       "      <td>충주시</td>\n",
       "      <td>중앙탑공원</td>\n",
       "      <td>여행/레저</td>\n",
       "      <td>관광명소</td>\n",
       "      <td>공원</td>\n",
       "      <td>22</td>\n",
       "    </tr>\n",
       "    <tr>\n",
       "      <th>224994</th>\n",
       "      <td>20200618</td>\n",
       "      <td>충북</td>\n",
       "      <td>충주시</td>\n",
       "      <td>수안보온천랜드</td>\n",
       "      <td>여행/레저</td>\n",
       "      <td>관광명소</td>\n",
       "      <td>온천</td>\n",
       "      <td>25</td>\n",
       "    </tr>\n",
       "  </tbody>\n",
       "</table>\n",
       "<p>42942 rows × 8 columns</p>\n",
       "</div>"
      ],
      "text/plain": [
       "            date region1 region2        base  type1   type2   type3  ranking\n",
       "4       20200605      강원     강릉시  라카이샌드파인리조트  여행/레저      숙박  콘도/리조트        5\n",
       "6       20200605      강원     강릉시     세인트존스호텔  여행/레저      숙박      호텔        7\n",
       "7       20200605      강원     강릉시         정동진  여행/레저    관광명소    관광단지        8\n",
       "9       20200605      강원     강릉시   스카이베이경포호텔  여행/레저      숙박      호텔       10\n",
       "10      20200605      강원     강릉시        안목해변  여행/레저    관광명소    해수욕장       11\n",
       "...          ...     ...     ...         ...    ...     ...     ...      ...\n",
       "224983  20200618      충북     충주시        스타CC  여행/레저  레저/스포츠     골프장       14\n",
       "224984  20200618      충북     충주시  한화리조트수안보온천  여행/레저      숙박  콘도/리조트       15\n",
       "224986  20200618      충북     충주시        동촌GC  여행/레저  레저/스포츠     골프장       17\n",
       "224991  20200618      충북     충주시       중앙탑공원  여행/레저    관광명소      공원       22\n",
       "224994  20200618      충북     충주시     수안보온천랜드  여행/레저    관광명소      온천       25\n",
       "\n",
       "[42942 rows x 8 columns]"
      ]
     },
     "execution_count": 107,
     "metadata": {},
     "output_type": "execute_result"
    }
   ],
   "source": [
    "t_2006"
   ]
  },
  {
   "cell_type": "code",
   "execution_count": 108,
   "metadata": {
    "scrolled": true
   },
   "outputs": [],
   "source": [
    "t_2006['count']=count_1"
   ]
  },
  {
   "cell_type": "code",
   "execution_count": 22,
   "metadata": {},
   "outputs": [],
   "source": [
    "# def test(t_2005_camp):\n",
    "#     if t_2005_camp[t_2005_camp['region1']=='강원']:\n",
    "#         return t_2005_camp['count']== count_1\n",
    "#     elif t_2005_camp[t_2005_camp['region1']=='경기']:\n",
    "#         return t_2005_camp['count']== count_2\n",
    "#     elif t_2005_camp[t_2005_camp['region1']=='경남']:\n",
    "#         return t_2005_camp['count']== count_3\n",
    "#     elif t_2005_camp[t_2005_camp['region1']=='경북']:\n",
    "#         return t_2005_camp['count']== count_4\n",
    "#     elif t_2005_camp[t_2005_camp['region1']=='전북']:\n",
    "#         return t_2005_camp['count']== count_5\n",
    "#     elif t_2005_camp[t_2005_camp['region1']=='전남']:\n",
    "#         return t_2005_camp['count']== count_6\n",
    "#     elif t_2005_camp[t_2005_camp['region1']=='인천']:\n",
    "#         return t_2005_camp['count']== count_7\n",
    "#     elif t_2005_camp[t_2005_camp['region1']=='충남']:\n",
    "#         return t_2005_camp['count']== count_8\n",
    "#     elif t_2005_camp[t_2005_camp['region1']=='충북']:\n",
    "#         return t_2005_camp['count']== count_9\n",
    "#     elif t_2005_camp[t_2005_camp['region1']=='울산']:\n",
    "#         return t_2005_camp['count']== count_10\n",
    "#     elif t_2005_camp[t_2005_camp['region1']=='광주']:\n",
    "#         return t_2005_camp['count']== count_11\n",
    "#     elif t_2005_camp[t_2005_camp['region1']=='대전']:\n",
    "#         return t_2005_camp['count']== count_12\n",
    "#     else: #qntks\n",
    "#         return t_2005_camp['count']== count_13\n"
   ]
  },
  {
   "cell_type": "code",
   "execution_count": 109,
   "metadata": {},
   "outputs": [
    {
     "data": {
      "text/plain": [
       "4          5\n",
       "6          7\n",
       "7          8\n",
       "9         10\n",
       "10        11\n",
       "          ..\n",
       "224983    14\n",
       "224984    15\n",
       "224986    17\n",
       "224991    22\n",
       "224994    25\n",
       "Name: ranking, Length: 42942, dtype: int64"
      ]
     },
     "execution_count": 109,
     "metadata": {},
     "output_type": "execute_result"
    }
   ],
   "source": [
    "t_2006['ranking']"
   ]
  },
  {
   "cell_type": "code",
   "execution_count": 110,
   "metadata": {},
   "outputs": [],
   "source": [
    "t_2006['count']=t_2006.groupby(['region1']).ranking.transform('count')"
   ]
  },
  {
   "cell_type": "code",
   "execution_count": 111,
   "metadata": {},
   "outputs": [
    {
     "data": {
      "text/plain": [
       "6773    6773\n",
       "5678    5678\n",
       "5498    5498\n",
       "5429    5429\n",
       "4359    4359\n",
       "3076    3076\n",
       "2886    2886\n",
       "2825    2825\n",
       "1510    1510\n",
       "1272    1272\n",
       "1240    1240\n",
       "998      998\n",
       "475      475\n",
       "390      390\n",
       "238      238\n",
       "176      176\n",
       "119      119\n",
       "Name: count, dtype: int64"
      ]
     },
     "execution_count": 111,
     "metadata": {},
     "output_type": "execute_result"
    }
   ],
   "source": [
    "t_2006['count'].value_counts()"
   ]
  },
  {
   "cell_type": "code",
   "execution_count": 112,
   "metadata": {
    "scrolled": true
   },
   "outputs": [],
   "source": [
    "t_2006=t_2006.groupby('region1')['count'].mean()"
   ]
  },
  {
   "cell_type": "code",
   "execution_count": 113,
   "metadata": {},
   "outputs": [
    {
     "data": {
      "text/plain": [
       "region1\n",
       "강원    6773\n",
       "경기    5678\n",
       "경남    4359\n",
       "경북    5498\n",
       "광주     119\n",
       "대구     390\n",
       "대전     238\n",
       "부산    1510\n",
       "서울    1240\n",
       "세종     176\n",
       "울산     475\n",
       "인천    1272\n",
       "전남    5429\n",
       "전북    2886\n",
       "제주     998\n",
       "충남    2825\n",
       "충북    3076\n",
       "Name: count, dtype: int64"
      ]
     },
     "execution_count": 113,
     "metadata": {},
     "output_type": "execute_result"
    }
   ],
   "source": [
    "t_2006"
   ]
  },
  {
   "cell_type": "code",
   "execution_count": 28,
   "metadata": {
    "scrolled": true
   },
   "outputs": [
    {
     "data": {
      "text/plain": [
       "<AxesSubplot:title={'center':'20-1 T-Map 여행 목적지 검색'}, ylabel='region1'>"
      ]
     },
     "execution_count": 28,
     "metadata": {},
     "output_type": "execute_result"
    },
    {
     "data": {
      "image/png": "[encoded data removed]",
      "text/plain": [
       "<Figure size 432x288 with 1 Axes>"
      ]
     },
     "metadata": {
      "needs_background": "light"
     },
     "output_type": "display_data"
    }
   ],
   "source": [
    "t_2001_travel.plot(kind=\"barh\",title=\"20-1 T-Map 여행 목적지 검색\")"
   ]
  }
 ],
 "metadata": {
  "kernelspec": {
   "display_name": "Python 3",
   "language": "python",
   "name": "python3"
  },
  "language_info": {
   "codemirror_mode": {
    "name": "ipython",
    "version": 3
   },
   "file_extension": ".py",
   "mimetype": "text/x-python",
   "name": "python",
   "nbconvert_exporter": "python",
   "pygments_lexer": "ipython3",
   "version": "3.8.5"
  }
 },
 "nbformat": 4,
 "nbformat_minor": 4
}
