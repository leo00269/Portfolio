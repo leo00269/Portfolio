{
 "cells": [
  {
   "cell_type": "code",
   "execution_count": 1,
   "metadata": {},
   "outputs": [
    {
     "name": "stdout",
     "output_type": "stream",
     "text": [
      "package 'readxl' successfully unpacked and MD5 sums checked\n",
      "\n",
      "The downloaded binary packages are in\n",
      "\tC:\\Users\\qkreh\\AppData\\Local\\Temp\\Rtmp6RyCXZ\\downloaded_packages\n"
     ]
    }
   ],
   "source": [
    "install.packages(\"readxl\")"
   ]
  },
  {
   "cell_type": "code",
   "execution_count": 2,
   "metadata": {},
   "outputs": [
    {
     "name": "stdout",
     "output_type": "stream",
     "text": [
      "package 'dplyr' successfully unpacked and MD5 sums checked\n",
      "\n",
      "The downloaded binary packages are in\n",
      "\tC:\\Users\\qkreh\\AppData\\Local\\Temp\\Rtmp6RyCXZ\\downloaded_packages\n"
     ]
    }
   ],
   "source": [
    "install.packages(\"dplyr\")"
   ]
  },
  {
   "cell_type": "code",
   "execution_count": 4,
   "metadata": {},
   "outputs": [],
   "source": [
    "library(readxl)\n",
    "library(dplyr)"
   ]
  },
  {
   "cell_type": "code",
   "execution_count": 5,
   "metadata": {},
   "outputs": [],
   "source": [
    "data_2020<-read.table('exam/신한카드 데이터//KCTI_NATIVE_2020.txt',sep='|',row.names = NULL)"
   ]
  },
  {
   "cell_type": "code",
   "execution_count": 6,
   "metadata": {},
   "outputs": [
    {
     "data": {
      "text/html": [
       "<table>\n",
       "<caption>A data.frame: 6 × 12</caption>\n",
       "<thead>\n",
       "\t<tr><th></th><th scope=col>V1</th><th scope=col>V2</th><th scope=col>V3</th><th scope=col>V4</th><th scope=col>V5</th><th scope=col>V6</th><th scope=col>V7</th><th scope=col>V8</th><th scope=col>V9</th><th scope=col>V10</th><th scope=col>V11</th><th scope=col>V12</th></tr>\n",
       "\t<tr><th></th><th scope=col>&lt;chr&gt;</th><th scope=col>&lt;chr&gt;</th><th scope=col>&lt;chr&gt;</th><th scope=col>&lt;chr&gt;</th><th scope=col>&lt;chr&gt;</th><th scope=col>&lt;chr&gt;</th><th scope=col>&lt;chr&gt;</th><th scope=col>&lt;chr&gt;</th><th scope=col>&lt;chr&gt;</th><th scope=col>&lt;chr&gt;</th><th scope=col>&lt;chr&gt;</th><th scope=col>&lt;chr&gt;</th></tr>\n",
       "</thead>\n",
       "<tbody>\n",
       "\t<tr><th scope=row>1</th><td>v1  </td><td>v2  </td><td>v3</td><td>gb3       </td><td>gb2       </td><td>sex_ccd</td><td>cln_age_r</td><td>ta_ym </td><td>daw_ccd_r</td><td>apv_ts_dl_tm_r</td><td>vlm    </td><td>usec</td></tr>\n",
       "\t<tr><th scope=row>2</th><td>경기</td><td>세종</td><td>. </td><td>취미오락  </td><td>유흥      </td><td>M      </td><td>40       </td><td>202001</td><td>RED      </td><td>휴식          </td><td>6410700</td><td>45  </td></tr>\n",
       "\t<tr><th scope=row>3</th><td>경남</td><td>세종</td><td>. </td><td>스포츠활동</td><td>레저스포츠</td><td>M      </td><td>30       </td><td>202001</td><td>RED      </td><td>활동          </td><td>147900 </td><td>15  </td></tr>\n",
       "\t<tr><th scope=row>4</th><td>광주</td><td>세종</td><td>. </td><td>취미오락  </td><td>패션쇼핑  </td><td>M      </td><td>30       </td><td>202001</td><td>RED      </td><td>휴식          </td><td>793050 </td><td>5   </td></tr>\n",
       "\t<tr><th scope=row>5</th><td>인천</td><td>세종</td><td>. </td><td>취미오락  </td><td>인터넷게임</td><td>M      </td><td>30       </td><td>202001</td><td>RED      </td><td>취침          </td><td>10200  </td><td>10  </td></tr>\n",
       "\t<tr><th scope=row>6</th><td>경기</td><td>세종</td><td>. </td><td>취미오락  </td><td>유흥      </td><td>M      </td><td>40       </td><td>202001</td><td>RED      </td><td>취침          </td><td>382500 </td><td>5   </td></tr>\n",
       "</tbody>\n",
       "</table>\n"
      ],
      "text/latex": [
       "A data.frame: 6 × 12\n",
       "\\begin{tabular}{r|llllllllllll}\n",
       "  & V1 & V2 & V3 & V4 & V5 & V6 & V7 & V8 & V9 & V10 & V11 & V12\\\\\n",
       "  & <chr> & <chr> & <chr> & <chr> & <chr> & <chr> & <chr> & <chr> & <chr> & <chr> & <chr> & <chr>\\\\\n",
       "\\hline\n",
       "\t1 & v1   & v2   & v3 & gb3        & gb2        & sex\\_ccd & cln\\_age\\_r & ta\\_ym  & daw\\_ccd\\_r & apv\\_ts\\_dl\\_tm\\_r & vlm     & usec\\\\\n",
       "\t2 & 경기 & 세종 & .  & 취미오락   & 유흥       & M       & 40        & 202001 & RED       & 휴식           & 6410700 & 45  \\\\\n",
       "\t3 & 경남 & 세종 & .  & 스포츠활동 & 레저스포츠 & M       & 30        & 202001 & RED       & 활동           & 147900  & 15  \\\\\n",
       "\t4 & 광주 & 세종 & .  & 취미오락   & 패션쇼핑   & M       & 30        & 202001 & RED       & 휴식           & 793050  & 5   \\\\\n",
       "\t5 & 인천 & 세종 & .  & 취미오락   & 인터넷게임 & M       & 30        & 202001 & RED       & 취침           & 10200   & 10  \\\\\n",
       "\t6 & 경기 & 세종 & .  & 취미오락   & 유흥       & M       & 40        & 202001 & RED       & 취침           & 382500  & 5   \\\\\n",
       "\\end{tabular}\n"
      ],
      "text/markdown": [
       "\n",
       "A data.frame: 6 × 12\n",
       "\n",
       "| <!--/--> | V1 &lt;chr&gt; | V2 &lt;chr&gt; | V3 &lt;chr&gt; | V4 &lt;chr&gt; | V5 &lt;chr&gt; | V6 &lt;chr&gt; | V7 &lt;chr&gt; | V8 &lt;chr&gt; | V9 &lt;chr&gt; | V10 &lt;chr&gt; | V11 &lt;chr&gt; | V12 &lt;chr&gt; |\n",
       "|---|---|---|---|---|---|---|---|---|---|---|---|---|\n",
       "| 1 | v1   | v2   | v3 | gb3        | gb2        | sex_ccd | cln_age_r | ta_ym  | daw_ccd_r | apv_ts_dl_tm_r | vlm     | usec |\n",
       "| 2 | 경기 | 세종 | .  | 취미오락   | 유흥       | M       | 40        | 202001 | RED       | 휴식           | 6410700 | 45   |\n",
       "| 3 | 경남 | 세종 | .  | 스포츠활동 | 레저스포츠 | M       | 30        | 202001 | RED       | 활동           | 147900  | 15   |\n",
       "| 4 | 광주 | 세종 | .  | 취미오락   | 패션쇼핑   | M       | 30        | 202001 | RED       | 휴식           | 793050  | 5    |\n",
       "| 5 | 인천 | 세종 | .  | 취미오락   | 인터넷게임 | M       | 30        | 202001 | RED       | 취침           | 10200   | 10   |\n",
       "| 6 | 경기 | 세종 | .  | 취미오락   | 유흥       | M       | 40        | 202001 | RED       | 취침           | 382500  | 5    |\n",
       "\n"
      ],
      "text/plain": [
       "  V1   V2   V3 V4         V5         V6      V7        V8     V9       \n",
       "1 v1   v2   v3 gb3        gb2        sex_ccd cln_age_r ta_ym  daw_ccd_r\n",
       "2 경기 세종 .  취미오락   유흥       M       40        202001 RED      \n",
       "3 경남 세종 .  스포츠활동 레저스포츠 M       30        202001 RED      \n",
       "4 광주 세종 .  취미오락   패션쇼핑   M       30        202001 RED      \n",
       "5 인천 세종 .  취미오락   인터넷게임 M       30        202001 RED      \n",
       "6 경기 세종 .  취미오락   유흥       M       40        202001 RED      \n",
       "  V10            V11     V12 \n",
       "1 apv_ts_dl_tm_r vlm     usec\n",
       "2 휴식           6410700 45  \n",
       "3 활동           147900  15  \n",
       "4 휴식           793050  5   \n",
       "5 취침           10200   10  \n",
       "6 취침           382500  5   "
      ]
     },
     "metadata": {},
     "output_type": "display_data"
    }
   ],
   "source": [
    "head(data_2020)"
   ]
  },
  {
   "cell_type": "code",
   "execution_count": 7,
   "metadata": {},
   "outputs": [],
   "source": [
    "data_2020_travel  <-filter(data_2020,data_2020$V4=='여행')"
   ]
  },
  {
   "cell_type": "code",
   "execution_count": 8,
   "metadata": {},
   "outputs": [
    {
     "data": {
      "text/html": [
       "<table>\n",
       "<caption>A data.frame: 1 × 1</caption>\n",
       "<thead>\n",
       "\t<tr><th scope=col>n</th></tr>\n",
       "\t<tr><th scope=col>&lt;int&gt;</th></tr>\n",
       "</thead>\n",
       "<tbody>\n",
       "\t<tr><td>679483</td></tr>\n",
       "</tbody>\n",
       "</table>\n"
      ],
      "text/latex": [
       "A data.frame: 1 × 1\n",
       "\\begin{tabular}{l}\n",
       " n\\\\\n",
       " <int>\\\\\n",
       "\\hline\n",
       "\t 679483\\\\\n",
       "\\end{tabular}\n"
      ],
      "text/markdown": [
       "\n",
       "A data.frame: 1 × 1\n",
       "\n",
       "| n &lt;int&gt; |\n",
       "|---|\n",
       "| 679483 |\n",
       "\n"
      ],
      "text/plain": [
       "  n     \n",
       "1 679483"
      ]
     },
     "metadata": {},
     "output_type": "display_data"
    }
   ],
   "source": [
    "count(data_2020_travel)"
   ]
  },
  {
   "cell_type": "code",
   "execution_count": 9,
   "metadata": {},
   "outputs": [],
   "source": [
    "count_1<-filter(data_2020_travel,data_2020_travel$V8=='202001')\n",
    "count_2<-filter(data_2020_travel,data_2020_travel$V8=='202002')\n",
    "count_3<-filter(data_2020_travel,data_2020_travel$V8=='202003')\n",
    "count_4<-filter(data_2020_travel,data_2020_travel$V8=='202004')\n",
    "count_5<-filter(data_2020_travel,data_2020_travel$V8=='202005')\n",
    "count_6<-filter(data_2020_travel,data_2020_travel$V8=='202006')"
   ]
  },
  {
   "cell_type": "code",
   "execution_count": 10,
   "metadata": {},
   "outputs": [
    {
     "data": {
      "text/html": [
       "<table>\n",
       "<caption>A data.frame: 1 × 1</caption>\n",
       "<thead>\n",
       "\t<tr><th scope=col>n</th></tr>\n",
       "\t<tr><th scope=col>&lt;int&gt;</th></tr>\n",
       "</thead>\n",
       "<tbody>\n",
       "\t<tr><td>134601</td></tr>\n",
       "</tbody>\n",
       "</table>\n"
      ],
      "text/latex": [
       "A data.frame: 1 × 1\n",
       "\\begin{tabular}{l}\n",
       " n\\\\\n",
       " <int>\\\\\n",
       "\\hline\n",
       "\t 134601\\\\\n",
       "\\end{tabular}\n"
      ],
      "text/markdown": [
       "\n",
       "A data.frame: 1 × 1\n",
       "\n",
       "| n &lt;int&gt; |\n",
       "|---|\n",
       "| 134601 |\n",
       "\n"
      ],
      "text/plain": [
       "  n     \n",
       "1 134601"
      ]
     },
     "metadata": {},
     "output_type": "display_data"
    },
    {
     "data": {
      "text/html": [
       "<table>\n",
       "<caption>A data.frame: 1 × 1</caption>\n",
       "<thead>\n",
       "\t<tr><th scope=col>n</th></tr>\n",
       "\t<tr><th scope=col>&lt;int&gt;</th></tr>\n",
       "</thead>\n",
       "<tbody>\n",
       "\t<tr><td>111883</td></tr>\n",
       "</tbody>\n",
       "</table>\n"
      ],
      "text/latex": [
       "A data.frame: 1 × 1\n",
       "\\begin{tabular}{l}\n",
       " n\\\\\n",
       " <int>\\\\\n",
       "\\hline\n",
       "\t 111883\\\\\n",
       "\\end{tabular}\n"
      ],
      "text/markdown": [
       "\n",
       "A data.frame: 1 × 1\n",
       "\n",
       "| n &lt;int&gt; |\n",
       "|---|\n",
       "| 111883 |\n",
       "\n"
      ],
      "text/plain": [
       "  n     \n",
       "1 111883"
      ]
     },
     "metadata": {},
     "output_type": "display_data"
    },
    {
     "data": {
      "text/html": [
       "<table>\n",
       "<caption>A data.frame: 1 × 1</caption>\n",
       "<thead>\n",
       "\t<tr><th scope=col>n</th></tr>\n",
       "\t<tr><th scope=col>&lt;int&gt;</th></tr>\n",
       "</thead>\n",
       "<tbody>\n",
       "\t<tr><td>91753</td></tr>\n",
       "</tbody>\n",
       "</table>\n"
      ],
      "text/latex": [
       "A data.frame: 1 × 1\n",
       "\\begin{tabular}{l}\n",
       " n\\\\\n",
       " <int>\\\\\n",
       "\\hline\n",
       "\t 91753\\\\\n",
       "\\end{tabular}\n"
      ],
      "text/markdown": [
       "\n",
       "A data.frame: 1 × 1\n",
       "\n",
       "| n &lt;int&gt; |\n",
       "|---|\n",
       "| 91753 |\n",
       "\n"
      ],
      "text/plain": [
       "  n    \n",
       "1 91753"
      ]
     },
     "metadata": {},
     "output_type": "display_data"
    },
    {
     "data": {
      "text/html": [
       "<table>\n",
       "<caption>A data.frame: 1 × 1</caption>\n",
       "<thead>\n",
       "\t<tr><th scope=col>n</th></tr>\n",
       "\t<tr><th scope=col>&lt;int&gt;</th></tr>\n",
       "</thead>\n",
       "<tbody>\n",
       "\t<tr><td>100216</td></tr>\n",
       "</tbody>\n",
       "</table>\n"
      ],
      "text/latex": [
       "A data.frame: 1 × 1\n",
       "\\begin{tabular}{l}\n",
       " n\\\\\n",
       " <int>\\\\\n",
       "\\hline\n",
       "\t 100216\\\\\n",
       "\\end{tabular}\n"
      ],
      "text/markdown": [
       "\n",
       "A data.frame: 1 × 1\n",
       "\n",
       "| n &lt;int&gt; |\n",
       "|---|\n",
       "| 100216 |\n",
       "\n"
      ],
      "text/plain": [
       "  n     \n",
       "1 100216"
      ]
     },
     "metadata": {},
     "output_type": "display_data"
    },
    {
     "data": {
      "text/html": [
       "<table>\n",
       "<caption>A data.frame: 1 × 1</caption>\n",
       "<thead>\n",
       "\t<tr><th scope=col>n</th></tr>\n",
       "\t<tr><th scope=col>&lt;int&gt;</th></tr>\n",
       "</thead>\n",
       "<tbody>\n",
       "\t<tr><td>122799</td></tr>\n",
       "</tbody>\n",
       "</table>\n"
      ],
      "text/latex": [
       "A data.frame: 1 × 1\n",
       "\\begin{tabular}{l}\n",
       " n\\\\\n",
       " <int>\\\\\n",
       "\\hline\n",
       "\t 122799\\\\\n",
       "\\end{tabular}\n"
      ],
      "text/markdown": [
       "\n",
       "A data.frame: 1 × 1\n",
       "\n",
       "| n &lt;int&gt; |\n",
       "|---|\n",
       "| 122799 |\n",
       "\n"
      ],
      "text/plain": [
       "  n     \n",
       "1 122799"
      ]
     },
     "metadata": {},
     "output_type": "display_data"
    },
    {
     "data": {
      "text/html": [
       "<table>\n",
       "<caption>A data.frame: 1 × 1</caption>\n",
       "<thead>\n",
       "\t<tr><th scope=col>n</th></tr>\n",
       "\t<tr><th scope=col>&lt;int&gt;</th></tr>\n",
       "</thead>\n",
       "<tbody>\n",
       "\t<tr><td>118231</td></tr>\n",
       "</tbody>\n",
       "</table>\n"
      ],
      "text/latex": [
       "A data.frame: 1 × 1\n",
       "\\begin{tabular}{l}\n",
       " n\\\\\n",
       " <int>\\\\\n",
       "\\hline\n",
       "\t 118231\\\\\n",
       "\\end{tabular}\n"
      ],
      "text/markdown": [
       "\n",
       "A data.frame: 1 × 1\n",
       "\n",
       "| n &lt;int&gt; |\n",
       "|---|\n",
       "| 118231 |\n",
       "\n"
      ],
      "text/plain": [
       "  n     \n",
       "1 118231"
      ]
     },
     "metadata": {},
     "output_type": "display_data"
    }
   ],
   "source": [
    "count(count_1)\n",
    "count(count_2)\n",
    "count(count_3)\n",
    "count(count_4)\n",
    "count(count_5)\n",
    "count(count_6)"
   ]
  },
  {
   "cell_type": "code",
   "execution_count": 11,
   "metadata": {},
   "outputs": [
    {
     "data": {
      "text/html": [
       "<table>\n",
       "<caption>A data.frame: 679483 × 12</caption>\n",
       "<thead>\n",
       "\t<tr><th scope=col>V1</th><th scope=col>V2</th><th scope=col>V3</th><th scope=col>V4</th><th scope=col>V5</th><th scope=col>V6</th><th scope=col>V7</th><th scope=col>V8</th><th scope=col>V9</th><th scope=col>V10</th><th scope=col>V11</th><th scope=col>V12</th></tr>\n",
       "\t<tr><th scope=col>&lt;chr&gt;</th><th scope=col>&lt;chr&gt;</th><th scope=col>&lt;chr&gt;</th><th scope=col>&lt;chr&gt;</th><th scope=col>&lt;chr&gt;</th><th scope=col>&lt;chr&gt;</th><th scope=col>&lt;chr&gt;</th><th scope=col>&lt;chr&gt;</th><th scope=col>&lt;chr&gt;</th><th scope=col>&lt;chr&gt;</th><th scope=col>&lt;chr&gt;</th><th scope=col>&lt;chr&gt;</th></tr>\n",
       "</thead>\n",
       "<tbody>\n",
       "\t<tr><td>대전</td><td>세종</td><td>.   </td><td>여행</td><td>숙박    </td><td>M</td><td>30</td><td>202001</td><td>RED  </td><td>활동</td><td>510000  </td><td>10</td></tr>\n",
       "\t<tr><td>인천</td><td>세종</td><td>.   </td><td>여행</td><td>체험    </td><td>M</td><td>40</td><td>202001</td><td>RED  </td><td>휴식</td><td>105060  </td><td>5 </td></tr>\n",
       "\t<tr><td>부산</td><td>대구</td><td>남구</td><td>여행</td><td>체험    </td><td>F</td><td>20</td><td>202001</td><td>RED  </td><td>활동</td><td>267750  </td><td>15</td></tr>\n",
       "\t<tr><td>제주</td><td>부산</td><td>남구</td><td>여행</td><td>숙박    </td><td>F</td><td>30</td><td>202001</td><td>RED  </td><td>활동</td><td>168300  </td><td>10</td></tr>\n",
       "\t<tr><td>강원</td><td>울산</td><td>남구</td><td>여행</td><td>숙박    </td><td>M</td><td>40</td><td>202001</td><td>RED  </td><td>휴식</td><td>233580  </td><td>5 </td></tr>\n",
       "\t<tr><td>인천</td><td>대구</td><td>남구</td><td>여행</td><td>체험    </td><td>M</td><td>30</td><td>202001</td><td>RED  </td><td>활동</td><td>145350  </td><td>5 </td></tr>\n",
       "\t<tr><td>울산</td><td>울산</td><td>남구</td><td>여행</td><td>숙박    </td><td>F</td><td>50</td><td>202001</td><td>RED  </td><td>취침</td><td>204000  </td><td>5 </td></tr>\n",
       "\t<tr><td>광주</td><td>울산</td><td>남구</td><td>여행</td><td>숙박    </td><td>M</td><td>40</td><td>202001</td><td>RED  </td><td>활동</td><td>1279539 </td><td>10</td></tr>\n",
       "\t<tr><td>대전</td><td>부산</td><td>남구</td><td>여행</td><td>숙박    </td><td>F</td><td>50</td><td>202001</td><td>WHITE</td><td>취침</td><td>153000  </td><td>5 </td></tr>\n",
       "\t<tr><td>광주</td><td>울산</td><td>남구</td><td>여행</td><td>숙박    </td><td>M</td><td>50</td><td>202001</td><td>RED  </td><td>활동</td><td>229500  </td><td>5 </td></tr>\n",
       "\t<tr><td>경기</td><td>대구</td><td>남구</td><td>여행</td><td>숙박    </td><td>M</td><td>60</td><td>202001</td><td>RED  </td><td>취침</td><td>306000  </td><td>5 </td></tr>\n",
       "\t<tr><td>광주</td><td>부산</td><td>남구</td><td>여행</td><td>숙박    </td><td>M</td><td>40</td><td>202001</td><td>WHITE</td><td>취침</td><td>178500  </td><td>5 </td></tr>\n",
       "\t<tr><td>세종</td><td>대전</td><td>동구</td><td>여행</td><td>숙박    </td><td>M</td><td>50</td><td>202001</td><td>RED  </td><td>활동</td><td>357000  </td><td>10</td></tr>\n",
       "\t<tr><td>강원</td><td>대구</td><td>동구</td><td>여행</td><td>숙박    </td><td>M</td><td>20</td><td>202001</td><td>WHITE</td><td>활동</td><td>102000  </td><td>5 </td></tr>\n",
       "\t<tr><td>대구</td><td>대구</td><td>동구</td><td>여행</td><td>교통    </td><td>F</td><td>20</td><td>202001</td><td>RED  </td><td>활동</td><td>56100   </td><td>5 </td></tr>\n",
       "\t<tr><td>충남</td><td>대구</td><td>동구</td><td>여행</td><td>체험    </td><td>F</td><td>30</td><td>202001</td><td>WHITE</td><td>활동</td><td>744600  </td><td>10</td></tr>\n",
       "\t<tr><td>광주</td><td>광주</td><td>동구</td><td>여행</td><td>여행사  </td><td>M</td><td>50</td><td>202001</td><td>WHITE</td><td>활동</td><td>15646851</td><td>15</td></tr>\n",
       "\t<tr><td>경기</td><td>광주</td><td>동구</td><td>여행</td><td>숙박    </td><td>F</td><td>20</td><td>202001</td><td>RED  </td><td>휴식</td><td>229500  </td><td>5 </td></tr>\n",
       "\t<tr><td>부산</td><td>부산</td><td>동구</td><td>여행</td><td>여행사  </td><td>F</td><td>40</td><td>202001</td><td>WHITE</td><td>활동</td><td>14790000</td><td>10</td></tr>\n",
       "\t<tr><td>세종</td><td>대전</td><td>동구</td><td>여행</td><td>체험    </td><td>M</td><td>40</td><td>202001</td><td>WHITE</td><td>활동</td><td>1157700 </td><td>5 </td></tr>\n",
       "\t<tr><td>충남</td><td>대전</td><td>동구</td><td>여행</td><td>체험    </td><td>F</td><td>50</td><td>202001</td><td>RED  </td><td>휴식</td><td>61200   </td><td>5 </td></tr>\n",
       "\t<tr><td>서울</td><td>대구</td><td>동구</td><td>여행</td><td>숙박    </td><td>F</td><td>40</td><td>202001</td><td>RED  </td><td>활동</td><td>535500  </td><td>10</td></tr>\n",
       "\t<tr><td>인천</td><td>인천</td><td>동구</td><td>여행</td><td>관광쇼핑</td><td>F</td><td>50</td><td>202001</td><td>WHITE</td><td>활동</td><td>765000  </td><td>5 </td></tr>\n",
       "\t<tr><td>인천</td><td>인천</td><td>동구</td><td>여행</td><td>숙박    </td><td>M</td><td>30</td><td>202001</td><td>WHITE</td><td>취침</td><td>586500  </td><td>15</td></tr>\n",
       "\t<tr><td>경기</td><td>부산</td><td>북구</td><td>여행</td><td>숙박    </td><td>F</td><td>40</td><td>202001</td><td>RED  </td><td>휴식</td><td>433500  </td><td>10</td></tr>\n",
       "\t<tr><td>부산</td><td>광주</td><td>북구</td><td>여행</td><td>체험    </td><td>F</td><td>40</td><td>202001</td><td>RED  </td><td>활동</td><td>153000  </td><td>10</td></tr>\n",
       "\t<tr><td>부산</td><td>부산</td><td>북구</td><td>여행</td><td>교통    </td><td>F</td><td>50</td><td>202001</td><td>WHITE</td><td>활동</td><td>204000  </td><td>5 </td></tr>\n",
       "\t<tr><td>충남</td><td>울산</td><td>북구</td><td>여행</td><td>숙박    </td><td>F</td><td>50</td><td>202001</td><td>WHITE</td><td>휴식</td><td>51000   </td><td>5 </td></tr>\n",
       "\t<tr><td>전남</td><td>부산</td><td>북구</td><td>여행</td><td>숙박    </td><td>M</td><td>50</td><td>202001</td><td>RED  </td><td>휴식</td><td>306000  </td><td>5 </td></tr>\n",
       "\t<tr><td>부산</td><td>울산</td><td>북구</td><td>여행</td><td>교통    </td><td>F</td><td>50</td><td>202001</td><td>WHITE</td><td>활동</td><td>3876000 </td><td>5 </td></tr>\n",
       "\t<tr><td>⋮</td><td>⋮</td><td>⋮</td><td>⋮</td><td>⋮</td><td>⋮</td><td>⋮</td><td>⋮</td><td>⋮</td><td>⋮</td><td>⋮</td><td>⋮</td></tr>\n",
       "\t<tr><td>서울</td><td>강원</td><td>홍천군  </td><td>여행</td><td>교통    </td><td>M</td><td>20</td><td>202006</td><td>WHITE</td><td>휴식</td><td>511000  </td><td>5  </td></tr>\n",
       "\t<tr><td>강원</td><td>강원</td><td>홍천군  </td><td>여행</td><td>교통    </td><td>F</td><td>20</td><td>202006</td><td>WHITE</td><td>활동</td><td>1379700 </td><td>10 </td></tr>\n",
       "\t<tr><td>강원</td><td>강원</td><td>화천군  </td><td>여행</td><td>숙박    </td><td>M</td><td>20</td><td>202006</td><td>RED  </td><td>취침</td><td>511000  </td><td>5  </td></tr>\n",
       "\t<tr><td>대전</td><td>강원</td><td>횡성군  </td><td>여행</td><td>숙박    </td><td>M</td><td>60</td><td>202006</td><td>RED  </td><td>활동</td><td>229950  </td><td>5  </td></tr>\n",
       "\t<tr><td>서울</td><td>강원</td><td>횡성군  </td><td>여행</td><td>숙박    </td><td>M</td><td>20</td><td>202006</td><td>WHITE</td><td>활동</td><td>718466  </td><td>25 </td></tr>\n",
       "\t<tr><td>강원</td><td>강원</td><td>횡성군  </td><td>여행</td><td>숙박    </td><td>M</td><td>40</td><td>202006</td><td>RED  </td><td>활동</td><td>3669337 </td><td>117</td></tr>\n",
       "\t<tr><td>인천</td><td>강원</td><td>횡성군  </td><td>여행</td><td>숙박    </td><td>M</td><td>40</td><td>202006</td><td>RED  </td><td>휴식</td><td>306600  </td><td>5  </td></tr>\n",
       "\t<tr><td>서울</td><td>서울</td><td>동대문구</td><td>여행</td><td>숙박    </td><td>F</td><td>60</td><td>202006</td><td>WHITE</td><td>휴식</td><td>1875370 </td><td>35 </td></tr>\n",
       "\t<tr><td>경기</td><td>서울</td><td>동대문구</td><td>여행</td><td>숙박    </td><td>M</td><td>30</td><td>202006</td><td>WHITE</td><td>활동</td><td>1803830 </td><td>61 </td></tr>\n",
       "\t<tr><td>인천</td><td>인천</td><td>미추홀구</td><td>여행</td><td>숙박    </td><td>M</td><td>60</td><td>202006</td><td>RED  </td><td>휴식</td><td>4384380 </td><td>66 </td></tr>\n",
       "\t<tr><td>경기</td><td>인천</td><td>미추홀구</td><td>여행</td><td>교통    </td><td>F</td><td>60</td><td>202006</td><td>WHITE</td><td>활동</td><td>25287039</td><td>35 </td></tr>\n",
       "\t<tr><td>대구</td><td>부산</td><td>부산진구</td><td>여행</td><td>숙박    </td><td>M</td><td>20</td><td>202006</td><td>WHITE</td><td>휴식</td><td>688317  </td><td>20 </td></tr>\n",
       "\t<tr><td>울산</td><td>부산</td><td>부산진구</td><td>여행</td><td>숙박    </td><td>M</td><td>20</td><td>202006</td><td>WHITE</td><td>활동</td><td>1384810 </td><td>51 </td></tr>\n",
       "\t<tr><td>충북</td><td>제주</td><td>서귀포시</td><td>여행</td><td>체험    </td><td>F</td><td>40</td><td>202006</td><td>WHITE</td><td>활동</td><td>2563687 </td><td>45 </td></tr>\n",
       "\t<tr><td>전남</td><td>제주</td><td>서귀포시</td><td>여행</td><td>숙박    </td><td>M</td><td>40</td><td>202006</td><td>RED  </td><td>휴식</td><td>2331693 </td><td>10 </td></tr>\n",
       "\t<tr><td>전북</td><td>제주</td><td>서귀포시</td><td>여행</td><td>체험    </td><td>M</td><td>30</td><td>202006</td><td>WHITE</td><td>활동</td><td>2731295 </td><td>97 </td></tr>\n",
       "\t<tr><td>세종</td><td>제주</td><td>서귀포시</td><td>여행</td><td>체험    </td><td>M</td><td>40</td><td>202006</td><td>WHITE</td><td>활동</td><td>1457372 </td><td>45 </td></tr>\n",
       "\t<tr><td>전남</td><td>제주</td><td>서귀포시</td><td>여행</td><td>체험    </td><td>M</td><td>30</td><td>202006</td><td>RED  </td><td>활동</td><td>718466  </td><td>51 </td></tr>\n",
       "\t<tr><td>경북</td><td>제주</td><td>서귀포시</td><td>여행</td><td>숙박    </td><td>M</td><td>40</td><td>202006</td><td>RED  </td><td>휴식</td><td>353356  </td><td>15 </td></tr>\n",
       "\t<tr><td>부산</td><td>제주</td><td>서귀포시</td><td>여행</td><td>숙박    </td><td>M</td><td>60</td><td>202006</td><td>WHITE</td><td>활동</td><td>5175408 </td><td>40 </td></tr>\n",
       "\t<tr><td>경기</td><td>제주</td><td>서귀포시</td><td>여행</td><td>체험    </td><td>F</td><td>60</td><td>202006</td><td>RED  </td><td>활동</td><td>1859529 </td><td>61 </td></tr>\n",
       "\t<tr><td>광주</td><td>제주</td><td>서귀포시</td><td>여행</td><td>체험    </td><td>F</td><td>30</td><td>202006</td><td>RED  </td><td>활동</td><td>1110914 </td><td>81 </td></tr>\n",
       "\t<tr><td>부산</td><td>서울</td><td>서대문구</td><td>여행</td><td>숙박    </td><td>M</td><td>60</td><td>202006</td><td>WHITE</td><td>취침</td><td>311710  </td><td>10 </td></tr>\n",
       "\t<tr><td>경북</td><td>서울</td><td>서대문구</td><td>여행</td><td>숙박    </td><td>M</td><td>40</td><td>202006</td><td>WHITE</td><td>휴식</td><td>669410  </td><td>15 </td></tr>\n",
       "\t<tr><td>인천</td><td>서울</td><td>영등포구</td><td>여행</td><td>교통    </td><td>M</td><td>20</td><td>202006</td><td>WHITE</td><td>활동</td><td>5927600 </td><td>15 </td></tr>\n",
       "\t<tr><td>인천</td><td>서울</td><td>영등포구</td><td>여행</td><td>체험    </td><td>M</td><td>40</td><td>202006</td><td>WHITE</td><td>활동</td><td>784385  </td><td>20 </td></tr>\n",
       "\t<tr><td>충남</td><td>경기</td><td>의정부시</td><td>여행</td><td>숙박    </td><td>M</td><td>40</td><td>202006</td><td>WHITE</td><td>활동</td><td>766500  </td><td>20 </td></tr>\n",
       "\t<tr><td>경기</td><td>경기</td><td>의정부시</td><td>여행</td><td>숙박    </td><td>F</td><td>60</td><td>202006</td><td>RED  </td><td>취침</td><td>408800  </td><td>5  </td></tr>\n",
       "\t<tr><td>부산</td><td>부산</td><td>해운대구</td><td>여행</td><td>관광쇼핑</td><td>M</td><td>50</td><td>202006</td><td>WHITE</td><td>활동</td><td>6529655 </td><td>25 </td></tr>\n",
       "\t<tr><td>부산</td><td>부산</td><td>해운대구</td><td>여행</td><td>관광쇼핑</td><td>M</td><td>30</td><td>202006</td><td>RED  </td><td>활동</td><td>150745  </td><td>15 </td></tr>\n",
       "</tbody>\n",
       "</table>\n"
      ],
      "text/latex": [
       "A data.frame: 679483 × 12\n",
       "\\begin{tabular}{llllllllllll}\n",
       " V1 & V2 & V3 & V4 & V5 & V6 & V7 & V8 & V9 & V10 & V11 & V12\\\\\n",
       " <chr> & <chr> & <chr> & <chr> & <chr> & <chr> & <chr> & <chr> & <chr> & <chr> & <chr> & <chr>\\\\\n",
       "\\hline\n",
       "\t 대전 & 세종 & .    & 여행 & 숙박     & M & 30 & 202001 & RED   & 활동 & 510000   & 10\\\\\n",
       "\t 인천 & 세종 & .    & 여행 & 체험     & M & 40 & 202001 & RED   & 휴식 & 105060   & 5 \\\\\n",
       "\t 부산 & 대구 & 남구 & 여행 & 체험     & F & 20 & 202001 & RED   & 활동 & 267750   & 15\\\\\n",
       "\t 제주 & 부산 & 남구 & 여행 & 숙박     & F & 30 & 202001 & RED   & 활동 & 168300   & 10\\\\\n",
       "\t 강원 & 울산 & 남구 & 여행 & 숙박     & M & 40 & 202001 & RED   & 휴식 & 233580   & 5 \\\\\n",
       "\t 인천 & 대구 & 남구 & 여행 & 체험     & M & 30 & 202001 & RED   & 활동 & 145350   & 5 \\\\\n",
       "\t 울산 & 울산 & 남구 & 여행 & 숙박     & F & 50 & 202001 & RED   & 취침 & 204000   & 5 \\\\\n",
       "\t 광주 & 울산 & 남구 & 여행 & 숙박     & M & 40 & 202001 & RED   & 활동 & 1279539  & 10\\\\\n",
       "\t 대전 & 부산 & 남구 & 여행 & 숙박     & F & 50 & 202001 & WHITE & 취침 & 153000   & 5 \\\\\n",
       "\t 광주 & 울산 & 남구 & 여행 & 숙박     & M & 50 & 202001 & RED   & 활동 & 229500   & 5 \\\\\n",
       "\t 경기 & 대구 & 남구 & 여행 & 숙박     & M & 60 & 202001 & RED   & 취침 & 306000   & 5 \\\\\n",
       "\t 광주 & 부산 & 남구 & 여행 & 숙박     & M & 40 & 202001 & WHITE & 취침 & 178500   & 5 \\\\\n",
       "\t 세종 & 대전 & 동구 & 여행 & 숙박     & M & 50 & 202001 & RED   & 활동 & 357000   & 10\\\\\n",
       "\t 강원 & 대구 & 동구 & 여행 & 숙박     & M & 20 & 202001 & WHITE & 활동 & 102000   & 5 \\\\\n",
       "\t 대구 & 대구 & 동구 & 여행 & 교통     & F & 20 & 202001 & RED   & 활동 & 56100    & 5 \\\\\n",
       "\t 충남 & 대구 & 동구 & 여행 & 체험     & F & 30 & 202001 & WHITE & 활동 & 744600   & 10\\\\\n",
       "\t 광주 & 광주 & 동구 & 여행 & 여행사   & M & 50 & 202001 & WHITE & 활동 & 15646851 & 15\\\\\n",
       "\t 경기 & 광주 & 동구 & 여행 & 숙박     & F & 20 & 202001 & RED   & 휴식 & 229500   & 5 \\\\\n",
       "\t 부산 & 부산 & 동구 & 여행 & 여행사   & F & 40 & 202001 & WHITE & 활동 & 14790000 & 10\\\\\n",
       "\t 세종 & 대전 & 동구 & 여행 & 체험     & M & 40 & 202001 & WHITE & 활동 & 1157700  & 5 \\\\\n",
       "\t 충남 & 대전 & 동구 & 여행 & 체험     & F & 50 & 202001 & RED   & 휴식 & 61200    & 5 \\\\\n",
       "\t 서울 & 대구 & 동구 & 여행 & 숙박     & F & 40 & 202001 & RED   & 활동 & 535500   & 10\\\\\n",
       "\t 인천 & 인천 & 동구 & 여행 & 관광쇼핑 & F & 50 & 202001 & WHITE & 활동 & 765000   & 5 \\\\\n",
       "\t 인천 & 인천 & 동구 & 여행 & 숙박     & M & 30 & 202001 & WHITE & 취침 & 586500   & 15\\\\\n",
       "\t 경기 & 부산 & 북구 & 여행 & 숙박     & F & 40 & 202001 & RED   & 휴식 & 433500   & 10\\\\\n",
       "\t 부산 & 광주 & 북구 & 여행 & 체험     & F & 40 & 202001 & RED   & 활동 & 153000   & 10\\\\\n",
       "\t 부산 & 부산 & 북구 & 여행 & 교통     & F & 50 & 202001 & WHITE & 활동 & 204000   & 5 \\\\\n",
       "\t 충남 & 울산 & 북구 & 여행 & 숙박     & F & 50 & 202001 & WHITE & 휴식 & 51000    & 5 \\\\\n",
       "\t 전남 & 부산 & 북구 & 여행 & 숙박     & M & 50 & 202001 & RED   & 휴식 & 306000   & 5 \\\\\n",
       "\t 부산 & 울산 & 북구 & 여행 & 교통     & F & 50 & 202001 & WHITE & 활동 & 3876000  & 5 \\\\\n",
       "\t ⋮ & ⋮ & ⋮ & ⋮ & ⋮ & ⋮ & ⋮ & ⋮ & ⋮ & ⋮ & ⋮ & ⋮\\\\\n",
       "\t 서울 & 강원 & 홍천군   & 여행 & 교통     & M & 20 & 202006 & WHITE & 휴식 & 511000   & 5  \\\\\n",
       "\t 강원 & 강원 & 홍천군   & 여행 & 교통     & F & 20 & 202006 & WHITE & 활동 & 1379700  & 10 \\\\\n",
       "\t 강원 & 강원 & 화천군   & 여행 & 숙박     & M & 20 & 202006 & RED   & 취침 & 511000   & 5  \\\\\n",
       "\t 대전 & 강원 & 횡성군   & 여행 & 숙박     & M & 60 & 202006 & RED   & 활동 & 229950   & 5  \\\\\n",
       "\t 서울 & 강원 & 횡성군   & 여행 & 숙박     & M & 20 & 202006 & WHITE & 활동 & 718466   & 25 \\\\\n",
       "\t 강원 & 강원 & 횡성군   & 여행 & 숙박     & M & 40 & 202006 & RED   & 활동 & 3669337  & 117\\\\\n",
       "\t 인천 & 강원 & 횡성군   & 여행 & 숙박     & M & 40 & 202006 & RED   & 휴식 & 306600   & 5  \\\\\n",
       "\t 서울 & 서울 & 동대문구 & 여행 & 숙박     & F & 60 & 202006 & WHITE & 휴식 & 1875370  & 35 \\\\\n",
       "\t 경기 & 서울 & 동대문구 & 여행 & 숙박     & M & 30 & 202006 & WHITE & 활동 & 1803830  & 61 \\\\\n",
       "\t 인천 & 인천 & 미추홀구 & 여행 & 숙박     & M & 60 & 202006 & RED   & 휴식 & 4384380  & 66 \\\\\n",
       "\t 경기 & 인천 & 미추홀구 & 여행 & 교통     & F & 60 & 202006 & WHITE & 활동 & 25287039 & 35 \\\\\n",
       "\t 대구 & 부산 & 부산진구 & 여행 & 숙박     & M & 20 & 202006 & WHITE & 휴식 & 688317   & 20 \\\\\n",
       "\t 울산 & 부산 & 부산진구 & 여행 & 숙박     & M & 20 & 202006 & WHITE & 활동 & 1384810  & 51 \\\\\n",
       "\t 충북 & 제주 & 서귀포시 & 여행 & 체험     & F & 40 & 202006 & WHITE & 활동 & 2563687  & 45 \\\\\n",
       "\t 전남 & 제주 & 서귀포시 & 여행 & 숙박     & M & 40 & 202006 & RED   & 휴식 & 2331693  & 10 \\\\\n",
       "\t 전북 & 제주 & 서귀포시 & 여행 & 체험     & M & 30 & 202006 & WHITE & 활동 & 2731295  & 97 \\\\\n",
       "\t 세종 & 제주 & 서귀포시 & 여행 & 체험     & M & 40 & 202006 & WHITE & 활동 & 1457372  & 45 \\\\\n",
       "\t 전남 & 제주 & 서귀포시 & 여행 & 체험     & M & 30 & 202006 & RED   & 활동 & 718466   & 51 \\\\\n",
       "\t 경북 & 제주 & 서귀포시 & 여행 & 숙박     & M & 40 & 202006 & RED   & 휴식 & 353356   & 15 \\\\\n",
       "\t 부산 & 제주 & 서귀포시 & 여행 & 숙박     & M & 60 & 202006 & WHITE & 활동 & 5175408  & 40 \\\\\n",
       "\t 경기 & 제주 & 서귀포시 & 여행 & 체험     & F & 60 & 202006 & RED   & 활동 & 1859529  & 61 \\\\\n",
       "\t 광주 & 제주 & 서귀포시 & 여행 & 체험     & F & 30 & 202006 & RED   & 활동 & 1110914  & 81 \\\\\n",
       "\t 부산 & 서울 & 서대문구 & 여행 & 숙박     & M & 60 & 202006 & WHITE & 취침 & 311710   & 10 \\\\\n",
       "\t 경북 & 서울 & 서대문구 & 여행 & 숙박     & M & 40 & 202006 & WHITE & 휴식 & 669410   & 15 \\\\\n",
       "\t 인천 & 서울 & 영등포구 & 여행 & 교통     & M & 20 & 202006 & WHITE & 활동 & 5927600  & 15 \\\\\n",
       "\t 인천 & 서울 & 영등포구 & 여행 & 체험     & M & 40 & 202006 & WHITE & 활동 & 784385   & 20 \\\\\n",
       "\t 충남 & 경기 & 의정부시 & 여행 & 숙박     & M & 40 & 202006 & WHITE & 활동 & 766500   & 20 \\\\\n",
       "\t 경기 & 경기 & 의정부시 & 여행 & 숙박     & F & 60 & 202006 & RED   & 취침 & 408800   & 5  \\\\\n",
       "\t 부산 & 부산 & 해운대구 & 여행 & 관광쇼핑 & M & 50 & 202006 & WHITE & 활동 & 6529655  & 25 \\\\\n",
       "\t 부산 & 부산 & 해운대구 & 여행 & 관광쇼핑 & M & 30 & 202006 & RED   & 활동 & 150745   & 15 \\\\\n",
       "\\end{tabular}\n"
      ],
      "text/markdown": [
       "\n",
       "A data.frame: 679483 × 12\n",
       "\n",
       "| V1 &lt;chr&gt; | V2 &lt;chr&gt; | V3 &lt;chr&gt; | V4 &lt;chr&gt; | V5 &lt;chr&gt; | V6 &lt;chr&gt; | V7 &lt;chr&gt; | V8 &lt;chr&gt; | V9 &lt;chr&gt; | V10 &lt;chr&gt; | V11 &lt;chr&gt; | V12 &lt;chr&gt; |\n",
       "|---|---|---|---|---|---|---|---|---|---|---|---|\n",
       "| 대전 | 세종 | .    | 여행 | 숙박     | M | 30 | 202001 | RED   | 활동 | 510000   | 10 |\n",
       "| 인천 | 세종 | .    | 여행 | 체험     | M | 40 | 202001 | RED   | 휴식 | 105060   | 5  |\n",
       "| 부산 | 대구 | 남구 | 여행 | 체험     | F | 20 | 202001 | RED   | 활동 | 267750   | 15 |\n",
       "| 제주 | 부산 | 남구 | 여행 | 숙박     | F | 30 | 202001 | RED   | 활동 | 168300   | 10 |\n",
       "| 강원 | 울산 | 남구 | 여행 | 숙박     | M | 40 | 202001 | RED   | 휴식 | 233580   | 5  |\n",
       "| 인천 | 대구 | 남구 | 여행 | 체험     | M | 30 | 202001 | RED   | 활동 | 145350   | 5  |\n",
       "| 울산 | 울산 | 남구 | 여행 | 숙박     | F | 50 | 202001 | RED   | 취침 | 204000   | 5  |\n",
       "| 광주 | 울산 | 남구 | 여행 | 숙박     | M | 40 | 202001 | RED   | 활동 | 1279539  | 10 |\n",
       "| 대전 | 부산 | 남구 | 여행 | 숙박     | F | 50 | 202001 | WHITE | 취침 | 153000   | 5  |\n",
       "| 광주 | 울산 | 남구 | 여행 | 숙박     | M | 50 | 202001 | RED   | 활동 | 229500   | 5  |\n",
       "| 경기 | 대구 | 남구 | 여행 | 숙박     | M | 60 | 202001 | RED   | 취침 | 306000   | 5  |\n",
       "| 광주 | 부산 | 남구 | 여행 | 숙박     | M | 40 | 202001 | WHITE | 취침 | 178500   | 5  |\n",
       "| 세종 | 대전 | 동구 | 여행 | 숙박     | M | 50 | 202001 | RED   | 활동 | 357000   | 10 |\n",
       "| 강원 | 대구 | 동구 | 여행 | 숙박     | M | 20 | 202001 | WHITE | 활동 | 102000   | 5  |\n",
       "| 대구 | 대구 | 동구 | 여행 | 교통     | F | 20 | 202001 | RED   | 활동 | 56100    | 5  |\n",
       "| 충남 | 대구 | 동구 | 여행 | 체험     | F | 30 | 202001 | WHITE | 활동 | 744600   | 10 |\n",
       "| 광주 | 광주 | 동구 | 여행 | 여행사   | M | 50 | 202001 | WHITE | 활동 | 15646851 | 15 |\n",
       "| 경기 | 광주 | 동구 | 여행 | 숙박     | F | 20 | 202001 | RED   | 휴식 | 229500   | 5  |\n",
       "| 부산 | 부산 | 동구 | 여행 | 여행사   | F | 40 | 202001 | WHITE | 활동 | 14790000 | 10 |\n",
       "| 세종 | 대전 | 동구 | 여행 | 체험     | M | 40 | 202001 | WHITE | 활동 | 1157700  | 5  |\n",
       "| 충남 | 대전 | 동구 | 여행 | 체험     | F | 50 | 202001 | RED   | 휴식 | 61200    | 5  |\n",
       "| 서울 | 대구 | 동구 | 여행 | 숙박     | F | 40 | 202001 | RED   | 활동 | 535500   | 10 |\n",
       "| 인천 | 인천 | 동구 | 여행 | 관광쇼핑 | F | 50 | 202001 | WHITE | 활동 | 765000   | 5  |\n",
       "| 인천 | 인천 | 동구 | 여행 | 숙박     | M | 30 | 202001 | WHITE | 취침 | 586500   | 15 |\n",
       "| 경기 | 부산 | 북구 | 여행 | 숙박     | F | 40 | 202001 | RED   | 휴식 | 433500   | 10 |\n",
       "| 부산 | 광주 | 북구 | 여행 | 체험     | F | 40 | 202001 | RED   | 활동 | 153000   | 10 |\n",
       "| 부산 | 부산 | 북구 | 여행 | 교통     | F | 50 | 202001 | WHITE | 활동 | 204000   | 5  |\n",
       "| 충남 | 울산 | 북구 | 여행 | 숙박     | F | 50 | 202001 | WHITE | 휴식 | 51000    | 5  |\n",
       "| 전남 | 부산 | 북구 | 여행 | 숙박     | M | 50 | 202001 | RED   | 휴식 | 306000   | 5  |\n",
       "| 부산 | 울산 | 북구 | 여행 | 교통     | F | 50 | 202001 | WHITE | 활동 | 3876000  | 5  |\n",
       "| ⋮ | ⋮ | ⋮ | ⋮ | ⋮ | ⋮ | ⋮ | ⋮ | ⋮ | ⋮ | ⋮ | ⋮ |\n",
       "| 서울 | 강원 | 홍천군   | 여행 | 교통     | M | 20 | 202006 | WHITE | 휴식 | 511000   | 5   |\n",
       "| 강원 | 강원 | 홍천군   | 여행 | 교통     | F | 20 | 202006 | WHITE | 활동 | 1379700  | 10  |\n",
       "| 강원 | 강원 | 화천군   | 여행 | 숙박     | M | 20 | 202006 | RED   | 취침 | 511000   | 5   |\n",
       "| 대전 | 강원 | 횡성군   | 여행 | 숙박     | M | 60 | 202006 | RED   | 활동 | 229950   | 5   |\n",
       "| 서울 | 강원 | 횡성군   | 여행 | 숙박     | M | 20 | 202006 | WHITE | 활동 | 718466   | 25  |\n",
       "| 강원 | 강원 | 횡성군   | 여행 | 숙박     | M | 40 | 202006 | RED   | 활동 | 3669337  | 117 |\n",
       "| 인천 | 강원 | 횡성군   | 여행 | 숙박     | M | 40 | 202006 | RED   | 휴식 | 306600   | 5   |\n",
       "| 서울 | 서울 | 동대문구 | 여행 | 숙박     | F | 60 | 202006 | WHITE | 휴식 | 1875370  | 35  |\n",
       "| 경기 | 서울 | 동대문구 | 여행 | 숙박     | M | 30 | 202006 | WHITE | 활동 | 1803830  | 61  |\n",
       "| 인천 | 인천 | 미추홀구 | 여행 | 숙박     | M | 60 | 202006 | RED   | 휴식 | 4384380  | 66  |\n",
       "| 경기 | 인천 | 미추홀구 | 여행 | 교통     | F | 60 | 202006 | WHITE | 활동 | 25287039 | 35  |\n",
       "| 대구 | 부산 | 부산진구 | 여행 | 숙박     | M | 20 | 202006 | WHITE | 휴식 | 688317   | 20  |\n",
       "| 울산 | 부산 | 부산진구 | 여행 | 숙박     | M | 20 | 202006 | WHITE | 활동 | 1384810  | 51  |\n",
       "| 충북 | 제주 | 서귀포시 | 여행 | 체험     | F | 40 | 202006 | WHITE | 활동 | 2563687  | 45  |\n",
       "| 전남 | 제주 | 서귀포시 | 여행 | 숙박     | M | 40 | 202006 | RED   | 휴식 | 2331693  | 10  |\n",
       "| 전북 | 제주 | 서귀포시 | 여행 | 체험     | M | 30 | 202006 | WHITE | 활동 | 2731295  | 97  |\n",
       "| 세종 | 제주 | 서귀포시 | 여행 | 체험     | M | 40 | 202006 | WHITE | 활동 | 1457372  | 45  |\n",
       "| 전남 | 제주 | 서귀포시 | 여행 | 체험     | M | 30 | 202006 | RED   | 활동 | 718466   | 51  |\n",
       "| 경북 | 제주 | 서귀포시 | 여행 | 숙박     | M | 40 | 202006 | RED   | 휴식 | 353356   | 15  |\n",
       "| 부산 | 제주 | 서귀포시 | 여행 | 숙박     | M | 60 | 202006 | WHITE | 활동 | 5175408  | 40  |\n",
       "| 경기 | 제주 | 서귀포시 | 여행 | 체험     | F | 60 | 202006 | RED   | 활동 | 1859529  | 61  |\n",
       "| 광주 | 제주 | 서귀포시 | 여행 | 체험     | F | 30 | 202006 | RED   | 활동 | 1110914  | 81  |\n",
       "| 부산 | 서울 | 서대문구 | 여행 | 숙박     | M | 60 | 202006 | WHITE | 취침 | 311710   | 10  |\n",
       "| 경북 | 서울 | 서대문구 | 여행 | 숙박     | M | 40 | 202006 | WHITE | 휴식 | 669410   | 15  |\n",
       "| 인천 | 서울 | 영등포구 | 여행 | 교통     | M | 20 | 202006 | WHITE | 활동 | 5927600  | 15  |\n",
       "| 인천 | 서울 | 영등포구 | 여행 | 체험     | M | 40 | 202006 | WHITE | 활동 | 784385   | 20  |\n",
       "| 충남 | 경기 | 의정부시 | 여행 | 숙박     | M | 40 | 202006 | WHITE | 활동 | 766500   | 20  |\n",
       "| 경기 | 경기 | 의정부시 | 여행 | 숙박     | F | 60 | 202006 | RED   | 취침 | 408800   | 5   |\n",
       "| 부산 | 부산 | 해운대구 | 여행 | 관광쇼핑 | M | 50 | 202006 | WHITE | 활동 | 6529655  | 25  |\n",
       "| 부산 | 부산 | 해운대구 | 여행 | 관광쇼핑 | M | 30 | 202006 | RED   | 활동 | 150745   | 15  |\n",
       "\n"
      ],
      "text/plain": [
       "       V1   V2   V3       V4   V5       V6 V7 V8     V9    V10  V11      V12\n",
       "1      대전 세종 .        여행 숙박     M  30 202001 RED   활동 510000   10 \n",
       "2      인천 세종 .        여행 체험     M  40 202001 RED   휴식 105060   5  \n",
       "3      부산 대구 남구     여행 체험     F  20 202001 RED   활동 267750   15 \n",
       "4      제주 부산 남구     여행 숙박     F  30 202001 RED   활동 168300   10 \n",
       "5      강원 울산 남구     여행 숙박     M  40 202001 RED   휴식 233580   5  \n",
       "6      인천 대구 남구     여행 체험     M  30 202001 RED   활동 145350   5  \n",
       "7      울산 울산 남구     여행 숙박     F  50 202001 RED   취침 204000   5  \n",
       "8      광주 울산 남구     여행 숙박     M  40 202001 RED   활동 1279539  10 \n",
       "9      대전 부산 남구     여행 숙박     F  50 202001 WHITE 취침 153000   5  \n",
       "10     광주 울산 남구     여행 숙박     M  50 202001 RED   활동 229500   5  \n",
       "11     경기 대구 남구     여행 숙박     M  60 202001 RED   취침 306000   5  \n",
       "12     광주 부산 남구     여행 숙박     M  40 202001 WHITE 취침 178500   5  \n",
       "13     세종 대전 동구     여행 숙박     M  50 202001 RED   활동 357000   10 \n",
       "14     강원 대구 동구     여행 숙박     M  20 202001 WHITE 활동 102000   5  \n",
       "15     대구 대구 동구     여행 교통     F  20 202001 RED   활동 56100    5  \n",
       "16     충남 대구 동구     여행 체험     F  30 202001 WHITE 활동 744600   10 \n",
       "17     광주 광주 동구     여행 여행사   M  50 202001 WHITE 활동 15646851 15 \n",
       "18     경기 광주 동구     여행 숙박     F  20 202001 RED   휴식 229500   5  \n",
       "19     부산 부산 동구     여행 여행사   F  40 202001 WHITE 활동 14790000 10 \n",
       "20     세종 대전 동구     여행 체험     M  40 202001 WHITE 활동 1157700  5  \n",
       "21     충남 대전 동구     여행 체험     F  50 202001 RED   휴식 61200    5  \n",
       "22     서울 대구 동구     여행 숙박     F  40 202001 RED   활동 535500   10 \n",
       "23     인천 인천 동구     여행 관광쇼핑 F  50 202001 WHITE 활동 765000   5  \n",
       "24     인천 인천 동구     여행 숙박     M  30 202001 WHITE 취침 586500   15 \n",
       "25     경기 부산 북구     여행 숙박     F  40 202001 RED   휴식 433500   10 \n",
       "26     부산 광주 북구     여행 체험     F  40 202001 RED   활동 153000   10 \n",
       "27     부산 부산 북구     여행 교통     F  50 202001 WHITE 활동 204000   5  \n",
       "28     충남 울산 북구     여행 숙박     F  50 202001 WHITE 휴식 51000    5  \n",
       "29     전남 부산 북구     여행 숙박     M  50 202001 RED   휴식 306000   5  \n",
       "30     부산 울산 북구     여행 교통     F  50 202001 WHITE 활동 3876000  5  \n",
       "<U+22EE>      <U+22EE> <U+22EE> <U+22EE> <U+22EE> <U+22EE> <U+22EE> <U+22EE> <U+22EE> <U+22EE> <U+22EE> <U+22EE> <U+22EE>\n",
       "679454 서울 강원 홍천군   여행 교통     M  20 202006 WHITE 휴식 511000   5  \n",
       "679455 강원 강원 홍천군   여행 교통     F  20 202006 WHITE 활동 1379700  10 \n",
       "679456 강원 강원 화천군   여행 숙박     M  20 202006 RED   취침 511000   5  \n",
       "679457 대전 강원 횡성군   여행 숙박     M  60 202006 RED   활동 229950   5  \n",
       "679458 서울 강원 횡성군   여행 숙박     M  20 202006 WHITE 활동 718466   25 \n",
       "679459 강원 강원 횡성군   여행 숙박     M  40 202006 RED   활동 3669337  117\n",
       "679460 인천 강원 횡성군   여행 숙박     M  40 202006 RED   휴식 306600   5  \n",
       "679461 서울 서울 동대문구 여행 숙박     F  60 202006 WHITE 휴식 1875370  35 \n",
       "679462 경기 서울 동대문구 여행 숙박     M  30 202006 WHITE 활동 1803830  61 \n",
       "679463 인천 인천 미추홀구 여행 숙박     M  60 202006 RED   휴식 4384380  66 \n",
       "679464 경기 인천 미추홀구 여행 교통     F  60 202006 WHITE 활동 25287039 35 \n",
       "679465 대구 부산 부산진구 여행 숙박     M  20 202006 WHITE 휴식 688317   20 \n",
       "679466 울산 부산 부산진구 여행 숙박     M  20 202006 WHITE 활동 1384810  51 \n",
       "679467 충북 제주 서귀포시 여행 체험     F  40 202006 WHITE 활동 2563687  45 \n",
       "679468 전남 제주 서귀포시 여행 숙박     M  40 202006 RED   휴식 2331693  10 \n",
       "679469 전북 제주 서귀포시 여행 체험     M  30 202006 WHITE 활동 2731295  97 \n",
       "679470 세종 제주 서귀포시 여행 체험     M  40 202006 WHITE 활동 1457372  45 \n",
       "679471 전남 제주 서귀포시 여행 체험     M  30 202006 RED   활동 718466   51 \n",
       "679472 경북 제주 서귀포시 여행 숙박     M  40 202006 RED   휴식 353356   15 \n",
       "679473 부산 제주 서귀포시 여행 숙박     M  60 202006 WHITE 활동 5175408  40 \n",
       "679474 경기 제주 서귀포시 여행 체험     F  60 202006 RED   활동 1859529  61 \n",
       "679475 광주 제주 서귀포시 여행 체험     F  30 202006 RED   활동 1110914  81 \n",
       "679476 부산 서울 서대문구 여행 숙박     M  60 202006 WHITE 취침 311710   10 \n",
       "679477 경북 서울 서대문구 여행 숙박     M  40 202006 WHITE 휴식 669410   15 \n",
       "679478 인천 서울 영등포구 여행 교통     M  20 202006 WHITE 활동 5927600  15 \n",
       "679479 인천 서울 영등포구 여행 체험     M  40 202006 WHITE 활동 784385   20 \n",
       "679480 충남 경기 의정부시 여행 숙박     M  40 202006 WHITE 활동 766500   20 \n",
       "679481 경기 경기 의정부시 여행 숙박     F  60 202006 RED   취침 408800   5  \n",
       "679482 부산 부산 해운대구 여행 관광쇼핑 M  50 202006 WHITE 활동 6529655  25 \n",
       "679483 부산 부산 해운대구 여행 관광쇼핑 M  30 202006 RED   활동 150745   15 "
      ]
     },
     "metadata": {},
     "output_type": "display_data"
    }
   ],
   "source": [
    "data_2020_travel"
   ]
  },
  {
   "cell_type": "code",
   "execution_count": 12,
   "metadata": {},
   "outputs": [],
   "source": [
    "write.csv(data_2020_travel,file='data_2020_travel.csv')"
   ]
  },
  {
   "cell_type": "code",
   "execution_count": null,
   "metadata": {},
   "outputs": [],
   "source": []
  }
 ],
 "metadata": {
  "kernelspec": {
   "display_name": "R",
   "language": "R",
   "name": "ir"
  },
  "language_info": {
   "codemirror_mode": "r",
   "file_extension": ".r",
   "mimetype": "text/x-r-source",
   "name": "R",
   "pygments_lexer": "r",
   "version": "4.0.2"
  }
 },
 "nbformat": 4,
 "nbformat_minor": 4
}
