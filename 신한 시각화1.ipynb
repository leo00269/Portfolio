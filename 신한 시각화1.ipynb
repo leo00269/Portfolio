{
 "cells": [
  {
   "cell_type": "markdown",
   "metadata": {},
   "source": [
    "## 신한데이터 사용정보 시각화"
   ]
  },
  {
   "cell_type": "code",
   "execution_count": 5,
   "metadata": {},
   "outputs": [],
   "source": [
    "library(readxl)\n",
    "library(dplyr)\n",
    "library(ggplot2)\n",
    "library(ggthemes)\n",
    "library(RSADBE)\n",
    "library(tidyverse)"
   ]
  },
  {
   "cell_type": "code",
   "execution_count": 8,
   "metadata": {},
   "outputs": [],
   "source": [
    "data_2020<-read.table('real/신한카드 데이터/KCTI_NATIVE_2020.txt',sep='|',row.names =NULL)"
   ]
  },
  {
   "cell_type": "code",
   "execution_count": 9,
   "metadata": {},
   "outputs": [],
   "source": [
    "#head(data_2020)"
   ]
  },
  {
   "cell_type": "code",
   "execution_count": 10,
   "metadata": {},
   "outputs": [],
   "source": [
    "data_2020_travel  <-filter(data_2020,data_2020$V4=='여행')"
   ]
  },
  {
   "cell_type": "code",
   "execution_count": 17,
   "metadata": {},
   "outputs": [
    {
     "data": {
      "text/html": [
       "<table>\n",
       "<caption>A data.frame: 6 × 12</caption>\n",
       "<thead>\n",
       "\t<tr><th></th><th scope=col>V1</th><th scope=col>V2</th><th scope=col>V3</th><th scope=col>V4</th><th scope=col>V5</th><th scope=col>V6</th><th scope=col>V7</th><th scope=col>V8</th><th scope=col>V9</th><th scope=col>V10</th><th scope=col>V11</th><th scope=col>V12</th></tr>\n",
       "\t<tr><th></th><th scope=col>&lt;chr&gt;</th><th scope=col>&lt;chr&gt;</th><th scope=col>&lt;chr&gt;</th><th scope=col>&lt;chr&gt;</th><th scope=col>&lt;chr&gt;</th><th scope=col>&lt;chr&gt;</th><th scope=col>&lt;chr&gt;</th><th scope=col>&lt;chr&gt;</th><th scope=col>&lt;chr&gt;</th><th scope=col>&lt;chr&gt;</th><th scope=col>&lt;chr&gt;</th><th scope=col>&lt;chr&gt;</th></tr>\n",
       "</thead>\n",
       "<tbody>\n",
       "\t<tr><th scope=row>1</th><td>대전</td><td>세종</td><td>.   </td><td>여행</td><td>숙박</td><td>M</td><td>30</td><td>202001</td><td>RED</td><td>활동</td><td>510000</td><td>10</td></tr>\n",
       "\t<tr><th scope=row>2</th><td>인천</td><td>세종</td><td>.   </td><td>여행</td><td>체험</td><td>M</td><td>40</td><td>202001</td><td>RED</td><td>휴식</td><td>105060</td><td>5 </td></tr>\n",
       "\t<tr><th scope=row>3</th><td>부산</td><td>대구</td><td>남구</td><td>여행</td><td>체험</td><td>F</td><td>20</td><td>202001</td><td>RED</td><td>활동</td><td>267750</td><td>15</td></tr>\n",
       "\t<tr><th scope=row>4</th><td>제주</td><td>부산</td><td>남구</td><td>여행</td><td>숙박</td><td>F</td><td>30</td><td>202001</td><td>RED</td><td>활동</td><td>168300</td><td>10</td></tr>\n",
       "\t<tr><th scope=row>5</th><td>강원</td><td>울산</td><td>남구</td><td>여행</td><td>숙박</td><td>M</td><td>40</td><td>202001</td><td>RED</td><td>휴식</td><td>233580</td><td>5 </td></tr>\n",
       "\t<tr><th scope=row>6</th><td>인천</td><td>대구</td><td>남구</td><td>여행</td><td>체험</td><td>M</td><td>30</td><td>202001</td><td>RED</td><td>활동</td><td>145350</td><td>5 </td></tr>\n",
       "</tbody>\n",
       "</table>\n"
      ],
      "text/latex": [
       "A data.frame: 6 × 12\n",
       "\\begin{tabular}{r|llllllllllll}\n",
       "  & V1 & V2 & V3 & V4 & V5 & V6 & V7 & V8 & V9 & V10 & V11 & V12\\\\\n",
       "  & <chr> & <chr> & <chr> & <chr> & <chr> & <chr> & <chr> & <chr> & <chr> & <chr> & <chr> & <chr>\\\\\n",
       "\\hline\n",
       "\t1 & 대전 & 세종 & .    & 여행 & 숙박 & M & 30 & 202001 & RED & 활동 & 510000 & 10\\\\\n",
       "\t2 & 인천 & 세종 & .    & 여행 & 체험 & M & 40 & 202001 & RED & 휴식 & 105060 & 5 \\\\\n",
       "\t3 & 부산 & 대구 & 남구 & 여행 & 체험 & F & 20 & 202001 & RED & 활동 & 267750 & 15\\\\\n",
       "\t4 & 제주 & 부산 & 남구 & 여행 & 숙박 & F & 30 & 202001 & RED & 활동 & 168300 & 10\\\\\n",
       "\t5 & 강원 & 울산 & 남구 & 여행 & 숙박 & M & 40 & 202001 & RED & 휴식 & 233580 & 5 \\\\\n",
       "\t6 & 인천 & 대구 & 남구 & 여행 & 체험 & M & 30 & 202001 & RED & 활동 & 145350 & 5 \\\\\n",
       "\\end{tabular}\n"
      ],
      "text/markdown": [
       "\n",
       "A data.frame: 6 × 12\n",
       "\n",
       "| <!--/--> | V1 &lt;chr&gt; | V2 &lt;chr&gt; | V3 &lt;chr&gt; | V4 &lt;chr&gt; | V5 &lt;chr&gt; | V6 &lt;chr&gt; | V7 &lt;chr&gt; | V8 &lt;chr&gt; | V9 &lt;chr&gt; | V10 &lt;chr&gt; | V11 &lt;chr&gt; | V12 &lt;chr&gt; |\n",
       "|---|---|---|---|---|---|---|---|---|---|---|---|---|\n",
       "| 1 | 대전 | 세종 | .    | 여행 | 숙박 | M | 30 | 202001 | RED | 활동 | 510000 | 10 |\n",
       "| 2 | 인천 | 세종 | .    | 여행 | 체험 | M | 40 | 202001 | RED | 휴식 | 105060 | 5  |\n",
       "| 3 | 부산 | 대구 | 남구 | 여행 | 체험 | F | 20 | 202001 | RED | 활동 | 267750 | 15 |\n",
       "| 4 | 제주 | 부산 | 남구 | 여행 | 숙박 | F | 30 | 202001 | RED | 활동 | 168300 | 10 |\n",
       "| 5 | 강원 | 울산 | 남구 | 여행 | 숙박 | M | 40 | 202001 | RED | 휴식 | 233580 | 5  |\n",
       "| 6 | 인천 | 대구 | 남구 | 여행 | 체험 | M | 30 | 202001 | RED | 활동 | 145350 | 5  |\n",
       "\n"
      ],
      "text/plain": [
       "  V1   V2   V3   V4   V5   V6 V7 V8     V9  V10  V11    V12\n",
       "1 대전 세종 .    여행 숙박 M  30 202001 RED 활동 510000 10 \n",
       "2 인천 세종 .    여행 체험 M  40 202001 RED 휴식 105060 5  \n",
       "3 부산 대구 남구 여행 체험 F  20 202001 RED 활동 267750 15 \n",
       "4 제주 부산 남구 여행 숙박 F  30 202001 RED 활동 168300 10 \n",
       "5 강원 울산 남구 여행 숙박 M  40 202001 RED 휴식 233580 5  \n",
       "6 인천 대구 남구 여행 체험 M  30 202001 RED 활동 145350 5  "
      ]
     },
     "metadata": {},
     "output_type": "display_data"
    }
   ],
   "source": [
    "head(data_2020_travel)"
   ]
  },
  {
   "cell_type": "code",
   "execution_count": 18,
   "metadata": {},
   "outputs": [],
   "source": [
    "write.csv(data_2020_travel,file = '2020_travel.csv',row.names=FALSE)"
   ]
  },
  {
   "cell_type": "code",
   "execution_count": 6,
   "metadata": {},
   "outputs": [],
   "source": [
    "data_2020_travel$V11<-as.numeric(data_2020_travel$V11)"
   ]
  },
  {
   "cell_type": "code",
   "execution_count": 7,
   "metadata": {},
   "outputs": [],
   "source": [
    "data_2020_travel$V12<-as.numeric(data_2020_travel$V12)"
   ]
  },
  {
   "cell_type": "code",
   "execution_count": 8,
   "metadata": {},
   "outputs": [],
   "source": [
    "data_2020_travel$V8<-as.numeric(data_2020_travel$V8)"
   ]
  },
  {
   "cell_type": "code",
   "execution_count": 9,
   "metadata": {
    "scrolled": true
   },
   "outputs": [
    {
     "data": {
      "text/html": [
       "TRUE"
      ],
      "text/latex": [
       "TRUE"
      ],
      "text/markdown": [
       "TRUE"
      ],
      "text/plain": [
       "[1] TRUE"
      ]
     },
     "metadata": {},
     "output_type": "display_data"
    }
   ],
   "source": [
    "is.numeric(data_2020_travel$V8)"
   ]
  },
  {
   "cell_type": "code",
   "execution_count": 10,
   "metadata": {},
   "outputs": [
    {
     "data": {
      "text/html": [
       "<style>\n",
       ".dl-inline {width: auto; margin:0; padding: 0}\n",
       ".dl-inline>dt, .dl-inline>dd {float: none; width: auto; display: inline-block}\n",
       ".dl-inline>dt::after {content: \":\\0020\"; padding-right: .5ex}\n",
       ".dl-inline>dt:not(:first-of-type) {padding-left: .5ex}\n",
       "</style><dl class=dl-inline><dt>0%</dt><dd>0</dd><dt>25%</dt><dd>204000</dd><dt>50%</dt><dd>516120</dd><dt>75%</dt><dd>1889910</dd><dt>100%</dt><dd>6.458e+09</dd></dl>\n"
      ],
      "text/latex": [
       "\\begin{description*}\n",
       "\\item[0\\textbackslash{}\\%] 0\n",
       "\\item[25\\textbackslash{}\\%] 204000\n",
       "\\item[50\\textbackslash{}\\%] 516120\n",
       "\\item[75\\textbackslash{}\\%] 1889910\n",
       "\\item[100\\textbackslash{}\\%] 6.458e+09\n",
       "\\end{description*}\n"
      ],
      "text/markdown": [
       "0%\n",
       ":   025%\n",
       ":   20400050%\n",
       ":   51612075%\n",
       ":   1889910100%\n",
       ":   6.458e+09\n",
       "\n"
      ],
      "text/plain": [
       "        0%        25%        50%        75%       100% \n",
       "         0     204000     516120    1889910 6458000000 "
      ]
     },
     "metadata": {},
     "output_type": "display_data"
    }
   ],
   "source": [
    "#4분위 수 \n",
    "quantile(data_2020_travel$V11,na.rm=T)"
   ]
  },
  {
   "cell_type": "code",
   "execution_count": 11,
   "metadata": {
    "scrolled": true
   },
   "outputs": [
    {
     "data": {
      "text/plain": [
       "     Min.   1st Qu.    Median      Mean   3rd Qu.      Max. \n",
       "0.000e+00 2.040e+05 5.161e+05 6.125e+06 1.890e+06 6.458e+09 "
      ]
     },
     "metadata": {},
     "output_type": "display_data"
    }
   ],
   "source": [
    "#평균 및 중앙값\n",
    "summary(data_2020_travel$V11,na.rm=T)"
   ]
  },
  {
   "cell_type": "code",
   "execution_count": 12,
   "metadata": {
    "scrolled": true
   },
   "outputs": [],
   "source": [
    "#boxplot(data_2020_travel$V11)+options('scipen'=100)+ggtitle('여행자들 쓴 금액 ')"
   ]
  },
  {
   "cell_type": "code",
   "execution_count": 13,
   "metadata": {},
   "outputs": [],
   "source": [
    "#write.table(data_2020_travel,\"data_2020_travel.txt\")"
   ]
  },
  {
   "cell_type": "code",
   "execution_count": 14,
   "metadata": {},
   "outputs": [],
   "source": [
    "#df_2020<-read.table('data_2020_travel.txt')"
   ]
  },
  {
   "cell_type": "code",
   "execution_count": 15,
   "metadata": {},
   "outputs": [
    {
     "data": {
      "text/html": [
       "<table>\n",
       "<caption>A data.frame: 6 × 12</caption>\n",
       "<thead>\n",
       "\t<tr><th></th><th scope=col>V1</th><th scope=col>V2</th><th scope=col>V3</th><th scope=col>V4</th><th scope=col>V5</th><th scope=col>V6</th><th scope=col>V7</th><th scope=col>V8</th><th scope=col>V9</th><th scope=col>V10</th><th scope=col>V11</th><th scope=col>V12</th></tr>\n",
       "\t<tr><th></th><th scope=col>&lt;chr&gt;</th><th scope=col>&lt;chr&gt;</th><th scope=col>&lt;chr&gt;</th><th scope=col>&lt;chr&gt;</th><th scope=col>&lt;chr&gt;</th><th scope=col>&lt;chr&gt;</th><th scope=col>&lt;chr&gt;</th><th scope=col>&lt;dbl&gt;</th><th scope=col>&lt;chr&gt;</th><th scope=col>&lt;chr&gt;</th><th scope=col>&lt;dbl&gt;</th><th scope=col>&lt;dbl&gt;</th></tr>\n",
       "</thead>\n",
       "<tbody>\n",
       "\t<tr><th scope=row>1</th><td>대전</td><td>세종</td><td>.   </td><td>여행</td><td>숙박</td><td>M</td><td>30</td><td>202001</td><td>RED</td><td>활동</td><td>510000</td><td>10</td></tr>\n",
       "\t<tr><th scope=row>2</th><td>인천</td><td>세종</td><td>.   </td><td>여행</td><td>체험</td><td>M</td><td>40</td><td>202001</td><td>RED</td><td>휴식</td><td>105060</td><td> 5</td></tr>\n",
       "\t<tr><th scope=row>3</th><td>부산</td><td>대구</td><td>남구</td><td>여행</td><td>체험</td><td>F</td><td>20</td><td>202001</td><td>RED</td><td>활동</td><td>267750</td><td>15</td></tr>\n",
       "\t<tr><th scope=row>4</th><td>제주</td><td>부산</td><td>남구</td><td>여행</td><td>숙박</td><td>F</td><td>30</td><td>202001</td><td>RED</td><td>활동</td><td>168300</td><td>10</td></tr>\n",
       "\t<tr><th scope=row>5</th><td>강원</td><td>울산</td><td>남구</td><td>여행</td><td>숙박</td><td>M</td><td>40</td><td>202001</td><td>RED</td><td>휴식</td><td>233580</td><td> 5</td></tr>\n",
       "\t<tr><th scope=row>6</th><td>인천</td><td>대구</td><td>남구</td><td>여행</td><td>체험</td><td>M</td><td>30</td><td>202001</td><td>RED</td><td>활동</td><td>145350</td><td> 5</td></tr>\n",
       "</tbody>\n",
       "</table>\n"
      ],
      "text/latex": [
       "A data.frame: 6 × 12\n",
       "\\begin{tabular}{r|llllllllllll}\n",
       "  & V1 & V2 & V3 & V4 & V5 & V6 & V7 & V8 & V9 & V10 & V11 & V12\\\\\n",
       "  & <chr> & <chr> & <chr> & <chr> & <chr> & <chr> & <chr> & <dbl> & <chr> & <chr> & <dbl> & <dbl>\\\\\n",
       "\\hline\n",
       "\t1 & 대전 & 세종 & .    & 여행 & 숙박 & M & 30 & 202001 & RED & 활동 & 510000 & 10\\\\\n",
       "\t2 & 인천 & 세종 & .    & 여행 & 체험 & M & 40 & 202001 & RED & 휴식 & 105060 &  5\\\\\n",
       "\t3 & 부산 & 대구 & 남구 & 여행 & 체험 & F & 20 & 202001 & RED & 활동 & 267750 & 15\\\\\n",
       "\t4 & 제주 & 부산 & 남구 & 여행 & 숙박 & F & 30 & 202001 & RED & 활동 & 168300 & 10\\\\\n",
       "\t5 & 강원 & 울산 & 남구 & 여행 & 숙박 & M & 40 & 202001 & RED & 휴식 & 233580 &  5\\\\\n",
       "\t6 & 인천 & 대구 & 남구 & 여행 & 체험 & M & 30 & 202001 & RED & 활동 & 145350 &  5\\\\\n",
       "\\end{tabular}\n"
      ],
      "text/markdown": [
       "\n",
       "A data.frame: 6 × 12\n",
       "\n",
       "| <!--/--> | V1 &lt;chr&gt; | V2 &lt;chr&gt; | V3 &lt;chr&gt; | V4 &lt;chr&gt; | V5 &lt;chr&gt; | V6 &lt;chr&gt; | V7 &lt;chr&gt; | V8 &lt;dbl&gt; | V9 &lt;chr&gt; | V10 &lt;chr&gt; | V11 &lt;dbl&gt; | V12 &lt;dbl&gt; |\n",
       "|---|---|---|---|---|---|---|---|---|---|---|---|---|\n",
       "| 1 | 대전 | 세종 | .    | 여행 | 숙박 | M | 30 | 202001 | RED | 활동 | 510000 | 10 |\n",
       "| 2 | 인천 | 세종 | .    | 여행 | 체험 | M | 40 | 202001 | RED | 휴식 | 105060 |  5 |\n",
       "| 3 | 부산 | 대구 | 남구 | 여행 | 체험 | F | 20 | 202001 | RED | 활동 | 267750 | 15 |\n",
       "| 4 | 제주 | 부산 | 남구 | 여행 | 숙박 | F | 30 | 202001 | RED | 활동 | 168300 | 10 |\n",
       "| 5 | 강원 | 울산 | 남구 | 여행 | 숙박 | M | 40 | 202001 | RED | 휴식 | 233580 |  5 |\n",
       "| 6 | 인천 | 대구 | 남구 | 여행 | 체험 | M | 30 | 202001 | RED | 활동 | 145350 |  5 |\n",
       "\n"
      ],
      "text/plain": [
       "  V1   V2   V3   V4   V5   V6 V7 V8     V9  V10  V11    V12\n",
       "1 대전 세종 .    여행 숙박 M  30 202001 RED 활동 510000 10 \n",
       "2 인천 세종 .    여행 체험 M  40 202001 RED 휴식 105060  5 \n",
       "3 부산 대구 남구 여행 체험 F  20 202001 RED 활동 267750 15 \n",
       "4 제주 부산 남구 여행 숙박 F  30 202001 RED 활동 168300 10 \n",
       "5 강원 울산 남구 여행 숙박 M  40 202001 RED 휴식 233580  5 \n",
       "6 인천 대구 남구 여행 체험 M  30 202001 RED 활동 145350  5 "
      ]
     },
     "metadata": {},
     "output_type": "display_data"
    }
   ],
   "source": [
    "head(data_2020_travel)"
   ]
  },
  {
   "cell_type": "code",
   "execution_count": 16,
   "metadata": {},
   "outputs": [
    {
     "data": {
      "text/plain": [
       "\n",
       "관광쇼핑     교통     숙박   여행사     체험 \n",
       "   54952    84008   412085    18011   110427 "
      ]
     },
     "metadata": {},
     "output_type": "display_data"
    }
   ],
   "source": [
    "table(data_2020_travel$V5)"
   ]
  },
  {
   "cell_type": "code",
   "execution_count": 17,
   "metadata": {},
   "outputs": [],
   "source": [
    "count_2020<-count(data_2020_travel)"
   ]
  },
  {
   "cell_type": "markdown",
   "metadata": {},
   "source": [
    "# 변수 설명\n",
    "- 숙박 ==1\n",
    "- 관광쇼핑 ==2\n",
    "- 교통 =3\n",
    "- 여행사 =4\n",
    "- 체험=5"
   ]
  },
  {
   "cell_type": "code",
   "execution_count": 18,
   "metadata": {},
   "outputs": [],
   "source": [
    "for(i in count_2020){\n",
    "    data_2020_travel$V5<-ifelse(data_2020_travel$V5=='숙박',1,\n",
    "                               ifelse(data_2020_travel$V5=='관광쇼핑',2,\n",
    "                                      ifelse(data_2020_travel$V5=='교통',3,\n",
    "                                             ifelse(data_2020_travel$V5=='여행사',4,5))))}"
   ]
  },
  {
   "cell_type": "code",
   "execution_count": 19,
   "metadata": {},
   "outputs": [
    {
     "data": {
      "text/plain": [
       "\n",
       "     1      2      3      4      5 \n",
       "412085  54952  84008  18011 110427 "
      ]
     },
     "metadata": {},
     "output_type": "display_data"
    }
   ],
   "source": [
    "table(data_2020_travel$V5)"
   ]
  },
  {
   "cell_type": "code",
   "execution_count": 20,
   "metadata": {},
   "outputs": [
    {
     "data": {
      "text/html": [
       "TRUE"
      ],
      "text/latex": [
       "TRUE"
      ],
      "text/markdown": [
       "TRUE"
      ],
      "text/plain": [
       "[1] TRUE"
      ]
     },
     "metadata": {},
     "output_type": "display_data"
    }
   ],
   "source": [
    "is.numeric(data_2020_travel$V5)"
   ]
  },
  {
   "cell_type": "code",
   "execution_count": 21,
   "metadata": {},
   "outputs": [
    {
     "data": {
      "text/html": [
       "<table>\n",
       "<caption>A data.frame: 6 × 12</caption>\n",
       "<thead>\n",
       "\t<tr><th></th><th scope=col>V1</th><th scope=col>V2</th><th scope=col>V3</th><th scope=col>V4</th><th scope=col>V5</th><th scope=col>V6</th><th scope=col>V7</th><th scope=col>V8</th><th scope=col>V9</th><th scope=col>V10</th><th scope=col>V11</th><th scope=col>V12</th></tr>\n",
       "\t<tr><th></th><th scope=col>&lt;chr&gt;</th><th scope=col>&lt;chr&gt;</th><th scope=col>&lt;chr&gt;</th><th scope=col>&lt;chr&gt;</th><th scope=col>&lt;dbl&gt;</th><th scope=col>&lt;chr&gt;</th><th scope=col>&lt;chr&gt;</th><th scope=col>&lt;dbl&gt;</th><th scope=col>&lt;chr&gt;</th><th scope=col>&lt;chr&gt;</th><th scope=col>&lt;dbl&gt;</th><th scope=col>&lt;dbl&gt;</th></tr>\n",
       "</thead>\n",
       "<tbody>\n",
       "\t<tr><th scope=row>1</th><td>대전</td><td>세종</td><td>.   </td><td>여행</td><td>1</td><td>M</td><td>30</td><td>202001</td><td>RED</td><td>활동</td><td>510000</td><td>10</td></tr>\n",
       "\t<tr><th scope=row>2</th><td>인천</td><td>세종</td><td>.   </td><td>여행</td><td>5</td><td>M</td><td>40</td><td>202001</td><td>RED</td><td>휴식</td><td>105060</td><td> 5</td></tr>\n",
       "\t<tr><th scope=row>3</th><td>부산</td><td>대구</td><td>남구</td><td>여행</td><td>5</td><td>F</td><td>20</td><td>202001</td><td>RED</td><td>활동</td><td>267750</td><td>15</td></tr>\n",
       "\t<tr><th scope=row>4</th><td>제주</td><td>부산</td><td>남구</td><td>여행</td><td>1</td><td>F</td><td>30</td><td>202001</td><td>RED</td><td>활동</td><td>168300</td><td>10</td></tr>\n",
       "\t<tr><th scope=row>5</th><td>강원</td><td>울산</td><td>남구</td><td>여행</td><td>1</td><td>M</td><td>40</td><td>202001</td><td>RED</td><td>휴식</td><td>233580</td><td> 5</td></tr>\n",
       "\t<tr><th scope=row>6</th><td>인천</td><td>대구</td><td>남구</td><td>여행</td><td>5</td><td>M</td><td>30</td><td>202001</td><td>RED</td><td>활동</td><td>145350</td><td> 5</td></tr>\n",
       "</tbody>\n",
       "</table>\n"
      ],
      "text/latex": [
       "A data.frame: 6 × 12\n",
       "\\begin{tabular}{r|llllllllllll}\n",
       "  & V1 & V2 & V3 & V4 & V5 & V6 & V7 & V8 & V9 & V10 & V11 & V12\\\\\n",
       "  & <chr> & <chr> & <chr> & <chr> & <dbl> & <chr> & <chr> & <dbl> & <chr> & <chr> & <dbl> & <dbl>\\\\\n",
       "\\hline\n",
       "\t1 & 대전 & 세종 & .    & 여행 & 1 & M & 30 & 202001 & RED & 활동 & 510000 & 10\\\\\n",
       "\t2 & 인천 & 세종 & .    & 여행 & 5 & M & 40 & 202001 & RED & 휴식 & 105060 &  5\\\\\n",
       "\t3 & 부산 & 대구 & 남구 & 여행 & 5 & F & 20 & 202001 & RED & 활동 & 267750 & 15\\\\\n",
       "\t4 & 제주 & 부산 & 남구 & 여행 & 1 & F & 30 & 202001 & RED & 활동 & 168300 & 10\\\\\n",
       "\t5 & 강원 & 울산 & 남구 & 여행 & 1 & M & 40 & 202001 & RED & 휴식 & 233580 &  5\\\\\n",
       "\t6 & 인천 & 대구 & 남구 & 여행 & 5 & M & 30 & 202001 & RED & 활동 & 145350 &  5\\\\\n",
       "\\end{tabular}\n"
      ],
      "text/markdown": [
       "\n",
       "A data.frame: 6 × 12\n",
       "\n",
       "| <!--/--> | V1 &lt;chr&gt; | V2 &lt;chr&gt; | V3 &lt;chr&gt; | V4 &lt;chr&gt; | V5 &lt;dbl&gt; | V6 &lt;chr&gt; | V7 &lt;chr&gt; | V8 &lt;dbl&gt; | V9 &lt;chr&gt; | V10 &lt;chr&gt; | V11 &lt;dbl&gt; | V12 &lt;dbl&gt; |\n",
       "|---|---|---|---|---|---|---|---|---|---|---|---|---|\n",
       "| 1 | 대전 | 세종 | .    | 여행 | 1 | M | 30 | 202001 | RED | 활동 | 510000 | 10 |\n",
       "| 2 | 인천 | 세종 | .    | 여행 | 5 | M | 40 | 202001 | RED | 휴식 | 105060 |  5 |\n",
       "| 3 | 부산 | 대구 | 남구 | 여행 | 5 | F | 20 | 202001 | RED | 활동 | 267750 | 15 |\n",
       "| 4 | 제주 | 부산 | 남구 | 여행 | 1 | F | 30 | 202001 | RED | 활동 | 168300 | 10 |\n",
       "| 5 | 강원 | 울산 | 남구 | 여행 | 1 | M | 40 | 202001 | RED | 휴식 | 233580 |  5 |\n",
       "| 6 | 인천 | 대구 | 남구 | 여행 | 5 | M | 30 | 202001 | RED | 활동 | 145350 |  5 |\n",
       "\n"
      ],
      "text/plain": [
       "  V1   V2   V3   V4   V5 V6 V7 V8     V9  V10  V11    V12\n",
       "1 대전 세종 .    여행 1  M  30 202001 RED 활동 510000 10 \n",
       "2 인천 세종 .    여행 5  M  40 202001 RED 휴식 105060  5 \n",
       "3 부산 대구 남구 여행 5  F  20 202001 RED 활동 267750 15 \n",
       "4 제주 부산 남구 여행 1  F  30 202001 RED 활동 168300 10 \n",
       "5 강원 울산 남구 여행 1  M  40 202001 RED 휴식 233580  5 \n",
       "6 인천 대구 남구 여행 5  M  30 202001 RED 활동 145350  5 "
      ]
     },
     "metadata": {},
     "output_type": "display_data"
    }
   ],
   "source": [
    "head(data_2020_travel)"
   ]
  },
  {
   "cell_type": "code",
   "execution_count": 22,
   "metadata": {},
   "outputs": [
    {
     "data": {
      "text/html": [
       "0.024248081746779"
      ],
      "text/latex": [
       "0.024248081746779"
      ],
      "text/markdown": [
       "0.024248081746779"
      ],
      "text/plain": [
       "[1] 0.02424808"
      ]
     },
     "metadata": {},
     "output_type": "display_data"
    }
   ],
   "source": [
    "#여행 종류에서 지출금액 상관관계\n",
    "cor(data_2020_travel$V5,data_2020_travel$V11)"
   ]
  },
  {
   "cell_type": "code",
   "execution_count": 23,
   "metadata": {},
   "outputs": [],
   "source": [
    "welfare<-data_2020_travel"
   ]
  },
  {
   "cell_type": "code",
   "execution_count": 24,
   "metadata": {},
   "outputs": [],
   "source": [
    "welfare$price_type<-0"
   ]
  },
  {
   "cell_type": "code",
   "execution_count": 25,
   "metadata": {
    "scrolled": false
   },
   "outputs": [
    {
     "data": {
      "text/html": [
       "<table>\n",
       "<caption>A data.frame: 6 × 13</caption>\n",
       "<thead>\n",
       "\t<tr><th></th><th scope=col>V1</th><th scope=col>V2</th><th scope=col>V3</th><th scope=col>V4</th><th scope=col>V5</th><th scope=col>V6</th><th scope=col>V7</th><th scope=col>V8</th><th scope=col>V9</th><th scope=col>V10</th><th scope=col>V11</th><th scope=col>V12</th><th scope=col>price_type</th></tr>\n",
       "\t<tr><th></th><th scope=col>&lt;chr&gt;</th><th scope=col>&lt;chr&gt;</th><th scope=col>&lt;chr&gt;</th><th scope=col>&lt;chr&gt;</th><th scope=col>&lt;dbl&gt;</th><th scope=col>&lt;chr&gt;</th><th scope=col>&lt;chr&gt;</th><th scope=col>&lt;dbl&gt;</th><th scope=col>&lt;chr&gt;</th><th scope=col>&lt;chr&gt;</th><th scope=col>&lt;dbl&gt;</th><th scope=col>&lt;dbl&gt;</th><th scope=col>&lt;dbl&gt;</th></tr>\n",
       "</thead>\n",
       "<tbody>\n",
       "\t<tr><th scope=row>1</th><td>대전</td><td>세종</td><td>.   </td><td>여행</td><td>1</td><td>M</td><td>30</td><td>202001</td><td>RED</td><td>활동</td><td>510000</td><td>10</td><td>0</td></tr>\n",
       "\t<tr><th scope=row>2</th><td>인천</td><td>세종</td><td>.   </td><td>여행</td><td>5</td><td>M</td><td>40</td><td>202001</td><td>RED</td><td>휴식</td><td>105060</td><td> 5</td><td>0</td></tr>\n",
       "\t<tr><th scope=row>3</th><td>부산</td><td>대구</td><td>남구</td><td>여행</td><td>5</td><td>F</td><td>20</td><td>202001</td><td>RED</td><td>활동</td><td>267750</td><td>15</td><td>0</td></tr>\n",
       "\t<tr><th scope=row>4</th><td>제주</td><td>부산</td><td>남구</td><td>여행</td><td>1</td><td>F</td><td>30</td><td>202001</td><td>RED</td><td>활동</td><td>168300</td><td>10</td><td>0</td></tr>\n",
       "\t<tr><th scope=row>5</th><td>강원</td><td>울산</td><td>남구</td><td>여행</td><td>1</td><td>M</td><td>40</td><td>202001</td><td>RED</td><td>휴식</td><td>233580</td><td> 5</td><td>0</td></tr>\n",
       "\t<tr><th scope=row>6</th><td>인천</td><td>대구</td><td>남구</td><td>여행</td><td>5</td><td>M</td><td>30</td><td>202001</td><td>RED</td><td>활동</td><td>145350</td><td> 5</td><td>0</td></tr>\n",
       "</tbody>\n",
       "</table>\n"
      ],
      "text/latex": [
       "A data.frame: 6 × 13\n",
       "\\begin{tabular}{r|lllllllllllll}\n",
       "  & V1 & V2 & V3 & V4 & V5 & V6 & V7 & V8 & V9 & V10 & V11 & V12 & price\\_type\\\\\n",
       "  & <chr> & <chr> & <chr> & <chr> & <dbl> & <chr> & <chr> & <dbl> & <chr> & <chr> & <dbl> & <dbl> & <dbl>\\\\\n",
       "\\hline\n",
       "\t1 & 대전 & 세종 & .    & 여행 & 1 & M & 30 & 202001 & RED & 활동 & 510000 & 10 & 0\\\\\n",
       "\t2 & 인천 & 세종 & .    & 여행 & 5 & M & 40 & 202001 & RED & 휴식 & 105060 &  5 & 0\\\\\n",
       "\t3 & 부산 & 대구 & 남구 & 여행 & 5 & F & 20 & 202001 & RED & 활동 & 267750 & 15 & 0\\\\\n",
       "\t4 & 제주 & 부산 & 남구 & 여행 & 1 & F & 30 & 202001 & RED & 활동 & 168300 & 10 & 0\\\\\n",
       "\t5 & 강원 & 울산 & 남구 & 여행 & 1 & M & 40 & 202001 & RED & 휴식 & 233580 &  5 & 0\\\\\n",
       "\t6 & 인천 & 대구 & 남구 & 여행 & 5 & M & 30 & 202001 & RED & 활동 & 145350 &  5 & 0\\\\\n",
       "\\end{tabular}\n"
      ],
      "text/markdown": [
       "\n",
       "A data.frame: 6 × 13\n",
       "\n",
       "| <!--/--> | V1 &lt;chr&gt; | V2 &lt;chr&gt; | V3 &lt;chr&gt; | V4 &lt;chr&gt; | V5 &lt;dbl&gt; | V6 &lt;chr&gt; | V7 &lt;chr&gt; | V8 &lt;dbl&gt; | V9 &lt;chr&gt; | V10 &lt;chr&gt; | V11 &lt;dbl&gt; | V12 &lt;dbl&gt; | price_type &lt;dbl&gt; |\n",
       "|---|---|---|---|---|---|---|---|---|---|---|---|---|---|\n",
       "| 1 | 대전 | 세종 | .    | 여행 | 1 | M | 30 | 202001 | RED | 활동 | 510000 | 10 | 0 |\n",
       "| 2 | 인천 | 세종 | .    | 여행 | 5 | M | 40 | 202001 | RED | 휴식 | 105060 |  5 | 0 |\n",
       "| 3 | 부산 | 대구 | 남구 | 여행 | 5 | F | 20 | 202001 | RED | 활동 | 267750 | 15 | 0 |\n",
       "| 4 | 제주 | 부산 | 남구 | 여행 | 1 | F | 30 | 202001 | RED | 활동 | 168300 | 10 | 0 |\n",
       "| 5 | 강원 | 울산 | 남구 | 여행 | 1 | M | 40 | 202001 | RED | 휴식 | 233580 |  5 | 0 |\n",
       "| 6 | 인천 | 대구 | 남구 | 여행 | 5 | M | 30 | 202001 | RED | 활동 | 145350 |  5 | 0 |\n",
       "\n"
      ],
      "text/plain": [
       "  V1   V2   V3   V4   V5 V6 V7 V8     V9  V10  V11    V12 price_type\n",
       "1 대전 세종 .    여행 1  M  30 202001 RED 활동 510000 10  0         \n",
       "2 인천 세종 .    여행 5  M  40 202001 RED 휴식 105060  5  0         \n",
       "3 부산 대구 남구 여행 5  F  20 202001 RED 활동 267750 15  0         \n",
       "4 제주 부산 남구 여행 1  F  30 202001 RED 활동 168300 10  0         \n",
       "5 강원 울산 남구 여행 1  M  40 202001 RED 휴식 233580  5  0         \n",
       "6 인천 대구 남구 여행 5  M  30 202001 RED 활동 145350  5  0         "
      ]
     },
     "metadata": {},
     "output_type": "display_data"
    }
   ],
   "source": [
    "head(welfare)"
   ]
  },
  {
   "cell_type": "code",
   "execution_count": 26,
   "metadata": {},
   "outputs": [],
   "source": [
    "welfare_test<-subset(welfare,select=c(V5,V11))"
   ]
  },
  {
   "cell_type": "code",
   "execution_count": 27,
   "metadata": {},
   "outputs": [],
   "source": [
    "welfare_test$total<-0"
   ]
  },
  {
   "cell_type": "code",
   "execution_count": 28,
   "metadata": {},
   "outputs": [
    {
     "data": {
      "text/html": [
       "4162115551516"
      ],
      "text/latex": [
       "4162115551516"
      ],
      "text/markdown": [
       "4162115551516"
      ],
      "text/plain": [
       "[1] 4.162116e+12"
      ]
     },
     "metadata": {},
     "output_type": "display_data"
    }
   ],
   "source": [
    "sum(welfare_test$V11)"
   ]
  },
  {
   "cell_type": "code",
   "execution_count": 29,
   "metadata": {},
   "outputs": [],
   "source": [
    "welfare_test$total<-ifelse(welfare_test$V5==1,sum(welfare_test$V11),0)"
   ]
  },
  {
   "cell_type": "code",
   "execution_count": 30,
   "metadata": {},
   "outputs": [],
   "source": [
    "welfare_test$total<-ifelse(welfare_test$V5==2,sum(welfare_test$V11),0)"
   ]
  },
  {
   "cell_type": "code",
   "execution_count": 31,
   "metadata": {
    "scrolled": true
   },
   "outputs": [],
   "source": [
    "count_test<-count(welfare_test)"
   ]
  },
  {
   "cell_type": "code",
   "execution_count": 32,
   "metadata": {},
   "outputs": [
    {
     "data": {
      "text/html": [
       "<table>\n",
       "<caption>A data.frame: 679483 × 3</caption>\n",
       "<thead>\n",
       "\t<tr><th></th><th scope=col>V5</th><th scope=col>V11</th><th scope=col>total</th></tr>\n",
       "\t<tr><th></th><th scope=col>&lt;dbl&gt;</th><th scope=col>&lt;dbl&gt;</th><th scope=col>&lt;dbl&gt;</th></tr>\n",
       "</thead>\n",
       "<tbody>\n",
       "\t<tr><th scope=row>1</th><td>1</td><td>  510000</td><td>0.000000e+00</td></tr>\n",
       "\t<tr><th scope=row>2</th><td>5</td><td>  105060</td><td>0.000000e+00</td></tr>\n",
       "\t<tr><th scope=row>3</th><td>5</td><td>  267750</td><td>0.000000e+00</td></tr>\n",
       "\t<tr><th scope=row>4</th><td>1</td><td>  168300</td><td>0.000000e+00</td></tr>\n",
       "\t<tr><th scope=row>5</th><td>1</td><td>  233580</td><td>0.000000e+00</td></tr>\n",
       "\t<tr><th scope=row>6</th><td>5</td><td>  145350</td><td>0.000000e+00</td></tr>\n",
       "\t<tr><th scope=row>7</th><td>1</td><td>  204000</td><td>0.000000e+00</td></tr>\n",
       "\t<tr><th scope=row>8</th><td>1</td><td> 1279539</td><td>0.000000e+00</td></tr>\n",
       "\t<tr><th scope=row>9</th><td>1</td><td>  153000</td><td>0.000000e+00</td></tr>\n",
       "\t<tr><th scope=row>10</th><td>1</td><td>  229500</td><td>0.000000e+00</td></tr>\n",
       "\t<tr><th scope=row>11</th><td>1</td><td>  306000</td><td>0.000000e+00</td></tr>\n",
       "\t<tr><th scope=row>12</th><td>1</td><td>  178500</td><td>0.000000e+00</td></tr>\n",
       "\t<tr><th scope=row>13</th><td>1</td><td>  357000</td><td>0.000000e+00</td></tr>\n",
       "\t<tr><th scope=row>14</th><td>1</td><td>  102000</td><td>0.000000e+00</td></tr>\n",
       "\t<tr><th scope=row>15</th><td>3</td><td>   56100</td><td>0.000000e+00</td></tr>\n",
       "\t<tr><th scope=row>16</th><td>5</td><td>  744600</td><td>0.000000e+00</td></tr>\n",
       "\t<tr><th scope=row>17</th><td>4</td><td>15646851</td><td>0.000000e+00</td></tr>\n",
       "\t<tr><th scope=row>18</th><td>1</td><td>  229500</td><td>0.000000e+00</td></tr>\n",
       "\t<tr><th scope=row>19</th><td>4</td><td>14790000</td><td>0.000000e+00</td></tr>\n",
       "\t<tr><th scope=row>20</th><td>5</td><td> 1157700</td><td>0.000000e+00</td></tr>\n",
       "\t<tr><th scope=row>21</th><td>5</td><td>   61200</td><td>0.000000e+00</td></tr>\n",
       "\t<tr><th scope=row>22</th><td>1</td><td>  535500</td><td>0.000000e+00</td></tr>\n",
       "\t<tr><th scope=row>23</th><td>2</td><td>  765000</td><td>4.162116e+12</td></tr>\n",
       "\t<tr><th scope=row>24</th><td>1</td><td>  586500</td><td>0.000000e+00</td></tr>\n",
       "\t<tr><th scope=row>25</th><td>1</td><td>  433500</td><td>0.000000e+00</td></tr>\n",
       "\t<tr><th scope=row>26</th><td>5</td><td>  153000</td><td>0.000000e+00</td></tr>\n",
       "\t<tr><th scope=row>27</th><td>3</td><td>  204000</td><td>0.000000e+00</td></tr>\n",
       "\t<tr><th scope=row>28</th><td>1</td><td>   51000</td><td>0.000000e+00</td></tr>\n",
       "\t<tr><th scope=row>29</th><td>1</td><td>  306000</td><td>0.000000e+00</td></tr>\n",
       "\t<tr><th scope=row>30</th><td>3</td><td> 3876000</td><td>0.000000e+00</td></tr>\n",
       "\t<tr><th scope=row>⋮</th><td>⋮</td><td>⋮</td><td>⋮</td></tr>\n",
       "\t<tr><th scope=row>679454</th><td>3</td><td>  511000</td><td>0.000000e+00</td></tr>\n",
       "\t<tr><th scope=row>679455</th><td>3</td><td> 1379700</td><td>0.000000e+00</td></tr>\n",
       "\t<tr><th scope=row>679456</th><td>1</td><td>  511000</td><td>0.000000e+00</td></tr>\n",
       "\t<tr><th scope=row>679457</th><td>1</td><td>  229950</td><td>0.000000e+00</td></tr>\n",
       "\t<tr><th scope=row>679458</th><td>1</td><td>  718466</td><td>0.000000e+00</td></tr>\n",
       "\t<tr><th scope=row>679459</th><td>1</td><td> 3669337</td><td>0.000000e+00</td></tr>\n",
       "\t<tr><th scope=row>679460</th><td>1</td><td>  306600</td><td>0.000000e+00</td></tr>\n",
       "\t<tr><th scope=row>679461</th><td>1</td><td> 1875370</td><td>0.000000e+00</td></tr>\n",
       "\t<tr><th scope=row>679462</th><td>1</td><td> 1803830</td><td>0.000000e+00</td></tr>\n",
       "\t<tr><th scope=row>679463</th><td>1</td><td> 4384380</td><td>0.000000e+00</td></tr>\n",
       "\t<tr><th scope=row>679464</th><td>3</td><td>25287039</td><td>0.000000e+00</td></tr>\n",
       "\t<tr><th scope=row>679465</th><td>1</td><td>  688317</td><td>0.000000e+00</td></tr>\n",
       "\t<tr><th scope=row>679466</th><td>1</td><td> 1384810</td><td>0.000000e+00</td></tr>\n",
       "\t<tr><th scope=row>679467</th><td>5</td><td> 2563687</td><td>0.000000e+00</td></tr>\n",
       "\t<tr><th scope=row>679468</th><td>1</td><td> 2331693</td><td>0.000000e+00</td></tr>\n",
       "\t<tr><th scope=row>679469</th><td>5</td><td> 2731295</td><td>0.000000e+00</td></tr>\n",
       "\t<tr><th scope=row>679470</th><td>5</td><td> 1457372</td><td>0.000000e+00</td></tr>\n",
       "\t<tr><th scope=row>679471</th><td>5</td><td>  718466</td><td>0.000000e+00</td></tr>\n",
       "\t<tr><th scope=row>679472</th><td>1</td><td>  353356</td><td>0.000000e+00</td></tr>\n",
       "\t<tr><th scope=row>679473</th><td>1</td><td> 5175408</td><td>0.000000e+00</td></tr>\n",
       "\t<tr><th scope=row>679474</th><td>5</td><td> 1859529</td><td>0.000000e+00</td></tr>\n",
       "\t<tr><th scope=row>679475</th><td>5</td><td> 1110914</td><td>0.000000e+00</td></tr>\n",
       "\t<tr><th scope=row>679476</th><td>1</td><td>  311710</td><td>0.000000e+00</td></tr>\n",
       "\t<tr><th scope=row>679477</th><td>1</td><td>  669410</td><td>0.000000e+00</td></tr>\n",
       "\t<tr><th scope=row>679478</th><td>3</td><td> 5927600</td><td>0.000000e+00</td></tr>\n",
       "\t<tr><th scope=row>679479</th><td>5</td><td>  784385</td><td>0.000000e+00</td></tr>\n",
       "\t<tr><th scope=row>679480</th><td>1</td><td>  766500</td><td>0.000000e+00</td></tr>\n",
       "\t<tr><th scope=row>679481</th><td>1</td><td>  408800</td><td>0.000000e+00</td></tr>\n",
       "\t<tr><th scope=row>679482</th><td>2</td><td> 6529655</td><td>4.162116e+12</td></tr>\n",
       "\t<tr><th scope=row>679483</th><td>2</td><td>  150745</td><td>4.162116e+12</td></tr>\n",
       "</tbody>\n",
       "</table>\n"
      ],
      "text/latex": [
       "A data.frame: 679483 × 3\n",
       "\\begin{tabular}{r|lll}\n",
       "  & V5 & V11 & total\\\\\n",
       "  & <dbl> & <dbl> & <dbl>\\\\\n",
       "\\hline\n",
       "\t1 & 1 &   510000 & 0.000000e+00\\\\\n",
       "\t2 & 5 &   105060 & 0.000000e+00\\\\\n",
       "\t3 & 5 &   267750 & 0.000000e+00\\\\\n",
       "\t4 & 1 &   168300 & 0.000000e+00\\\\\n",
       "\t5 & 1 &   233580 & 0.000000e+00\\\\\n",
       "\t6 & 5 &   145350 & 0.000000e+00\\\\\n",
       "\t7 & 1 &   204000 & 0.000000e+00\\\\\n",
       "\t8 & 1 &  1279539 & 0.000000e+00\\\\\n",
       "\t9 & 1 &   153000 & 0.000000e+00\\\\\n",
       "\t10 & 1 &   229500 & 0.000000e+00\\\\\n",
       "\t11 & 1 &   306000 & 0.000000e+00\\\\\n",
       "\t12 & 1 &   178500 & 0.000000e+00\\\\\n",
       "\t13 & 1 &   357000 & 0.000000e+00\\\\\n",
       "\t14 & 1 &   102000 & 0.000000e+00\\\\\n",
       "\t15 & 3 &    56100 & 0.000000e+00\\\\\n",
       "\t16 & 5 &   744600 & 0.000000e+00\\\\\n",
       "\t17 & 4 & 15646851 & 0.000000e+00\\\\\n",
       "\t18 & 1 &   229500 & 0.000000e+00\\\\\n",
       "\t19 & 4 & 14790000 & 0.000000e+00\\\\\n",
       "\t20 & 5 &  1157700 & 0.000000e+00\\\\\n",
       "\t21 & 5 &    61200 & 0.000000e+00\\\\\n",
       "\t22 & 1 &   535500 & 0.000000e+00\\\\\n",
       "\t23 & 2 &   765000 & 4.162116e+12\\\\\n",
       "\t24 & 1 &   586500 & 0.000000e+00\\\\\n",
       "\t25 & 1 &   433500 & 0.000000e+00\\\\\n",
       "\t26 & 5 &   153000 & 0.000000e+00\\\\\n",
       "\t27 & 3 &   204000 & 0.000000e+00\\\\\n",
       "\t28 & 1 &    51000 & 0.000000e+00\\\\\n",
       "\t29 & 1 &   306000 & 0.000000e+00\\\\\n",
       "\t30 & 3 &  3876000 & 0.000000e+00\\\\\n",
       "\t⋮ & ⋮ & ⋮ & ⋮\\\\\n",
       "\t679454 & 3 &   511000 & 0.000000e+00\\\\\n",
       "\t679455 & 3 &  1379700 & 0.000000e+00\\\\\n",
       "\t679456 & 1 &   511000 & 0.000000e+00\\\\\n",
       "\t679457 & 1 &   229950 & 0.000000e+00\\\\\n",
       "\t679458 & 1 &   718466 & 0.000000e+00\\\\\n",
       "\t679459 & 1 &  3669337 & 0.000000e+00\\\\\n",
       "\t679460 & 1 &   306600 & 0.000000e+00\\\\\n",
       "\t679461 & 1 &  1875370 & 0.000000e+00\\\\\n",
       "\t679462 & 1 &  1803830 & 0.000000e+00\\\\\n",
       "\t679463 & 1 &  4384380 & 0.000000e+00\\\\\n",
       "\t679464 & 3 & 25287039 & 0.000000e+00\\\\\n",
       "\t679465 & 1 &   688317 & 0.000000e+00\\\\\n",
       "\t679466 & 1 &  1384810 & 0.000000e+00\\\\\n",
       "\t679467 & 5 &  2563687 & 0.000000e+00\\\\\n",
       "\t679468 & 1 &  2331693 & 0.000000e+00\\\\\n",
       "\t679469 & 5 &  2731295 & 0.000000e+00\\\\\n",
       "\t679470 & 5 &  1457372 & 0.000000e+00\\\\\n",
       "\t679471 & 5 &   718466 & 0.000000e+00\\\\\n",
       "\t679472 & 1 &   353356 & 0.000000e+00\\\\\n",
       "\t679473 & 1 &  5175408 & 0.000000e+00\\\\\n",
       "\t679474 & 5 &  1859529 & 0.000000e+00\\\\\n",
       "\t679475 & 5 &  1110914 & 0.000000e+00\\\\\n",
       "\t679476 & 1 &   311710 & 0.000000e+00\\\\\n",
       "\t679477 & 1 &   669410 & 0.000000e+00\\\\\n",
       "\t679478 & 3 &  5927600 & 0.000000e+00\\\\\n",
       "\t679479 & 5 &   784385 & 0.000000e+00\\\\\n",
       "\t679480 & 1 &   766500 & 0.000000e+00\\\\\n",
       "\t679481 & 1 &   408800 & 0.000000e+00\\\\\n",
       "\t679482 & 2 &  6529655 & 4.162116e+12\\\\\n",
       "\t679483 & 2 &   150745 & 4.162116e+12\\\\\n",
       "\\end{tabular}\n"
      ],
      "text/markdown": [
       "\n",
       "A data.frame: 679483 × 3\n",
       "\n",
       "| <!--/--> | V5 &lt;dbl&gt; | V11 &lt;dbl&gt; | total &lt;dbl&gt; |\n",
       "|---|---|---|---|\n",
       "| 1 | 1 |   510000 | 0.000000e+00 |\n",
       "| 2 | 5 |   105060 | 0.000000e+00 |\n",
       "| 3 | 5 |   267750 | 0.000000e+00 |\n",
       "| 4 | 1 |   168300 | 0.000000e+00 |\n",
       "| 5 | 1 |   233580 | 0.000000e+00 |\n",
       "| 6 | 5 |   145350 | 0.000000e+00 |\n",
       "| 7 | 1 |   204000 | 0.000000e+00 |\n",
       "| 8 | 1 |  1279539 | 0.000000e+00 |\n",
       "| 9 | 1 |   153000 | 0.000000e+00 |\n",
       "| 10 | 1 |   229500 | 0.000000e+00 |\n",
       "| 11 | 1 |   306000 | 0.000000e+00 |\n",
       "| 12 | 1 |   178500 | 0.000000e+00 |\n",
       "| 13 | 1 |   357000 | 0.000000e+00 |\n",
       "| 14 | 1 |   102000 | 0.000000e+00 |\n",
       "| 15 | 3 |    56100 | 0.000000e+00 |\n",
       "| 16 | 5 |   744600 | 0.000000e+00 |\n",
       "| 17 | 4 | 15646851 | 0.000000e+00 |\n",
       "| 18 | 1 |   229500 | 0.000000e+00 |\n",
       "| 19 | 4 | 14790000 | 0.000000e+00 |\n",
       "| 20 | 5 |  1157700 | 0.000000e+00 |\n",
       "| 21 | 5 |    61200 | 0.000000e+00 |\n",
       "| 22 | 1 |   535500 | 0.000000e+00 |\n",
       "| 23 | 2 |   765000 | 4.162116e+12 |\n",
       "| 24 | 1 |   586500 | 0.000000e+00 |\n",
       "| 25 | 1 |   433500 | 0.000000e+00 |\n",
       "| 26 | 5 |   153000 | 0.000000e+00 |\n",
       "| 27 | 3 |   204000 | 0.000000e+00 |\n",
       "| 28 | 1 |    51000 | 0.000000e+00 |\n",
       "| 29 | 1 |   306000 | 0.000000e+00 |\n",
       "| 30 | 3 |  3876000 | 0.000000e+00 |\n",
       "| ⋮ | ⋮ | ⋮ | ⋮ |\n",
       "| 679454 | 3 |   511000 | 0.000000e+00 |\n",
       "| 679455 | 3 |  1379700 | 0.000000e+00 |\n",
       "| 679456 | 1 |   511000 | 0.000000e+00 |\n",
       "| 679457 | 1 |   229950 | 0.000000e+00 |\n",
       "| 679458 | 1 |   718466 | 0.000000e+00 |\n",
       "| 679459 | 1 |  3669337 | 0.000000e+00 |\n",
       "| 679460 | 1 |   306600 | 0.000000e+00 |\n",
       "| 679461 | 1 |  1875370 | 0.000000e+00 |\n",
       "| 679462 | 1 |  1803830 | 0.000000e+00 |\n",
       "| 679463 | 1 |  4384380 | 0.000000e+00 |\n",
       "| 679464 | 3 | 25287039 | 0.000000e+00 |\n",
       "| 679465 | 1 |   688317 | 0.000000e+00 |\n",
       "| 679466 | 1 |  1384810 | 0.000000e+00 |\n",
       "| 679467 | 5 |  2563687 | 0.000000e+00 |\n",
       "| 679468 | 1 |  2331693 | 0.000000e+00 |\n",
       "| 679469 | 5 |  2731295 | 0.000000e+00 |\n",
       "| 679470 | 5 |  1457372 | 0.000000e+00 |\n",
       "| 679471 | 5 |   718466 | 0.000000e+00 |\n",
       "| 679472 | 1 |   353356 | 0.000000e+00 |\n",
       "| 679473 | 1 |  5175408 | 0.000000e+00 |\n",
       "| 679474 | 5 |  1859529 | 0.000000e+00 |\n",
       "| 679475 | 5 |  1110914 | 0.000000e+00 |\n",
       "| 679476 | 1 |   311710 | 0.000000e+00 |\n",
       "| 679477 | 1 |   669410 | 0.000000e+00 |\n",
       "| 679478 | 3 |  5927600 | 0.000000e+00 |\n",
       "| 679479 | 5 |   784385 | 0.000000e+00 |\n",
       "| 679480 | 1 |   766500 | 0.000000e+00 |\n",
       "| 679481 | 1 |   408800 | 0.000000e+00 |\n",
       "| 679482 | 2 |  6529655 | 4.162116e+12 |\n",
       "| 679483 | 2 |   150745 | 4.162116e+12 |\n",
       "\n"
      ],
      "text/plain": [
       "       V5 V11      total       \n",
       "1      1    510000 0.000000e+00\n",
       "2      5    105060 0.000000e+00\n",
       "3      5    267750 0.000000e+00\n",
       "4      1    168300 0.000000e+00\n",
       "5      1    233580 0.000000e+00\n",
       "6      5    145350 0.000000e+00\n",
       "7      1    204000 0.000000e+00\n",
       "8      1   1279539 0.000000e+00\n",
       "9      1    153000 0.000000e+00\n",
       "10     1    229500 0.000000e+00\n",
       "11     1    306000 0.000000e+00\n",
       "12     1    178500 0.000000e+00\n",
       "13     1    357000 0.000000e+00\n",
       "14     1    102000 0.000000e+00\n",
       "15     3     56100 0.000000e+00\n",
       "16     5    744600 0.000000e+00\n",
       "17     4  15646851 0.000000e+00\n",
       "18     1    229500 0.000000e+00\n",
       "19     4  14790000 0.000000e+00\n",
       "20     5   1157700 0.000000e+00\n",
       "21     5     61200 0.000000e+00\n",
       "22     1    535500 0.000000e+00\n",
       "23     2    765000 4.162116e+12\n",
       "24     1    586500 0.000000e+00\n",
       "25     1    433500 0.000000e+00\n",
       "26     5    153000 0.000000e+00\n",
       "27     3    204000 0.000000e+00\n",
       "28     1     51000 0.000000e+00\n",
       "29     1    306000 0.000000e+00\n",
       "30     3   3876000 0.000000e+00\n",
       "<U+22EE>      <U+22EE> <U+22EE> <U+22EE>    \n",
       "679454 3    511000 0.000000e+00\n",
       "679455 3   1379700 0.000000e+00\n",
       "679456 1    511000 0.000000e+00\n",
       "679457 1    229950 0.000000e+00\n",
       "679458 1    718466 0.000000e+00\n",
       "679459 1   3669337 0.000000e+00\n",
       "679460 1    306600 0.000000e+00\n",
       "679461 1   1875370 0.000000e+00\n",
       "679462 1   1803830 0.000000e+00\n",
       "679463 1   4384380 0.000000e+00\n",
       "679464 3  25287039 0.000000e+00\n",
       "679465 1    688317 0.000000e+00\n",
       "679466 1   1384810 0.000000e+00\n",
       "679467 5   2563687 0.000000e+00\n",
       "679468 1   2331693 0.000000e+00\n",
       "679469 5   2731295 0.000000e+00\n",
       "679470 5   1457372 0.000000e+00\n",
       "679471 5    718466 0.000000e+00\n",
       "679472 1    353356 0.000000e+00\n",
       "679473 1   5175408 0.000000e+00\n",
       "679474 5   1859529 0.000000e+00\n",
       "679475 5   1110914 0.000000e+00\n",
       "679476 1    311710 0.000000e+00\n",
       "679477 1    669410 0.000000e+00\n",
       "679478 3   5927600 0.000000e+00\n",
       "679479 5    784385 0.000000e+00\n",
       "679480 1    766500 0.000000e+00\n",
       "679481 1    408800 0.000000e+00\n",
       "679482 2   6529655 4.162116e+12\n",
       "679483 2    150745 4.162116e+12"
      ]
     },
     "metadata": {},
     "output_type": "display_data"
    }
   ],
   "source": [
    "welfare_test"
   ]
  },
  {
   "cell_type": "code",
   "execution_count": 33,
   "metadata": {},
   "outputs": [
    {
     "name": "stderr",
     "output_type": "stream",
     "text": [
      "`summarise()` ungrouping output (override with `.groups` argument)\n",
      "\n"
     ]
    }
   ],
   "source": [
    "welfare_pie<-welfare_test  %>% \n",
    "    group_by(V5)  %>% \n",
    "    summarize(total=sum(V11)) "
   ]
  },
  {
   "cell_type": "code",
   "execution_count": 34,
   "metadata": {},
   "outputs": [
    {
     "data": {
      "text/html": [
       "<table>\n",
       "<caption>A tibble: 5 × 2</caption>\n",
       "<thead>\n",
       "\t<tr><th scope=col>V5</th><th scope=col>total</th></tr>\n",
       "\t<tr><th scope=col>&lt;dbl&gt;</th><th scope=col>&lt;dbl&gt;</th></tr>\n",
       "</thead>\n",
       "<tbody>\n",
       "\t<tr><td>1</td><td>1.351646e+12</td></tr>\n",
       "\t<tr><td>2</td><td>3.442703e+11</td></tr>\n",
       "\t<tr><td>3</td><td>2.154694e+12</td></tr>\n",
       "\t<tr><td>4</td><td>1.936506e+11</td></tr>\n",
       "\t<tr><td>5</td><td>1.178543e+11</td></tr>\n",
       "</tbody>\n",
       "</table>\n"
      ],
      "text/latex": [
       "A tibble: 5 × 2\n",
       "\\begin{tabular}{ll}\n",
       " V5 & total\\\\\n",
       " <dbl> & <dbl>\\\\\n",
       "\\hline\n",
       "\t 1 & 1.351646e+12\\\\\n",
       "\t 2 & 3.442703e+11\\\\\n",
       "\t 3 & 2.154694e+12\\\\\n",
       "\t 4 & 1.936506e+11\\\\\n",
       "\t 5 & 1.178543e+11\\\\\n",
       "\\end{tabular}\n"
      ],
      "text/markdown": [
       "\n",
       "A tibble: 5 × 2\n",
       "\n",
       "| V5 &lt;dbl&gt; | total &lt;dbl&gt; |\n",
       "|---|---|\n",
       "| 1 | 1.351646e+12 |\n",
       "| 2 | 3.442703e+11 |\n",
       "| 3 | 2.154694e+12 |\n",
       "| 4 | 1.936506e+11 |\n",
       "| 5 | 1.178543e+11 |\n",
       "\n"
      ],
      "text/plain": [
       "  V5 total       \n",
       "1 1  1.351646e+12\n",
       "2 2  3.442703e+11\n",
       "3 3  2.154694e+12\n",
       "4 4  1.936506e+11\n",
       "5 5  1.178543e+11"
      ]
     },
     "metadata": {},
     "output_type": "display_data"
    }
   ],
   "source": [
    "welfare_pie"
   ]
  },
  {
   "cell_type": "code",
   "execution_count": 35,
   "metadata": {},
   "outputs": [
    {
     "data": {
      "image/png": "[encoded data removed]",
      "text/plain": [
       "plot without title"
      ]
     },
     "metadata": {
      "image/png": {
       "height": 420,
       "width": 420
      },
      "text/plain": {
       "height": 420,
       "width": 420
      }
     },
     "output_type": "display_data"
    }
   ],
   "source": [
    "ggplot(data=welfare_pie,aes(x=V5,y=total))+geom_bar(stat=\"identity\")"
   ]
  },
  {
   "cell_type": "markdown",
   "metadata": {},
   "source": [
    "# 19년 1-6월,20년 1-6월에 시별로 여행에 사용한 금액"
   ]
  },
  {
   "cell_type": "code",
   "execution_count": 36,
   "metadata": {},
   "outputs": [],
   "source": [
    "data_2020<-read.table('real/신한카드 데이터/KCTI_NATIVE_2020.txt',sep='|',row.names = NULL)\n",
    "data_2019<-read.table('real/신한카드 데이터/KCTI_NATIVE_2019.txt',sep='|',row.names = NULL)"
   ]
  },
  {
   "cell_type": "code",
   "execution_count": 37,
   "metadata": {},
   "outputs": [],
   "source": [
    "data_2020_travel  <-filter(data_2020,data_2020$V4=='여행')"
   ]
  },
  {
   "cell_type": "code",
   "execution_count": 38,
   "metadata": {},
   "outputs": [],
   "source": [
    "data_2020_travel$V11<-as.numeric(data_2020_travel$V11)"
   ]
  },
  {
   "cell_type": "code",
   "execution_count": 39,
   "metadata": {},
   "outputs": [
    {
     "data": {
      "text/html": [
       "<table>\n",
       "<caption>A data.frame: 6 × 12</caption>\n",
       "<thead>\n",
       "\t<tr><th></th><th scope=col>V1</th><th scope=col>V2</th><th scope=col>V3</th><th scope=col>V4</th><th scope=col>V5</th><th scope=col>V6</th><th scope=col>V7</th><th scope=col>V8</th><th scope=col>V9</th><th scope=col>V10</th><th scope=col>V11</th><th scope=col>V12</th></tr>\n",
       "\t<tr><th></th><th scope=col>&lt;chr&gt;</th><th scope=col>&lt;chr&gt;</th><th scope=col>&lt;chr&gt;</th><th scope=col>&lt;chr&gt;</th><th scope=col>&lt;chr&gt;</th><th scope=col>&lt;chr&gt;</th><th scope=col>&lt;chr&gt;</th><th scope=col>&lt;chr&gt;</th><th scope=col>&lt;chr&gt;</th><th scope=col>&lt;chr&gt;</th><th scope=col>&lt;dbl&gt;</th><th scope=col>&lt;chr&gt;</th></tr>\n",
       "</thead>\n",
       "<tbody>\n",
       "\t<tr><th scope=row>1</th><td>대전</td><td>세종</td><td>.   </td><td>여행</td><td>숙박</td><td>M</td><td>30</td><td>202001</td><td>RED</td><td>활동</td><td>510000</td><td>10</td></tr>\n",
       "\t<tr><th scope=row>2</th><td>인천</td><td>세종</td><td>.   </td><td>여행</td><td>체험</td><td>M</td><td>40</td><td>202001</td><td>RED</td><td>휴식</td><td>105060</td><td>5 </td></tr>\n",
       "\t<tr><th scope=row>3</th><td>부산</td><td>대구</td><td>남구</td><td>여행</td><td>체험</td><td>F</td><td>20</td><td>202001</td><td>RED</td><td>활동</td><td>267750</td><td>15</td></tr>\n",
       "\t<tr><th scope=row>4</th><td>제주</td><td>부산</td><td>남구</td><td>여행</td><td>숙박</td><td>F</td><td>30</td><td>202001</td><td>RED</td><td>활동</td><td>168300</td><td>10</td></tr>\n",
       "\t<tr><th scope=row>5</th><td>강원</td><td>울산</td><td>남구</td><td>여행</td><td>숙박</td><td>M</td><td>40</td><td>202001</td><td>RED</td><td>휴식</td><td>233580</td><td>5 </td></tr>\n",
       "\t<tr><th scope=row>6</th><td>인천</td><td>대구</td><td>남구</td><td>여행</td><td>체험</td><td>M</td><td>30</td><td>202001</td><td>RED</td><td>활동</td><td>145350</td><td>5 </td></tr>\n",
       "</tbody>\n",
       "</table>\n"
      ],
      "text/latex": [
       "A data.frame: 6 × 12\n",
       "\\begin{tabular}{r|llllllllllll}\n",
       "  & V1 & V2 & V3 & V4 & V5 & V6 & V7 & V8 & V9 & V10 & V11 & V12\\\\\n",
       "  & <chr> & <chr> & <chr> & <chr> & <chr> & <chr> & <chr> & <chr> & <chr> & <chr> & <dbl> & <chr>\\\\\n",
       "\\hline\n",
       "\t1 & 대전 & 세종 & .    & 여행 & 숙박 & M & 30 & 202001 & RED & 활동 & 510000 & 10\\\\\n",
       "\t2 & 인천 & 세종 & .    & 여행 & 체험 & M & 40 & 202001 & RED & 휴식 & 105060 & 5 \\\\\n",
       "\t3 & 부산 & 대구 & 남구 & 여행 & 체험 & F & 20 & 202001 & RED & 활동 & 267750 & 15\\\\\n",
       "\t4 & 제주 & 부산 & 남구 & 여행 & 숙박 & F & 30 & 202001 & RED & 활동 & 168300 & 10\\\\\n",
       "\t5 & 강원 & 울산 & 남구 & 여행 & 숙박 & M & 40 & 202001 & RED & 휴식 & 233580 & 5 \\\\\n",
       "\t6 & 인천 & 대구 & 남구 & 여행 & 체험 & M & 30 & 202001 & RED & 활동 & 145350 & 5 \\\\\n",
       "\\end{tabular}\n"
      ],
      "text/markdown": [
       "\n",
       "A data.frame: 6 × 12\n",
       "\n",
       "| <!--/--> | V1 &lt;chr&gt; | V2 &lt;chr&gt; | V3 &lt;chr&gt; | V4 &lt;chr&gt; | V5 &lt;chr&gt; | V6 &lt;chr&gt; | V7 &lt;chr&gt; | V8 &lt;chr&gt; | V9 &lt;chr&gt; | V10 &lt;chr&gt; | V11 &lt;dbl&gt; | V12 &lt;chr&gt; |\n",
       "|---|---|---|---|---|---|---|---|---|---|---|---|---|\n",
       "| 1 | 대전 | 세종 | .    | 여행 | 숙박 | M | 30 | 202001 | RED | 활동 | 510000 | 10 |\n",
       "| 2 | 인천 | 세종 | .    | 여행 | 체험 | M | 40 | 202001 | RED | 휴식 | 105060 | 5  |\n",
       "| 3 | 부산 | 대구 | 남구 | 여행 | 체험 | F | 20 | 202001 | RED | 활동 | 267750 | 15 |\n",
       "| 4 | 제주 | 부산 | 남구 | 여행 | 숙박 | F | 30 | 202001 | RED | 활동 | 168300 | 10 |\n",
       "| 5 | 강원 | 울산 | 남구 | 여행 | 숙박 | M | 40 | 202001 | RED | 휴식 | 233580 | 5  |\n",
       "| 6 | 인천 | 대구 | 남구 | 여행 | 체험 | M | 30 | 202001 | RED | 활동 | 145350 | 5  |\n",
       "\n"
      ],
      "text/plain": [
       "  V1   V2   V3   V4   V5   V6 V7 V8     V9  V10  V11    V12\n",
       "1 대전 세종 .    여행 숙박 M  30 202001 RED 활동 510000 10 \n",
       "2 인천 세종 .    여행 체험 M  40 202001 RED 휴식 105060 5  \n",
       "3 부산 대구 남구 여행 체험 F  20 202001 RED 활동 267750 15 \n",
       "4 제주 부산 남구 여행 숙박 F  30 202001 RED 활동 168300 10 \n",
       "5 강원 울산 남구 여행 숙박 M  40 202001 RED 휴식 233580 5  \n",
       "6 인천 대구 남구 여행 체험 M  30 202001 RED 활동 145350 5  "
      ]
     },
     "metadata": {},
     "output_type": "display_data"
    }
   ],
   "source": [
    "head(data_2020_travel)"
   ]
  },
  {
   "cell_type": "code",
   "execution_count": 40,
   "metadata": {},
   "outputs": [],
   "source": [
    "welfare_1<-filter(data_2020_travel,data_2020_travel$V8=='202001')"
   ]
  },
  {
   "cell_type": "code",
   "execution_count": 48,
   "metadata": {},
   "outputs": [
    {
     "data": {
      "text/html": [
       "<table>\n",
       "<caption>A data.frame: 6 × 12</caption>\n",
       "<thead>\n",
       "\t<tr><th></th><th scope=col>V1</th><th scope=col>V2</th><th scope=col>V3</th><th scope=col>V4</th><th scope=col>V5</th><th scope=col>V6</th><th scope=col>V7</th><th scope=col>V8</th><th scope=col>V9</th><th scope=col>V10</th><th scope=col>V11</th><th scope=col>V12</th></tr>\n",
       "\t<tr><th></th><th scope=col>&lt;chr&gt;</th><th scope=col>&lt;chr&gt;</th><th scope=col>&lt;chr&gt;</th><th scope=col>&lt;chr&gt;</th><th scope=col>&lt;chr&gt;</th><th scope=col>&lt;chr&gt;</th><th scope=col>&lt;chr&gt;</th><th scope=col>&lt;chr&gt;</th><th scope=col>&lt;chr&gt;</th><th scope=col>&lt;chr&gt;</th><th scope=col>&lt;dbl&gt;</th><th scope=col>&lt;chr&gt;</th></tr>\n",
       "</thead>\n",
       "<tbody>\n",
       "\t<tr><th scope=row>1</th><td>대전</td><td>세종</td><td>.   </td><td>여행</td><td>숙박</td><td>M</td><td>30</td><td>202001</td><td>RED</td><td>활동</td><td>510000</td><td>10</td></tr>\n",
       "\t<tr><th scope=row>2</th><td>인천</td><td>세종</td><td>.   </td><td>여행</td><td>체험</td><td>M</td><td>40</td><td>202001</td><td>RED</td><td>휴식</td><td>105060</td><td>5 </td></tr>\n",
       "\t<tr><th scope=row>3</th><td>부산</td><td>대구</td><td>남구</td><td>여행</td><td>체험</td><td>F</td><td>20</td><td>202001</td><td>RED</td><td>활동</td><td>267750</td><td>15</td></tr>\n",
       "\t<tr><th scope=row>4</th><td>제주</td><td>부산</td><td>남구</td><td>여행</td><td>숙박</td><td>F</td><td>30</td><td>202001</td><td>RED</td><td>활동</td><td>168300</td><td>10</td></tr>\n",
       "\t<tr><th scope=row>5</th><td>강원</td><td>울산</td><td>남구</td><td>여행</td><td>숙박</td><td>M</td><td>40</td><td>202001</td><td>RED</td><td>휴식</td><td>233580</td><td>5 </td></tr>\n",
       "\t<tr><th scope=row>6</th><td>인천</td><td>대구</td><td>남구</td><td>여행</td><td>체험</td><td>M</td><td>30</td><td>202001</td><td>RED</td><td>활동</td><td>145350</td><td>5 </td></tr>\n",
       "</tbody>\n",
       "</table>\n"
      ],
      "text/latex": [
       "A data.frame: 6 × 12\n",
       "\\begin{tabular}{r|llllllllllll}\n",
       "  & V1 & V2 & V3 & V4 & V5 & V6 & V7 & V8 & V9 & V10 & V11 & V12\\\\\n",
       "  & <chr> & <chr> & <chr> & <chr> & <chr> & <chr> & <chr> & <chr> & <chr> & <chr> & <dbl> & <chr>\\\\\n",
       "\\hline\n",
       "\t1 & 대전 & 세종 & .    & 여행 & 숙박 & M & 30 & 202001 & RED & 활동 & 510000 & 10\\\\\n",
       "\t2 & 인천 & 세종 & .    & 여행 & 체험 & M & 40 & 202001 & RED & 휴식 & 105060 & 5 \\\\\n",
       "\t3 & 부산 & 대구 & 남구 & 여행 & 체험 & F & 20 & 202001 & RED & 활동 & 267750 & 15\\\\\n",
       "\t4 & 제주 & 부산 & 남구 & 여행 & 숙박 & F & 30 & 202001 & RED & 활동 & 168300 & 10\\\\\n",
       "\t5 & 강원 & 울산 & 남구 & 여행 & 숙박 & M & 40 & 202001 & RED & 휴식 & 233580 & 5 \\\\\n",
       "\t6 & 인천 & 대구 & 남구 & 여행 & 체험 & M & 30 & 202001 & RED & 활동 & 145350 & 5 \\\\\n",
       "\\end{tabular}\n"
      ],
      "text/markdown": [
       "\n",
       "A data.frame: 6 × 12\n",
       "\n",
       "| <!--/--> | V1 &lt;chr&gt; | V2 &lt;chr&gt; | V3 &lt;chr&gt; | V4 &lt;chr&gt; | V5 &lt;chr&gt; | V6 &lt;chr&gt; | V7 &lt;chr&gt; | V8 &lt;chr&gt; | V9 &lt;chr&gt; | V10 &lt;chr&gt; | V11 &lt;dbl&gt; | V12 &lt;chr&gt; |\n",
       "|---|---|---|---|---|---|---|---|---|---|---|---|---|\n",
       "| 1 | 대전 | 세종 | .    | 여행 | 숙박 | M | 30 | 202001 | RED | 활동 | 510000 | 10 |\n",
       "| 2 | 인천 | 세종 | .    | 여행 | 체험 | M | 40 | 202001 | RED | 휴식 | 105060 | 5  |\n",
       "| 3 | 부산 | 대구 | 남구 | 여행 | 체험 | F | 20 | 202001 | RED | 활동 | 267750 | 15 |\n",
       "| 4 | 제주 | 부산 | 남구 | 여행 | 숙박 | F | 30 | 202001 | RED | 활동 | 168300 | 10 |\n",
       "| 5 | 강원 | 울산 | 남구 | 여행 | 숙박 | M | 40 | 202001 | RED | 휴식 | 233580 | 5  |\n",
       "| 6 | 인천 | 대구 | 남구 | 여행 | 체험 | M | 30 | 202001 | RED | 활동 | 145350 | 5  |\n",
       "\n"
      ],
      "text/plain": [
       "  V1   V2   V3   V4   V5   V6 V7 V8     V9  V10  V11    V12\n",
       "1 대전 세종 .    여행 숙박 M  30 202001 RED 활동 510000 10 \n",
       "2 인천 세종 .    여행 체험 M  40 202001 RED 휴식 105060 5  \n",
       "3 부산 대구 남구 여행 체험 F  20 202001 RED 활동 267750 15 \n",
       "4 제주 부산 남구 여행 숙박 F  30 202001 RED 활동 168300 10 \n",
       "5 강원 울산 남구 여행 숙박 M  40 202001 RED 휴식 233580 5  \n",
       "6 인천 대구 남구 여행 체험 M  30 202001 RED 활동 145350 5  "
      ]
     },
     "metadata": {},
     "output_type": "display_data"
    }
   ],
   "source": [
    "head(welfare_1)"
   ]
  },
  {
   "cell_type": "code",
   "execution_count": 45,
   "metadata": {},
   "outputs": [
    {
     "name": "stderr",
     "output_type": "stream",
     "text": [
      "`summarise()` ungrouping output (override with `.groups` argument)\n",
      "\n"
     ]
    }
   ],
   "source": [
    "welfare_11<- welfare_1  %>% \n",
    "    group_by(V2)  %>% \n",
    "    summarise(total=sum(V11))"
   ]
  },
  {
   "cell_type": "code",
   "execution_count": 46,
   "metadata": {},
   "outputs": [
    {
     "data": {
      "text/html": [
       "<table>\n",
       "<caption>A tibble: 17 × 2</caption>\n",
       "<thead>\n",
       "\t<tr><th scope=col>V2</th><th scope=col>total</th></tr>\n",
       "\t<tr><th scope=col>&lt;chr&gt;</th><th scope=col>&lt;dbl&gt;</th></tr>\n",
       "</thead>\n",
       "<tbody>\n",
       "\t<tr><td>강원</td><td> 56486208283</td></tr>\n",
       "\t<tr><td>경기</td><td> 77281857624</td></tr>\n",
       "\t<tr><td>경남</td><td> 15332818901</td></tr>\n",
       "\t<tr><td>경북</td><td> 14224349459</td></tr>\n",
       "\t<tr><td>광주</td><td>  4321600995</td></tr>\n",
       "\t<tr><td>대구</td><td>  9230882967</td></tr>\n",
       "\t<tr><td>대전</td><td>244114724812</td></tr>\n",
       "\t<tr><td>부산</td><td> 67824941642</td></tr>\n",
       "\t<tr><td>서울</td><td>551774248064</td></tr>\n",
       "\t<tr><td>세종</td><td>   284738579</td></tr>\n",
       "\t<tr><td>울산</td><td>  3769099294</td></tr>\n",
       "\t<tr><td>인천</td><td> 93761346083</td></tr>\n",
       "\t<tr><td>전남</td><td> 11851570507</td></tr>\n",
       "\t<tr><td>전북</td><td> 36890342419</td></tr>\n",
       "\t<tr><td>제주</td><td> 93452483690</td></tr>\n",
       "\t<tr><td>충남</td><td> 10791404808</td></tr>\n",
       "\t<tr><td>충북</td><td>  7251226174</td></tr>\n",
       "</tbody>\n",
       "</table>\n"
      ],
      "text/latex": [
       "A tibble: 17 × 2\n",
       "\\begin{tabular}{ll}\n",
       " V2 & total\\\\\n",
       " <chr> & <dbl>\\\\\n",
       "\\hline\n",
       "\t 강원 &  56486208283\\\\\n",
       "\t 경기 &  77281857624\\\\\n",
       "\t 경남 &  15332818901\\\\\n",
       "\t 경북 &  14224349459\\\\\n",
       "\t 광주 &   4321600995\\\\\n",
       "\t 대구 &   9230882967\\\\\n",
       "\t 대전 & 244114724812\\\\\n",
       "\t 부산 &  67824941642\\\\\n",
       "\t 서울 & 551774248064\\\\\n",
       "\t 세종 &    284738579\\\\\n",
       "\t 울산 &   3769099294\\\\\n",
       "\t 인천 &  93761346083\\\\\n",
       "\t 전남 &  11851570507\\\\\n",
       "\t 전북 &  36890342419\\\\\n",
       "\t 제주 &  93452483690\\\\\n",
       "\t 충남 &  10791404808\\\\\n",
       "\t 충북 &   7251226174\\\\\n",
       "\\end{tabular}\n"
      ],
      "text/markdown": [
       "\n",
       "A tibble: 17 × 2\n",
       "\n",
       "| V2 &lt;chr&gt; | total &lt;dbl&gt; |\n",
       "|---|---|\n",
       "| 강원 |  56486208283 |\n",
       "| 경기 |  77281857624 |\n",
       "| 경남 |  15332818901 |\n",
       "| 경북 |  14224349459 |\n",
       "| 광주 |   4321600995 |\n",
       "| 대구 |   9230882967 |\n",
       "| 대전 | 244114724812 |\n",
       "| 부산 |  67824941642 |\n",
       "| 서울 | 551774248064 |\n",
       "| 세종 |    284738579 |\n",
       "| 울산 |   3769099294 |\n",
       "| 인천 |  93761346083 |\n",
       "| 전남 |  11851570507 |\n",
       "| 전북 |  36890342419 |\n",
       "| 제주 |  93452483690 |\n",
       "| 충남 |  10791404808 |\n",
       "| 충북 |   7251226174 |\n",
       "\n"
      ],
      "text/plain": [
       "   V2   total       \n",
       "1  강원  56486208283\n",
       "2  경기  77281857624\n",
       "3  경남  15332818901\n",
       "4  경북  14224349459\n",
       "5  광주   4321600995\n",
       "6  대구   9230882967\n",
       "7  대전 244114724812\n",
       "8  부산  67824941642\n",
       "9  서울 551774248064\n",
       "10 세종    284738579\n",
       "11 울산   3769099294\n",
       "12 인천  93761346083\n",
       "13 전남  11851570507\n",
       "14 전북  36890342419\n",
       "15 제주  93452483690\n",
       "16 충남  10791404808\n",
       "17 충북   7251226174"
      ]
     },
     "metadata": {},
     "output_type": "display_data"
    }
   ],
   "source": [
    "welfare_11"
   ]
  },
  {
   "cell_type": "code",
   "execution_count": 47,
   "metadata": {},
   "outputs": [
    {
     "name": "stderr",
     "output_type": "stream",
     "text": [
      "Warning message:\n",
      "\"Ignoring unknown parameters: binwidth, bins, pad\"\n"
     ]
    },
    {
     "data": {
      "image/png": "[encoded data removed]",
      "text/plain": [
       "plot without title"
      ]
     },
     "metadata": {
      "image/png": {
       "height": 420,
       "width": 420
      },
      "text/plain": {
       "height": 420,
       "width": 420
      }
     },
     "output_type": "display_data"
    }
   ],
   "source": [
    "ggplot(data = welfare_11,aes(x=V2,y=total))+geom_histogram(stat=\"identity\")+ggtitle('20년도 01월 여행 지출금액 총합')+options(\"scipen=100\")"
   ]
  }
 ],
 "metadata": {
  "kernelspec": {
   "display_name": "R",
   "language": "R",
   "name": "ir"
  },
  "language_info": {
   "codemirror_mode": "r",
   "file_extension": ".r",
   "mimetype": "text/x-r-source",
   "name": "R",
   "pygments_lexer": "r",
   "version": "3.6.1"
  }
 },
 "nbformat": 4,
 "nbformat_minor": 4
}
