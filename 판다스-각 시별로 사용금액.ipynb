{
 "cells": [
  {
   "cell_type": "code",
   "execution_count": 433,
   "metadata": {},
   "outputs": [],
   "source": [
    "#pip install openpyxl"
   ]
  },
  {
   "cell_type": "code",
   "execution_count": 434,
   "metadata": {},
   "outputs": [],
   "source": [
    "import numpy as np\n",
    "import pandas as pd\n",
    "import matplotlib.pyplot as plt\n",
    "import seaborn as sns\n",
    "%matplotlib inline\n",
    "from sklearn import tree\n",
    "from sklearn import datasets\n",
    "from matplotlib import font_manager, rc\n",
    "import openpyxl"
   ]
  },
  {
   "cell_type": "code",
   "execution_count": 435,
   "metadata": {},
   "outputs": [],
   "source": [
    "font_name = font_manager.FontProperties(fname=\"c:/Windows/Fonts/malgun.ttf\").get_name()\n",
    "rc('font', family=font_name)"
   ]
  },
  {
   "cell_type": "code",
   "execution_count": 436,
   "metadata": {},
   "outputs": [],
   "source": [
    "data_2020=pd.read_csv('real/신한카드 데이터/KCTI_NATIVE_2020.txt',sep=\"|\",encoding='cp949')"
   ]
  },
  {
   "cell_type": "code",
   "execution_count": 437,
   "metadata": {},
   "outputs": [
    {
     "name": "stdout",
     "output_type": "stream",
     "text": [
      "<class 'pandas.core.frame.DataFrame'>\n",
      "RangeIndex: 5566988 entries, 0 to 5566987\n",
      "Data columns (total 12 columns):\n",
      " #   Column          Dtype  \n",
      "---  ------          -----  \n",
      " 0   v1              object \n",
      " 1   v2              object \n",
      " 2   v3              object \n",
      " 3   gb3             object \n",
      " 4   gb2             object \n",
      " 5   sex_ccd         object \n",
      " 6   cln_age_r       int64  \n",
      " 7   ta_ym           int64  \n",
      " 8   daw_ccd_r       object \n",
      " 9   apv_ts_dl_tm_r  object \n",
      " 10  vlm             float64\n",
      " 11  usec            int64  \n",
      "dtypes: float64(1), int64(3), object(8)\n",
      "memory usage: 509.7+ MB\n"
     ]
    }
   ],
   "source": [
    "data_2020.info()"
   ]
  },
  {
   "cell_type": "code",
   "execution_count": 438,
   "metadata": {},
   "outputs": [
    {
     "data": {
      "text/html": [
       "<div>\n",
       "<style scoped>\n",
       "    .dataframe tbody tr th:only-of-type {\n",
       "        vertical-align: middle;\n",
       "    }\n",
       "\n",
       "    .dataframe tbody tr th {\n",
       "        vertical-align: top;\n",
       "    }\n",
       "\n",
       "    .dataframe thead th {\n",
       "        text-align: right;\n",
       "    }\n",
       "</style>\n",
       "<table border=\"1\" class=\"dataframe\">\n",
       "  <thead>\n",
       "    <tr style=\"text-align: right;\">\n",
       "      <th></th>\n",
       "      <th>v1</th>\n",
       "      <th>v2</th>\n",
       "      <th>v3</th>\n",
       "      <th>gb3</th>\n",
       "      <th>gb2</th>\n",
       "      <th>sex_ccd</th>\n",
       "      <th>cln_age_r</th>\n",
       "      <th>ta_ym</th>\n",
       "      <th>daw_ccd_r</th>\n",
       "      <th>apv_ts_dl_tm_r</th>\n",
       "      <th>vlm</th>\n",
       "      <th>usec</th>\n",
       "    </tr>\n",
       "  </thead>\n",
       "  <tbody>\n",
       "    <tr>\n",
       "      <th>0</th>\n",
       "      <td>경기</td>\n",
       "      <td>세종</td>\n",
       "      <td>.</td>\n",
       "      <td>취미오락</td>\n",
       "      <td>유흥</td>\n",
       "      <td>M</td>\n",
       "      <td>40</td>\n",
       "      <td>202001</td>\n",
       "      <td>RED</td>\n",
       "      <td>휴식</td>\n",
       "      <td>6410700.0</td>\n",
       "      <td>45</td>\n",
       "    </tr>\n",
       "    <tr>\n",
       "      <th>1</th>\n",
       "      <td>경남</td>\n",
       "      <td>세종</td>\n",
       "      <td>.</td>\n",
       "      <td>스포츠활동</td>\n",
       "      <td>레저스포츠</td>\n",
       "      <td>M</td>\n",
       "      <td>30</td>\n",
       "      <td>202001</td>\n",
       "      <td>RED</td>\n",
       "      <td>활동</td>\n",
       "      <td>147900.0</td>\n",
       "      <td>15</td>\n",
       "    </tr>\n",
       "    <tr>\n",
       "      <th>2</th>\n",
       "      <td>광주</td>\n",
       "      <td>세종</td>\n",
       "      <td>.</td>\n",
       "      <td>취미오락</td>\n",
       "      <td>패션쇼핑</td>\n",
       "      <td>M</td>\n",
       "      <td>30</td>\n",
       "      <td>202001</td>\n",
       "      <td>RED</td>\n",
       "      <td>휴식</td>\n",
       "      <td>793050.0</td>\n",
       "      <td>5</td>\n",
       "    </tr>\n",
       "    <tr>\n",
       "      <th>3</th>\n",
       "      <td>인천</td>\n",
       "      <td>세종</td>\n",
       "      <td>.</td>\n",
       "      <td>취미오락</td>\n",
       "      <td>인터넷게임</td>\n",
       "      <td>M</td>\n",
       "      <td>30</td>\n",
       "      <td>202001</td>\n",
       "      <td>RED</td>\n",
       "      <td>취침</td>\n",
       "      <td>10200.0</td>\n",
       "      <td>10</td>\n",
       "    </tr>\n",
       "    <tr>\n",
       "      <th>4</th>\n",
       "      <td>경기</td>\n",
       "      <td>세종</td>\n",
       "      <td>.</td>\n",
       "      <td>취미오락</td>\n",
       "      <td>유흥</td>\n",
       "      <td>M</td>\n",
       "      <td>40</td>\n",
       "      <td>202001</td>\n",
       "      <td>RED</td>\n",
       "      <td>취침</td>\n",
       "      <td>382500.0</td>\n",
       "      <td>5</td>\n",
       "    </tr>\n",
       "  </tbody>\n",
       "</table>\n",
       "</div>"
      ],
      "text/plain": [
       "   v1  v2 v3    gb3    gb2 sex_ccd  cln_age_r   ta_ym daw_ccd_r  \\\n",
       "0  경기  세종  .   취미오락     유흥       M         40  202001       RED   \n",
       "1  경남  세종  .  스포츠활동  레저스포츠       M         30  202001       RED   \n",
       "2  광주  세종  .   취미오락   패션쇼핑       M         30  202001       RED   \n",
       "3  인천  세종  .   취미오락  인터넷게임       M         30  202001       RED   \n",
       "4  경기  세종  .   취미오락     유흥       M         40  202001       RED   \n",
       "\n",
       "  apv_ts_dl_tm_r        vlm  usec  \n",
       "0             휴식  6410700.0    45  \n",
       "1             활동   147900.0    15  \n",
       "2             휴식   793050.0     5  \n",
       "3             취침    10200.0    10  \n",
       "4             취침   382500.0     5  "
      ]
     },
     "execution_count": 438,
     "metadata": {},
     "output_type": "execute_result"
    }
   ],
   "source": [
    "data_2020.head(5)"
   ]
  },
  {
   "cell_type": "code",
   "execution_count": 439,
   "metadata": {},
   "outputs": [],
   "source": [
    "db=data_2020[data_2020['gb3']=='여행']"
   ]
  },
  {
   "cell_type": "markdown",
   "metadata": {},
   "source": [
    "## 월별로 나눠보기"
   ]
  },
  {
   "cell_type": "code",
   "execution_count": 466,
   "metadata": {},
   "outputs": [],
   "source": [
    "db_1=db[db['ta_ym']==202006]"
   ]
  },
  {
   "cell_type": "code",
   "execution_count": 467,
   "metadata": {},
   "outputs": [
    {
     "data": {
      "text/html": [
       "<div>\n",
       "<style scoped>\n",
       "    .dataframe tbody tr th:only-of-type {\n",
       "        vertical-align: middle;\n",
       "    }\n",
       "\n",
       "    .dataframe tbody tr th {\n",
       "        vertical-align: top;\n",
       "    }\n",
       "\n",
       "    .dataframe thead th {\n",
       "        text-align: right;\n",
       "    }\n",
       "</style>\n",
       "<table border=\"1\" class=\"dataframe\">\n",
       "  <thead>\n",
       "    <tr style=\"text-align: right;\">\n",
       "      <th></th>\n",
       "      <th>v1</th>\n",
       "      <th>v2</th>\n",
       "      <th>v3</th>\n",
       "      <th>gb3</th>\n",
       "      <th>gb2</th>\n",
       "      <th>sex_ccd</th>\n",
       "      <th>cln_age_r</th>\n",
       "      <th>ta_ym</th>\n",
       "      <th>daw_ccd_r</th>\n",
       "      <th>apv_ts_dl_tm_r</th>\n",
       "      <th>vlm</th>\n",
       "      <th>usec</th>\n",
       "    </tr>\n",
       "  </thead>\n",
       "  <tbody>\n",
       "    <tr>\n",
       "      <th>4606231</th>\n",
       "      <td>울산</td>\n",
       "      <td>울산</td>\n",
       "      <td>북구</td>\n",
       "      <td>여행</td>\n",
       "      <td>숙박</td>\n",
       "      <td>M</td>\n",
       "      <td>20</td>\n",
       "      <td>202006</td>\n",
       "      <td>RED</td>\n",
       "      <td>활동</td>\n",
       "      <td>4986849</td>\n",
       "      <td>178</td>\n",
       "    </tr>\n",
       "    <tr>\n",
       "      <th>4606320</th>\n",
       "      <td>경기</td>\n",
       "      <td>부산</td>\n",
       "      <td>중구</td>\n",
       "      <td>여행</td>\n",
       "      <td>체험</td>\n",
       "      <td>F</td>\n",
       "      <td>20</td>\n",
       "      <td>202006</td>\n",
       "      <td>WHITE</td>\n",
       "      <td>활동</td>\n",
       "      <td>388360</td>\n",
       "      <td>10</td>\n",
       "    </tr>\n",
       "    <tr>\n",
       "      <th>4606321</th>\n",
       "      <td>부산</td>\n",
       "      <td>부산</td>\n",
       "      <td>중구</td>\n",
       "      <td>여행</td>\n",
       "      <td>체험</td>\n",
       "      <td>F</td>\n",
       "      <td>20</td>\n",
       "      <td>202006</td>\n",
       "      <td>RED</td>\n",
       "      <td>휴식</td>\n",
       "      <td>515088</td>\n",
       "      <td>15</td>\n",
       "    </tr>\n",
       "  </tbody>\n",
       "</table>\n",
       "</div>"
      ],
      "text/plain": [
       "         v1  v2  v3 gb3 gb2 sex_ccd  cln_age_r   ta_ym daw_ccd_r  \\\n",
       "4606231  울산  울산  북구  여행  숙박       M         20  202006       RED   \n",
       "4606320  경기  부산  중구  여행  체험       F         20  202006     WHITE   \n",
       "4606321  부산  부산  중구  여행  체험       F         20  202006       RED   \n",
       "\n",
       "        apv_ts_dl_tm_r      vlm  usec  \n",
       "4606231             활동  4986849   178  \n",
       "4606320             활동   388360    10  \n",
       "4606321             휴식   515088    15  "
      ]
     },
     "execution_count": 467,
     "metadata": {},
     "output_type": "execute_result"
    }
   ],
   "source": [
    "db_1.head(3)"
   ]
  },
  {
   "cell_type": "code",
   "execution_count": 468,
   "metadata": {},
   "outputs": [
    {
     "data": {
      "text/plain": [
       "118231"
      ]
     },
     "execution_count": 468,
     "metadata": {},
     "output_type": "execute_result"
    }
   ],
   "source": [
    "len(db_1)"
   ]
  },
  {
   "cell_type": "markdown",
   "metadata": {},
   "source": [
    "## 계산위해 float-> int로 변환"
   ]
  },
  {
   "cell_type": "code",
   "execution_count": 469,
   "metadata": {},
   "outputs": [
    {
     "name": "stderr",
     "output_type": "stream",
     "text": [
      "<ipython-input-469-f3a7a37fdc05>:1: SettingWithCopyWarning: \n",
      "A value is trying to be set on a copy of a slice from a DataFrame.\n",
      "Try using .loc[row_indexer,col_indexer] = value instead\n",
      "\n",
      "See the caveats in the documentation: https://pandas.pydata.org/pandas-docs/stable/user_guide/indexing.html#returning-a-view-versus-a-copy\n",
      "  db['vlm']=db['vlm'].astype(int)\n"
     ]
    }
   ],
   "source": [
    "db['vlm']=db['vlm'].astype(int)"
   ]
  },
  {
   "cell_type": "code",
   "execution_count": 470,
   "metadata": {},
   "outputs": [
    {
     "name": "stdout",
     "output_type": "stream",
     "text": [
      "<class 'pandas.core.frame.DataFrame'>\n",
      "Int64Index: 679483 entries, 14 to 5566987\n",
      "Data columns (total 12 columns):\n",
      " #   Column          Non-Null Count   Dtype \n",
      "---  ------          --------------   ----- \n",
      " 0   v1              679483 non-null  object\n",
      " 1   v2              679483 non-null  object\n",
      " 2   v3              679483 non-null  object\n",
      " 3   gb3             679483 non-null  object\n",
      " 4   gb2             679483 non-null  object\n",
      " 5   sex_ccd         679483 non-null  object\n",
      " 6   cln_age_r       679483 non-null  int64 \n",
      " 7   ta_ym           679483 non-null  int64 \n",
      " 8   daw_ccd_r       679483 non-null  object\n",
      " 9   apv_ts_dl_tm_r  679483 non-null  object\n",
      " 10  vlm             679483 non-null  int32 \n",
      " 11  usec            679483 non-null  int64 \n",
      "dtypes: int32(1), int64(3), object(8)\n",
      "memory usage: 84.8+ MB\n"
     ]
    }
   ],
   "source": [
    "db.info()"
   ]
  },
  {
   "cell_type": "code",
   "execution_count": 471,
   "metadata": {},
   "outputs": [],
   "source": [
    "tb=db_1['v2'].groupby(db['vlm'])"
   ]
  },
  {
   "cell_type": "code",
   "execution_count": 472,
   "metadata": {},
   "outputs": [
    {
     "data": {
      "text/plain": [
       "<pandas.core.groupby.generic.SeriesGroupBy object at 0x000002AD95457610>"
      ]
     },
     "execution_count": 472,
     "metadata": {},
     "output_type": "execute_result"
    }
   ],
   "source": [
    "tb"
   ]
  },
  {
   "cell_type": "code",
   "execution_count": 473,
   "metadata": {},
   "outputs": [],
   "source": [
    "tb=db_1.groupby(['v2'])['vlm'].sum()"
   ]
  },
  {
   "cell_type": "code",
   "execution_count": 474,
   "metadata": {},
   "outputs": [
    {
     "data": {
      "text/plain": [
       "17"
      ]
     },
     "execution_count": 474,
     "metadata": {},
     "output_type": "execute_result"
    }
   ],
   "source": [
    "len(tb)"
   ]
  },
  {
   "cell_type": "code",
   "execution_count": 475,
   "metadata": {},
   "outputs": [
    {
     "data": {
      "text/plain": [
       "v2\n",
       "강원    3.441251e+10\n",
       "경기    5.961206e+10\n",
       "경남    1.247041e+10\n",
       "경북    1.070083e+10\n",
       "광주    3.409783e+09\n",
       "대구    5.742661e+09\n",
       "대전    1.107134e+11\n",
       "부산    3.516129e+10\n",
       "서울    1.971731e+11\n",
       "세종    3.868030e+08\n",
       "울산    3.339165e+09\n",
       "인천    1.687647e+10\n",
       "전남    1.265928e+10\n",
       "전북    7.393768e+09\n",
       "제주    8.023684e+10\n",
       "충남    1.060588e+10\n",
       "충북    6.978600e+09\n",
       "Name: vlm, dtype: float64"
      ]
     },
     "execution_count": 475,
     "metadata": {},
     "output_type": "execute_result"
    }
   ],
   "source": [
    "tb"
   ]
  },
  {
   "cell_type": "code",
   "execution_count": 476,
   "metadata": {},
   "outputs": [],
   "source": [
    "f1=tb.sort_values()"
   ]
  },
  {
   "cell_type": "code",
   "execution_count": 477,
   "metadata": {},
   "outputs": [
    {
     "data": {
      "text/plain": [
       "v2\n",
       "세종    3.868030e+08\n",
       "울산    3.339165e+09\n",
       "광주    3.409783e+09\n",
       "대구    5.742661e+09\n",
       "충북    6.978600e+09\n",
       "전북    7.393768e+09\n",
       "충남    1.060588e+10\n",
       "경북    1.070083e+10\n",
       "경남    1.247041e+10\n",
       "전남    1.265928e+10\n",
       "인천    1.687647e+10\n",
       "강원    3.441251e+10\n",
       "부산    3.516129e+10\n",
       "경기    5.961206e+10\n",
       "제주    8.023684e+10\n",
       "대전    1.107134e+11\n",
       "서울    1.971731e+11\n",
       "Name: vlm, dtype: float64"
      ]
     },
     "execution_count": 477,
     "metadata": {},
     "output_type": "execute_result"
    }
   ],
   "source": [
    "f1"
   ]
  },
  {
   "cell_type": "code",
   "execution_count": null,
   "metadata": {},
   "outputs": [],
   "source": []
  },
  {
   "cell_type": "code",
   "execution_count": 478,
   "metadata": {
    "scrolled": true
   },
   "outputs": [
    {
     "data": {
      "text/plain": [
       "<AxesSubplot:title={'center':'20년도 6월 합산 금액'}, ylabel='v2'>"
      ]
     },
     "execution_count": 478,
     "metadata": {},
     "output_type": "execute_result"
    },
    {
     "data": {
      "image/png": "[encoded data removed]",
      "text/plain": [
       "<Figure size 432x288 with 1 Axes>"
      ]
     },
     "metadata": {
      "needs_background": "light"
     },
     "output_type": "display_data"
    }
   ],
   "source": [
    "f1.plot(kind=\"barh\",title=\"20년도 6월 합산 금액\")"
   ]
  },
  {
   "cell_type": "markdown",
   "metadata": {},
   "source": [
    "# 지역면적?"
   ]
  },
  {
   "cell_type": "code",
   "execution_count": 479,
   "metadata": {},
   "outputs": [],
   "source": [
    "ttang=pd.read_csv('real/gookmin/도시지역면적_시도_시_군_구__20200806143531.csv',encoding='cp949')"
   ]
  },
  {
   "cell_type": "code",
   "execution_count": 480,
   "metadata": {},
   "outputs": [
    {
     "data": {
      "text/html": [
       "<div>\n",
       "<style scoped>\n",
       "    .dataframe tbody tr th:only-of-type {\n",
       "        vertical-align: middle;\n",
       "    }\n",
       "\n",
       "    .dataframe tbody tr th {\n",
       "        vertical-align: top;\n",
       "    }\n",
       "\n",
       "    .dataframe thead th {\n",
       "        text-align: right;\n",
       "    }\n",
       "</style>\n",
       "<table border=\"1\" class=\"dataframe\">\n",
       "  <thead>\n",
       "    <tr style=\"text-align: right;\">\n",
       "      <th></th>\n",
       "      <th>행정구역별</th>\n",
       "      <th>2016</th>\n",
       "      <th>2017</th>\n",
       "      <th>2018</th>\n",
       "    </tr>\n",
       "  </thead>\n",
       "  <tbody>\n",
       "    <tr>\n",
       "      <th>0</th>\n",
       "      <td>전국</td>\n",
       "      <td>17609.52</td>\n",
       "      <td>17635.88</td>\n",
       "      <td>17788.93</td>\n",
       "    </tr>\n",
       "    <tr>\n",
       "      <th>1</th>\n",
       "      <td>서울특별시</td>\n",
       "      <td>606.11</td>\n",
       "      <td>605.60</td>\n",
       "      <td>605.57</td>\n",
       "    </tr>\n",
       "    <tr>\n",
       "      <th>2</th>\n",
       "      <td>부산광역시</td>\n",
       "      <td>940.83</td>\n",
       "      <td>940.83</td>\n",
       "      <td>940.83</td>\n",
       "    </tr>\n",
       "    <tr>\n",
       "      <th>3</th>\n",
       "      <td>대구광역시</td>\n",
       "      <td>797.97</td>\n",
       "      <td>798.00</td>\n",
       "      <td>797.92</td>\n",
       "    </tr>\n",
       "    <tr>\n",
       "      <th>4</th>\n",
       "      <td>인천광역시</td>\n",
       "      <td>580.15</td>\n",
       "      <td>580.14</td>\n",
       "      <td>579.74</td>\n",
       "    </tr>\n",
       "  </tbody>\n",
       "</table>\n",
       "</div>"
      ],
      "text/plain": [
       "   행정구역별      2016      2017      2018\n",
       "0     전국  17609.52  17635.88  17788.93\n",
       "1  서울특별시    606.11    605.60    605.57\n",
       "2  부산광역시    940.83    940.83    940.83\n",
       "3  대구광역시    797.97    798.00    797.92\n",
       "4  인천광역시    580.15    580.14    579.74"
      ]
     },
     "execution_count": 480,
     "metadata": {},
     "output_type": "execute_result"
    }
   ],
   "source": [
    "ttang.head()"
   ]
  },
  {
   "cell_type": "code",
   "execution_count": 481,
   "metadata": {},
   "outputs": [
    {
     "name": "stdout",
     "output_type": "stream",
     "text": [
      "<class 'pandas.core.frame.DataFrame'>\n",
      "RangeIndex: 18 entries, 0 to 17\n",
      "Data columns (total 4 columns):\n",
      " #   Column  Non-Null Count  Dtype  \n",
      "---  ------  --------------  -----  \n",
      " 0   행정구역별   18 non-null     object \n",
      " 1   2016    18 non-null     float64\n",
      " 2   2017    18 non-null     float64\n",
      " 3   2018    18 non-null     float64\n",
      "dtypes: float64(3), object(1)\n",
      "memory usage: 704.0+ bytes\n"
     ]
    }
   ],
   "source": [
    "ttang.info()"
   ]
  },
  {
   "cell_type": "code",
   "execution_count": 482,
   "metadata": {},
   "outputs": [],
   "source": [
    "#나름 최근 분류-필요없는 전국 나누고\n",
    "td=ttang.drop(ttang[ttang.행정구역별=='전국'].index)"
   ]
  },
  {
   "cell_type": "code",
   "execution_count": 483,
   "metadata": {},
   "outputs": [
    {
     "data": {
      "text/html": [
       "<div>\n",
       "<style scoped>\n",
       "    .dataframe tbody tr th:only-of-type {\n",
       "        vertical-align: middle;\n",
       "    }\n",
       "\n",
       "    .dataframe tbody tr th {\n",
       "        vertical-align: top;\n",
       "    }\n",
       "\n",
       "    .dataframe thead th {\n",
       "        text-align: right;\n",
       "    }\n",
       "</style>\n",
       "<table border=\"1\" class=\"dataframe\">\n",
       "  <thead>\n",
       "    <tr style=\"text-align: right;\">\n",
       "      <th></th>\n",
       "      <th>행정구역별</th>\n",
       "      <th>2016</th>\n",
       "      <th>2017</th>\n",
       "      <th>2018</th>\n",
       "    </tr>\n",
       "  </thead>\n",
       "  <tbody>\n",
       "    <tr>\n",
       "      <th>1</th>\n",
       "      <td>서울특별시</td>\n",
       "      <td>606.11</td>\n",
       "      <td>605.60</td>\n",
       "      <td>605.57</td>\n",
       "    </tr>\n",
       "    <tr>\n",
       "      <th>2</th>\n",
       "      <td>부산광역시</td>\n",
       "      <td>940.83</td>\n",
       "      <td>940.83</td>\n",
       "      <td>940.83</td>\n",
       "    </tr>\n",
       "    <tr>\n",
       "      <th>3</th>\n",
       "      <td>대구광역시</td>\n",
       "      <td>797.97</td>\n",
       "      <td>798.00</td>\n",
       "      <td>797.92</td>\n",
       "    </tr>\n",
       "    <tr>\n",
       "      <th>4</th>\n",
       "      <td>인천광역시</td>\n",
       "      <td>580.15</td>\n",
       "      <td>580.14</td>\n",
       "      <td>579.74</td>\n",
       "    </tr>\n",
       "    <tr>\n",
       "      <th>5</th>\n",
       "      <td>광주광역시</td>\n",
       "      <td>481.55</td>\n",
       "      <td>480.05</td>\n",
       "      <td>480.05</td>\n",
       "    </tr>\n",
       "    <tr>\n",
       "      <th>6</th>\n",
       "      <td>대전광역시</td>\n",
       "      <td>495.55</td>\n",
       "      <td>495.55</td>\n",
       "      <td>495.82</td>\n",
       "    </tr>\n",
       "    <tr>\n",
       "      <th>7</th>\n",
       "      <td>울산광역시</td>\n",
       "      <td>755.55</td>\n",
       "      <td>755.55</td>\n",
       "      <td>755.55</td>\n",
       "    </tr>\n",
       "    <tr>\n",
       "      <th>8</th>\n",
       "      <td>세종특별자치시</td>\n",
       "      <td>140.97</td>\n",
       "      <td>141.47</td>\n",
       "      <td>142.72</td>\n",
       "    </tr>\n",
       "    <tr>\n",
       "      <th>9</th>\n",
       "      <td>경기도</td>\n",
       "      <td>3367.49</td>\n",
       "      <td>3371.08</td>\n",
       "      <td>3376.01</td>\n",
       "    </tr>\n",
       "    <tr>\n",
       "      <th>10</th>\n",
       "      <td>강원도</td>\n",
       "      <td>1027.20</td>\n",
       "      <td>1027.23</td>\n",
       "      <td>1028.78</td>\n",
       "    </tr>\n",
       "    <tr>\n",
       "      <th>11</th>\n",
       "      <td>충청북도</td>\n",
       "      <td>729.05</td>\n",
       "      <td>731.35</td>\n",
       "      <td>731.00</td>\n",
       "    </tr>\n",
       "    <tr>\n",
       "      <th>12</th>\n",
       "      <td>충청남도</td>\n",
       "      <td>905.13</td>\n",
       "      <td>903.90</td>\n",
       "      <td>904.91</td>\n",
       "    </tr>\n",
       "    <tr>\n",
       "      <th>13</th>\n",
       "      <td>전라북도</td>\n",
       "      <td>885.72</td>\n",
       "      <td>886.47</td>\n",
       "      <td>886.47</td>\n",
       "    </tr>\n",
       "    <tr>\n",
       "      <th>14</th>\n",
       "      <td>전라남도</td>\n",
       "      <td>1697.91</td>\n",
       "      <td>1698.91</td>\n",
       "      <td>1718.43</td>\n",
       "    </tr>\n",
       "    <tr>\n",
       "      <th>15</th>\n",
       "      <td>경상북도</td>\n",
       "      <td>1855.42</td>\n",
       "      <td>1856.75</td>\n",
       "      <td>1866.79</td>\n",
       "    </tr>\n",
       "    <tr>\n",
       "      <th>16</th>\n",
       "      <td>경상남도</td>\n",
       "      <td>1889.76</td>\n",
       "      <td>1892.61</td>\n",
       "      <td>2007.72</td>\n",
       "    </tr>\n",
       "    <tr>\n",
       "      <th>17</th>\n",
       "      <td>제주특별자치도</td>\n",
       "      <td>453.17</td>\n",
       "      <td>470.41</td>\n",
       "      <td>470.63</td>\n",
       "    </tr>\n",
       "  </tbody>\n",
       "</table>\n",
       "</div>"
      ],
      "text/plain": [
       "      행정구역별     2016     2017     2018\n",
       "1     서울특별시   606.11   605.60   605.57\n",
       "2     부산광역시   940.83   940.83   940.83\n",
       "3     대구광역시   797.97   798.00   797.92\n",
       "4     인천광역시   580.15   580.14   579.74\n",
       "5     광주광역시   481.55   480.05   480.05\n",
       "6     대전광역시   495.55   495.55   495.82\n",
       "7     울산광역시   755.55   755.55   755.55\n",
       "8   세종특별자치시   140.97   141.47   142.72\n",
       "9       경기도  3367.49  3371.08  3376.01\n",
       "10      강원도  1027.20  1027.23  1028.78\n",
       "11     충청북도   729.05   731.35   731.00\n",
       "12     충청남도   905.13   903.90   904.91\n",
       "13     전라북도   885.72   886.47   886.47\n",
       "14     전라남도  1697.91  1698.91  1718.43\n",
       "15     경상북도  1855.42  1856.75  1866.79\n",
       "16     경상남도  1889.76  1892.61  2007.72\n",
       "17  제주특별자치도   453.17   470.41   470.63"
      ]
     },
     "execution_count": 483,
     "metadata": {},
     "output_type": "execute_result"
    }
   ],
   "source": [
    "td"
   ]
  },
  {
   "cell_type": "code",
   "execution_count": 484,
   "metadata": {},
   "outputs": [],
   "source": [
    "td=td[['행정구역별','2018']]"
   ]
  },
  {
   "cell_type": "code",
   "execution_count": 485,
   "metadata": {},
   "outputs": [
    {
     "name": "stdout",
     "output_type": "stream",
     "text": [
      "<class 'pandas.core.frame.DataFrame'>\n",
      "Int64Index: 17 entries, 1 to 17\n",
      "Data columns (total 2 columns):\n",
      " #   Column  Non-Null Count  Dtype  \n",
      "---  ------  --------------  -----  \n",
      " 0   행정구역별   17 non-null     object \n",
      " 1   2018    17 non-null     float64\n",
      "dtypes: float64(1), object(1)\n",
      "memory usage: 408.0+ bytes\n"
     ]
    }
   ],
   "source": [
    "td.info()"
   ]
  },
  {
   "cell_type": "code",
   "execution_count": 486,
   "metadata": {},
   "outputs": [
    {
     "data": {
      "text/html": [
       "<div>\n",
       "<style scoped>\n",
       "    .dataframe tbody tr th:only-of-type {\n",
       "        vertical-align: middle;\n",
       "    }\n",
       "\n",
       "    .dataframe tbody tr th {\n",
       "        vertical-align: top;\n",
       "    }\n",
       "\n",
       "    .dataframe thead th {\n",
       "        text-align: right;\n",
       "    }\n",
       "</style>\n",
       "<table border=\"1\" class=\"dataframe\">\n",
       "  <thead>\n",
       "    <tr style=\"text-align: right;\">\n",
       "      <th></th>\n",
       "      <th>행정구역별</th>\n",
       "      <th>2018</th>\n",
       "    </tr>\n",
       "  </thead>\n",
       "  <tbody>\n",
       "    <tr>\n",
       "      <th>1</th>\n",
       "      <td>서울특별시</td>\n",
       "      <td>605.57</td>\n",
       "    </tr>\n",
       "    <tr>\n",
       "      <th>2</th>\n",
       "      <td>부산광역시</td>\n",
       "      <td>940.83</td>\n",
       "    </tr>\n",
       "    <tr>\n",
       "      <th>3</th>\n",
       "      <td>대구광역시</td>\n",
       "      <td>797.92</td>\n",
       "    </tr>\n",
       "  </tbody>\n",
       "</table>\n",
       "</div>"
      ],
      "text/plain": [
       "   행정구역별    2018\n",
       "1  서울특별시  605.57\n",
       "2  부산광역시  940.83\n",
       "3  대구광역시  797.92"
      ]
     },
     "execution_count": 486,
     "metadata": {},
     "output_type": "execute_result"
    }
   ],
   "source": [
    "td.head(3)"
   ]
  },
  {
   "cell_type": "code",
   "execution_count": 487,
   "metadata": {},
   "outputs": [
    {
     "name": "stderr",
     "output_type": "stream",
     "text": [
      "<ipython-input-487-f3a7a37fdc05>:1: SettingWithCopyWarning: \n",
      "A value is trying to be set on a copy of a slice from a DataFrame.\n",
      "Try using .loc[row_indexer,col_indexer] = value instead\n",
      "\n",
      "See the caveats in the documentation: https://pandas.pydata.org/pandas-docs/stable/user_guide/indexing.html#returning-a-view-versus-a-copy\n",
      "  db['vlm']=db['vlm'].astype(int)\n"
     ]
    }
   ],
   "source": [
    "db['vlm']=db['vlm'].astype(int)"
   ]
  },
  {
   "cell_type": "code",
   "execution_count": 488,
   "metadata": {},
   "outputs": [
    {
     "name": "stderr",
     "output_type": "stream",
     "text": [
      "<ipython-input-488-8f4015abc0ee>:1: SettingWithCopyWarning: \n",
      "A value is trying to be set on a copy of a slice from a DataFrame.\n",
      "Try using .loc[row_indexer,col_indexer] = value instead\n",
      "\n",
      "See the caveats in the documentation: https://pandas.pydata.org/pandas-docs/stable/user_guide/indexing.html#returning-a-view-versus-a-copy\n",
      "  td['2018']=td['2018'].astype(int)\n"
     ]
    }
   ],
   "source": [
    "td['2018']=td['2018'].astype(int)"
   ]
  },
  {
   "cell_type": "markdown",
   "metadata": {},
   "source": [
    "## 데이터 프레임화"
   ]
  },
  {
   "cell_type": "code",
   "execution_count": 489,
   "metadata": {},
   "outputs": [
    {
     "data": {
      "text/plain": [
       "v2\n",
       "강원    3.441251e+10\n",
       "경기    5.961206e+10\n",
       "경남    1.247041e+10\n",
       "경북    1.070083e+10\n",
       "광주    3.409783e+09\n",
       "대구    5.742661e+09\n",
       "대전    1.107134e+11\n",
       "부산    3.516129e+10\n",
       "서울    1.971731e+11\n",
       "세종    3.868030e+08\n",
       "울산    3.339165e+09\n",
       "인천    1.687647e+10\n",
       "전남    1.265928e+10\n",
       "전북    7.393768e+09\n",
       "제주    8.023684e+10\n",
       "충남    1.060588e+10\n",
       "충북    6.978600e+09\n",
       "Name: vlm, dtype: float64"
      ]
     },
     "execution_count": 489,
     "metadata": {},
     "output_type": "execute_result"
    }
   ],
   "source": [
    "tb"
   ]
  },
  {
   "cell_type": "code",
   "execution_count": 490,
   "metadata": {
    "scrolled": true
   },
   "outputs": [],
   "source": [
    "new=pd.DataFrame(tb)"
   ]
  },
  {
   "cell_type": "code",
   "execution_count": 491,
   "metadata": {},
   "outputs": [],
   "source": [
    "new.to_excel('2006.xlsx')"
   ]
  },
  {
   "cell_type": "markdown",
   "metadata": {},
   "source": [
    "## 합칠려고 변수명 변경"
   ]
  },
  {
   "cell_type": "code",
   "execution_count": 161,
   "metadata": {},
   "outputs": [
    {
     "name": "stderr",
     "output_type": "stream",
     "text": [
      "<ipython-input-161-c887f048e13c>:1: SettingWithCopyWarning: \n",
      "A value is trying to be set on a copy of a slice from a DataFrame.\n",
      "Try using .loc[row_indexer,col_indexer] = value instead\n",
      "\n",
      "See the caveats in the documentation: https://pandas.pydata.org/pandas-docs/stable/user_guide/indexing.html#returning-a-view-versus-a-copy\n",
      "  td['행정구역별']=['서울','부산','대구','인천','광주','대전','울산','세종',\n"
     ]
    }
   ],
   "source": [
    "td['행정구역별']=['서울','부산','대구','인천','광주','대전','울산','세종',\n",
    "            '경기','강원','충북','충남','전북','전남','경북','경남','제주']"
   ]
  },
  {
   "cell_type": "code",
   "execution_count": 164,
   "metadata": {},
   "outputs": [
    {
     "data": {
      "text/html": [
       "<div>\n",
       "<style scoped>\n",
       "    .dataframe tbody tr th:only-of-type {\n",
       "        vertical-align: middle;\n",
       "    }\n",
       "\n",
       "    .dataframe tbody tr th {\n",
       "        vertical-align: top;\n",
       "    }\n",
       "\n",
       "    .dataframe thead th {\n",
       "        text-align: right;\n",
       "    }\n",
       "</style>\n",
       "<table border=\"1\" class=\"dataframe\">\n",
       "  <thead>\n",
       "    <tr style=\"text-align: right;\">\n",
       "      <th></th>\n",
       "      <th>v2</th>\n",
       "      <th>2018</th>\n",
       "    </tr>\n",
       "  </thead>\n",
       "  <tbody>\n",
       "    <tr>\n",
       "      <th>1</th>\n",
       "      <td>서울</td>\n",
       "      <td>605.57</td>\n",
       "    </tr>\n",
       "    <tr>\n",
       "      <th>2</th>\n",
       "      <td>부산</td>\n",
       "      <td>940.83</td>\n",
       "    </tr>\n",
       "    <tr>\n",
       "      <th>3</th>\n",
       "      <td>대구</td>\n",
       "      <td>797.92</td>\n",
       "    </tr>\n",
       "    <tr>\n",
       "      <th>4</th>\n",
       "      <td>인천</td>\n",
       "      <td>579.74</td>\n",
       "    </tr>\n",
       "    <tr>\n",
       "      <th>5</th>\n",
       "      <td>광주</td>\n",
       "      <td>480.05</td>\n",
       "    </tr>\n",
       "  </tbody>\n",
       "</table>\n",
       "</div>"
      ],
      "text/plain": [
       "   v2    2018\n",
       "1  서울  605.57\n",
       "2  부산  940.83\n",
       "3  대구  797.92\n",
       "4  인천  579.74\n",
       "5  광주  480.05"
      ]
     },
     "execution_count": 164,
     "metadata": {},
     "output_type": "execute_result"
    }
   ],
   "source": [
    "td.head()"
   ]
  },
  {
   "cell_type": "code",
   "execution_count": 163,
   "metadata": {
    "scrolled": true
   },
   "outputs": [
    {
     "name": "stderr",
     "output_type": "stream",
     "text": [
      "C:\\Users\\205\\.conda\\envs\\rdata\\lib\\site-packages\\pandas\\core\\frame.py:4125: SettingWithCopyWarning: \n",
      "A value is trying to be set on a copy of a slice from a DataFrame\n",
      "\n",
      "See the caveats in the documentation: https://pandas.pydata.org/pandas-docs/stable/user_guide/indexing.html#returning-a-view-versus-a-copy\n",
      "  return super().rename(\n"
     ]
    }
   ],
   "source": [
    "td.rename(columns={\"행정구역별\":\"v2\"},inplace=True)"
   ]
  },
  {
   "cell_type": "code",
   "execution_count": 187,
   "metadata": {},
   "outputs": [
    {
     "data": {
      "text/html": [
       "<div>\n",
       "<style scoped>\n",
       "    .dataframe tbody tr th:only-of-type {\n",
       "        vertical-align: middle;\n",
       "    }\n",
       "\n",
       "    .dataframe tbody tr th {\n",
       "        vertical-align: top;\n",
       "    }\n",
       "\n",
       "    .dataframe thead th {\n",
       "        text-align: right;\n",
       "    }\n",
       "</style>\n",
       "<table border=\"1\" class=\"dataframe\">\n",
       "  <thead>\n",
       "    <tr style=\"text-align: right;\">\n",
       "      <th></th>\n",
       "      <th>vlm</th>\n",
       "    </tr>\n",
       "    <tr>\n",
       "      <th>v2</th>\n",
       "      <th></th>\n",
       "    </tr>\n",
       "  </thead>\n",
       "  <tbody>\n",
       "    <tr>\n",
       "      <th>강원</th>\n",
       "      <td>-2147483648</td>\n",
       "    </tr>\n",
       "    <tr>\n",
       "      <th>경기</th>\n",
       "      <td>-2147483648</td>\n",
       "    </tr>\n",
       "    <tr>\n",
       "      <th>경남</th>\n",
       "      <td>-2147483648</td>\n",
       "    </tr>\n",
       "    <tr>\n",
       "      <th>경북</th>\n",
       "      <td>-2147483648</td>\n",
       "    </tr>\n",
       "    <tr>\n",
       "      <th>광주</th>\n",
       "      <td>-2147483648</td>\n",
       "    </tr>\n",
       "    <tr>\n",
       "      <th>대구</th>\n",
       "      <td>-2147483648</td>\n",
       "    </tr>\n",
       "    <tr>\n",
       "      <th>대전</th>\n",
       "      <td>-2147483648</td>\n",
       "    </tr>\n",
       "    <tr>\n",
       "      <th>부산</th>\n",
       "      <td>-2147483648</td>\n",
       "    </tr>\n",
       "    <tr>\n",
       "      <th>서울</th>\n",
       "      <td>-2147483648</td>\n",
       "    </tr>\n",
       "    <tr>\n",
       "      <th>세종</th>\n",
       "      <td>1851192273</td>\n",
       "    </tr>\n",
       "    <tr>\n",
       "      <th>울산</th>\n",
       "      <td>-2147483648</td>\n",
       "    </tr>\n",
       "    <tr>\n",
       "      <th>인천</th>\n",
       "      <td>-2147483648</td>\n",
       "    </tr>\n",
       "    <tr>\n",
       "      <th>전남</th>\n",
       "      <td>-2147483648</td>\n",
       "    </tr>\n",
       "    <tr>\n",
       "      <th>전북</th>\n",
       "      <td>-2147483648</td>\n",
       "    </tr>\n",
       "    <tr>\n",
       "      <th>제주</th>\n",
       "      <td>-2147483648</td>\n",
       "    </tr>\n",
       "    <tr>\n",
       "      <th>충남</th>\n",
       "      <td>-2147483648</td>\n",
       "    </tr>\n",
       "    <tr>\n",
       "      <th>충북</th>\n",
       "      <td>-2147483648</td>\n",
       "    </tr>\n",
       "  </tbody>\n",
       "</table>\n",
       "</div>"
      ],
      "text/plain": [
       "           vlm\n",
       "v2            \n",
       "강원 -2147483648\n",
       "경기 -2147483648\n",
       "경남 -2147483648\n",
       "경북 -2147483648\n",
       "광주 -2147483648\n",
       "대구 -2147483648\n",
       "대전 -2147483648\n",
       "부산 -2147483648\n",
       "서울 -2147483648\n",
       "세종  1851192273\n",
       "울산 -2147483648\n",
       "인천 -2147483648\n",
       "전남 -2147483648\n",
       "전북 -2147483648\n",
       "제주 -2147483648\n",
       "충남 -2147483648\n",
       "충북 -2147483648"
      ]
     },
     "execution_count": 187,
     "metadata": {},
     "output_type": "execute_result"
    }
   ],
   "source": [
    "new"
   ]
  },
  {
   "cell_type": "code",
   "execution_count": 186,
   "metadata": {},
   "outputs": [
    {
     "data": {
      "text/html": [
       "<div>\n",
       "<style scoped>\n",
       "    .dataframe tbody tr th:only-of-type {\n",
       "        vertical-align: middle;\n",
       "    }\n",
       "\n",
       "    .dataframe tbody tr th {\n",
       "        vertical-align: top;\n",
       "    }\n",
       "\n",
       "    .dataframe thead th {\n",
       "        text-align: right;\n",
       "    }\n",
       "</style>\n",
       "<table border=\"1\" class=\"dataframe\">\n",
       "  <thead>\n",
       "    <tr style=\"text-align: right;\">\n",
       "      <th></th>\n",
       "      <th>vlm</th>\n",
       "    </tr>\n",
       "    <tr>\n",
       "      <th>v2</th>\n",
       "      <th></th>\n",
       "    </tr>\n",
       "  </thead>\n",
       "  <tbody>\n",
       "    <tr>\n",
       "      <th>강원</th>\n",
       "      <td>-2147483648</td>\n",
       "    </tr>\n",
       "  </tbody>\n",
       "</table>\n",
       "</div>"
      ],
      "text/plain": [
       "           vlm\n",
       "v2            \n",
       "강원 -2147483648"
      ]
     },
     "execution_count": 186,
     "metadata": {},
     "output_type": "execute_result"
    }
   ],
   "source": [
    "new[0:1]"
   ]
  },
  {
   "cell_type": "code",
   "execution_count": 183,
   "metadata": {},
   "outputs": [
    {
     "name": "stderr",
     "output_type": "stream",
     "text": [
      "<ipython-input-183-903be43b005e>:1: SettingWithCopyWarning: \n",
      "A value is trying to be set on a copy of a slice from a DataFrame.\n",
      "Try using .loc[row_indexer,col_indexer] = value instead\n",
      "\n",
      "See the caveats in the documentation: https://pandas.pydata.org/pandas-docs/stable/user_guide/indexing.html#returning-a-view-versus-a-copy\n",
      "  td['2018']=td['2018'].astype(int)\n"
     ]
    }
   ],
   "source": [
    "td['2018']=td['2018'].astype(int)\n",
    "new['vlm']=new['vlm'].astype(int)"
   ]
  },
  {
   "cell_type": "code",
   "execution_count": 173,
   "metadata": {
    "scrolled": true
   },
   "outputs": [
    {
     "data": {
      "text/html": [
       "<div>\n",
       "<style scoped>\n",
       "    .dataframe tbody tr th:only-of-type {\n",
       "        vertical-align: middle;\n",
       "    }\n",
       "\n",
       "    .dataframe tbody tr th {\n",
       "        vertical-align: top;\n",
       "    }\n",
       "\n",
       "    .dataframe thead th {\n",
       "        text-align: right;\n",
       "    }\n",
       "</style>\n",
       "<table border=\"1\" class=\"dataframe\">\n",
       "  <thead>\n",
       "    <tr style=\"text-align: right;\">\n",
       "      <th></th>\n",
       "      <th>v2</th>\n",
       "      <th>2018</th>\n",
       "    </tr>\n",
       "  </thead>\n",
       "  <tbody>\n",
       "    <tr>\n",
       "      <th>1</th>\n",
       "      <td>서울</td>\n",
       "      <td>605.57</td>\n",
       "    </tr>\n",
       "    <tr>\n",
       "      <th>2</th>\n",
       "      <td>부산</td>\n",
       "      <td>940.83</td>\n",
       "    </tr>\n",
       "    <tr>\n",
       "      <th>3</th>\n",
       "      <td>대구</td>\n",
       "      <td>797.92</td>\n",
       "    </tr>\n",
       "    <tr>\n",
       "      <th>4</th>\n",
       "      <td>인천</td>\n",
       "      <td>579.74</td>\n",
       "    </tr>\n",
       "    <tr>\n",
       "      <th>5</th>\n",
       "      <td>광주</td>\n",
       "      <td>480.05</td>\n",
       "    </tr>\n",
       "    <tr>\n",
       "      <th>6</th>\n",
       "      <td>대전</td>\n",
       "      <td>495.82</td>\n",
       "    </tr>\n",
       "    <tr>\n",
       "      <th>7</th>\n",
       "      <td>울산</td>\n",
       "      <td>755.55</td>\n",
       "    </tr>\n",
       "    <tr>\n",
       "      <th>8</th>\n",
       "      <td>세종</td>\n",
       "      <td>142.72</td>\n",
       "    </tr>\n",
       "    <tr>\n",
       "      <th>9</th>\n",
       "      <td>경기</td>\n",
       "      <td>3376.01</td>\n",
       "    </tr>\n",
       "    <tr>\n",
       "      <th>10</th>\n",
       "      <td>강원</td>\n",
       "      <td>1028.78</td>\n",
       "    </tr>\n",
       "    <tr>\n",
       "      <th>11</th>\n",
       "      <td>충북</td>\n",
       "      <td>731.00</td>\n",
       "    </tr>\n",
       "    <tr>\n",
       "      <th>12</th>\n",
       "      <td>충남</td>\n",
       "      <td>904.91</td>\n",
       "    </tr>\n",
       "    <tr>\n",
       "      <th>13</th>\n",
       "      <td>전북</td>\n",
       "      <td>886.47</td>\n",
       "    </tr>\n",
       "    <tr>\n",
       "      <th>14</th>\n",
       "      <td>전남</td>\n",
       "      <td>1718.43</td>\n",
       "    </tr>\n",
       "    <tr>\n",
       "      <th>15</th>\n",
       "      <td>경북</td>\n",
       "      <td>1866.79</td>\n",
       "    </tr>\n",
       "    <tr>\n",
       "      <th>16</th>\n",
       "      <td>경남</td>\n",
       "      <td>2007.72</td>\n",
       "    </tr>\n",
       "    <tr>\n",
       "      <th>17</th>\n",
       "      <td>제주</td>\n",
       "      <td>470.63</td>\n",
       "    </tr>\n",
       "  </tbody>\n",
       "</table>\n",
       "</div>"
      ],
      "text/plain": [
       "    v2     2018\n",
       "1   서울   605.57\n",
       "2   부산   940.83\n",
       "3   대구   797.92\n",
       "4   인천   579.74\n",
       "5   광주   480.05\n",
       "6   대전   495.82\n",
       "7   울산   755.55\n",
       "8   세종   142.72\n",
       "9   경기  3376.01\n",
       "10  강원  1028.78\n",
       "11  충북   731.00\n",
       "12  충남   904.91\n",
       "13  전북   886.47\n",
       "14  전남  1718.43\n",
       "15  경북  1866.79\n",
       "16  경남  2007.72\n",
       "17  제주   470.63"
      ]
     },
     "execution_count": 173,
     "metadata": {},
     "output_type": "execute_result"
    }
   ],
   "source": [
    "result['2018']=result['2018'].astype(int)\n",
    "result['vlm']=result['vlm'].astype(int)"
   ]
  },
  {
   "cell_type": "code",
   "execution_count": 198,
   "metadata": {},
   "outputs": [],
   "source": [
    "pd_2001=pd.read_excel('2001.xlsx')"
   ]
  },
  {
   "cell_type": "markdown",
   "metadata": {},
   "source": [
    "# 결과물"
   ]
  },
  {
   "cell_type": "code",
   "execution_count": 200,
   "metadata": {},
   "outputs": [
    {
     "data": {
      "text/html": [
       "<div>\n",
       "<style scoped>\n",
       "    .dataframe tbody tr th:only-of-type {\n",
       "        vertical-align: middle;\n",
       "    }\n",
       "\n",
       "    .dataframe tbody tr th {\n",
       "        vertical-align: top;\n",
       "    }\n",
       "\n",
       "    .dataframe thead th {\n",
       "        text-align: right;\n",
       "    }\n",
       "</style>\n",
       "<table border=\"1\" class=\"dataframe\">\n",
       "  <thead>\n",
       "    <tr style=\"text-align: right;\">\n",
       "      <th></th>\n",
       "      <th>v2</th>\n",
       "      <th>vlm</th>\n",
       "      <th>2018</th>\n",
       "    </tr>\n",
       "  </thead>\n",
       "  <tbody>\n",
       "    <tr>\n",
       "      <th>0</th>\n",
       "      <td>강원</td>\n",
       "      <td>193976756500</td>\n",
       "      <td>1028</td>\n",
       "    </tr>\n",
       "    <tr>\n",
       "      <th>1</th>\n",
       "      <td>경기</td>\n",
       "      <td>361324045745</td>\n",
       "      <td>3376</td>\n",
       "    </tr>\n",
       "    <tr>\n",
       "      <th>2</th>\n",
       "      <td>경남</td>\n",
       "      <td>69165437881</td>\n",
       "      <td>2007</td>\n",
       "    </tr>\n",
       "    <tr>\n",
       "      <th>3</th>\n",
       "      <td>경북</td>\n",
       "      <td>53219623676</td>\n",
       "      <td>1866</td>\n",
       "    </tr>\n",
       "    <tr>\n",
       "      <th>4</th>\n",
       "      <td>광주</td>\n",
       "      <td>19946565114</td>\n",
       "      <td>480</td>\n",
       "    </tr>\n",
       "    <tr>\n",
       "      <th>5</th>\n",
       "      <td>대구</td>\n",
       "      <td>35313670153</td>\n",
       "      <td>797</td>\n",
       "    </tr>\n",
       "    <tr>\n",
       "      <th>6</th>\n",
       "      <td>대전</td>\n",
       "      <td>642106708520</td>\n",
       "      <td>495</td>\n",
       "    </tr>\n",
       "    <tr>\n",
       "      <th>7</th>\n",
       "      <td>부산</td>\n",
       "      <td>198896979157</td>\n",
       "      <td>940</td>\n",
       "    </tr>\n",
       "    <tr>\n",
       "      <th>8</th>\n",
       "      <td>서울</td>\n",
       "      <td>1367464537376</td>\n",
       "      <td>605</td>\n",
       "    </tr>\n",
       "    <tr>\n",
       "      <th>9</th>\n",
       "      <td>세종</td>\n",
       "      <td>1851192273</td>\n",
       "      <td>142</td>\n",
       "    </tr>\n",
       "    <tr>\n",
       "      <th>10</th>\n",
       "      <td>울산</td>\n",
       "      <td>19061011187</td>\n",
       "      <td>755</td>\n",
       "    </tr>\n",
       "    <tr>\n",
       "      <th>11</th>\n",
       "      <td>인천</td>\n",
       "      <td>197957140538</td>\n",
       "      <td>579</td>\n",
       "    </tr>\n",
       "    <tr>\n",
       "      <th>12</th>\n",
       "      <td>전남</td>\n",
       "      <td>62896232235</td>\n",
       "      <td>1718</td>\n",
       "    </tr>\n",
       "    <tr>\n",
       "      <th>13</th>\n",
       "      <td>전북</td>\n",
       "      <td>79358546713</td>\n",
       "      <td>886</td>\n",
       "    </tr>\n",
       "    <tr>\n",
       "      <th>14</th>\n",
       "      <td>제주</td>\n",
       "      <td>360563143784</td>\n",
       "      <td>470</td>\n",
       "    </tr>\n",
       "    <tr>\n",
       "      <th>15</th>\n",
       "      <td>충남</td>\n",
       "      <td>52763162965</td>\n",
       "      <td>904</td>\n",
       "    </tr>\n",
       "    <tr>\n",
       "      <th>16</th>\n",
       "      <td>충북</td>\n",
       "      <td>37601556803</td>\n",
       "      <td>731</td>\n",
       "    </tr>\n",
       "  </tbody>\n",
       "</table>\n",
       "</div>"
      ],
      "text/plain": [
       "    v2            vlm  2018\n",
       "0   강원   193976756500  1028\n",
       "1   경기   361324045745  3376\n",
       "2   경남    69165437881  2007\n",
       "3   경북    53219623676  1866\n",
       "4   광주    19946565114   480\n",
       "5   대구    35313670153   797\n",
       "6   대전   642106708520   495\n",
       "7   부산   198896979157   940\n",
       "8   서울  1367464537376   605\n",
       "9   세종     1851192273   142\n",
       "10  울산    19061011187   755\n",
       "11  인천   197957140538   579\n",
       "12  전남    62896232235  1718\n",
       "13  전북    79358546713   886\n",
       "14  제주   360563143784   470\n",
       "15  충남    52763162965   904\n",
       "16  충북    37601556803   731"
      ]
     },
     "execution_count": 200,
     "metadata": {},
     "output_type": "execute_result"
    }
   ],
   "source": [
    "pd_2001"
   ]
  },
  {
   "cell_type": "code",
   "execution_count": 211,
   "metadata": {},
   "outputs": [
    {
     "data": {
      "text/plain": [
       "<AxesSubplot:>"
      ]
     },
     "execution_count": 211,
     "metadata": {},
     "output_type": "execute_result"
    },
    {
     "data": {
      "image/png": "[encoded data removed]",
      "text/plain": [
       "<Figure size 432x288 with 1 Axes>"
      ]
     },
     "metadata": {},
     "output_type": "display_data"
    }
   ],
   "source": [
    "pd_2001[[\"vlm\",2018]].plot(kind=\"barh\",stacked=True)"
   ]
  },
  {
   "cell_type": "code",
   "execution_count": 208,
   "metadata": {},
   "outputs": [
    {
     "data": {
      "text/plain": [
       "<AxesSubplot:>"
      ]
     },
     "execution_count": 208,
     "metadata": {},
     "output_type": "execute_result"
    },
    {
     "data": {
      "image/png": "[encoded data removed]",
      "text/plain": [
       "<Figure size 432x288 with 1 Axes>"
      ]
     },
     "metadata": {},
     "output_type": "display_data"
    }
   ],
   "source": [
    "pd_2001.plot.bar()"
   ]
  }
 ],
 "metadata": {
  "kernelspec": {
   "display_name": "Python 3",
   "language": "python",
   "name": "python3"
  },
  "language_info": {
   "codemirror_mode": {
    "name": "ipython",
    "version": 3
   },
   "file_extension": ".py",
   "mimetype": "text/x-python",
   "name": "python",
   "nbconvert_exporter": "python",
   "pygments_lexer": "ipython3",
   "version": "3.8.5"
  }
 },
 "nbformat": 4,
 "nbformat_minor": 4
}
